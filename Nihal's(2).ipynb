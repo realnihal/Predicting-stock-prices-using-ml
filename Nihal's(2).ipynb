{
  "nbformat": 4,
  "nbformat_minor": 0,
  "metadata": {
    "kernelspec": {
      "display_name": "Python 3",
      "language": "python",
      "name": "python3"
    },
    "language_info": {
      "codemirror_mode": {
        "name": "ipython",
        "version": 3
      },
      "file_extension": ".py",
      "mimetype": "text/x-python",
      "name": "python",
      "nbconvert_exporter": "python",
      "pygments_lexer": "ipython3",
      "version": "3.7.9"
    },
    "colab": {
      "name": "Finproj.ipynb",
      "provenance": []
    },
    "accelerator": "GPU"
  },
  "cells": [
    {
      "cell_type": "code",
      "metadata": {
        "id": "33L8XsVafnR0"
      },
      "source": [
        "from datetime import datetime\n",
        "import pandas as pd\n",
        "import numpy as np\n",
        "import pandas_datareader.data as web\n",
        "import matplotlib.pyplot as plt"
      ],
      "execution_count": 1,
      "outputs": []
    },
    {
      "cell_type": "markdown",
      "metadata": {
        "id": "ewmxjdrtiOPH"
      },
      "source": [
        "#**Getting** **basic data**"
      ]
    },
    {
      "cell_type": "code",
      "metadata": {
        "id": "sln8ahPlfnR3"
      },
      "source": [
        "start = datetime(1999, 3, 9)\n",
        "end = datetime.today()\n",
        "yahoo = web.DataReader('AMZN','yahoo',start=start,end=end)\n",
        "yahoo.info\n",
        "data = yahoo"
      ],
      "execution_count": 2,
      "outputs": []
    },
    {
      "cell_type": "code",
      "metadata": {
        "id": "eplIDO1efnR7",
        "outputId": "542ecd0c-7074-48bd-8a9d-a026efe423bd",
        "colab": {
          "base_uri": "https://localhost:8080/",
          "height": 235
        }
      },
      "source": [
        "data.to_csv('DATA.csv')\n",
        "data.head()"
      ],
      "execution_count": 3,
      "outputs": [
        {
          "output_type": "execute_result",
          "data": {
            "text/html": [
              "<div>\n",
              "<style scoped>\n",
              "    .dataframe tbody tr th:only-of-type {\n",
              "        vertical-align: middle;\n",
              "    }\n",
              "\n",
              "    .dataframe tbody tr th {\n",
              "        vertical-align: top;\n",
              "    }\n",
              "\n",
              "    .dataframe thead th {\n",
              "        text-align: right;\n",
              "    }\n",
              "</style>\n",
              "<table border=\"1\" class=\"dataframe\">\n",
              "  <thead>\n",
              "    <tr style=\"text-align: right;\">\n",
              "      <th></th>\n",
              "      <th>High</th>\n",
              "      <th>Low</th>\n",
              "      <th>Open</th>\n",
              "      <th>Close</th>\n",
              "      <th>Volume</th>\n",
              "      <th>Adj Close</th>\n",
              "    </tr>\n",
              "    <tr>\n",
              "      <th>Date</th>\n",
              "      <th></th>\n",
              "      <th></th>\n",
              "      <th></th>\n",
              "      <th></th>\n",
              "      <th></th>\n",
              "      <th></th>\n",
              "    </tr>\n",
              "  </thead>\n",
              "  <tbody>\n",
              "    <tr>\n",
              "      <th>1999-03-09</th>\n",
              "      <td>66.62500</td>\n",
              "      <td>61.71875</td>\n",
              "      <td>62.5625</td>\n",
              "      <td>64.96875</td>\n",
              "      <td>16292000.0</td>\n",
              "      <td>64.96875</td>\n",
              "    </tr>\n",
              "    <tr>\n",
              "      <th>1999-03-10</th>\n",
              "      <td>69.46875</td>\n",
              "      <td>67.00000</td>\n",
              "      <td>68.3750</td>\n",
              "      <td>68.56250</td>\n",
              "      <td>14117600.0</td>\n",
              "      <td>68.56250</td>\n",
              "    </tr>\n",
              "    <tr>\n",
              "      <th>1999-03-11</th>\n",
              "      <td>71.37500</td>\n",
              "      <td>65.50000</td>\n",
              "      <td>69.8750</td>\n",
              "      <td>67.43750</td>\n",
              "      <td>16252200.0</td>\n",
              "      <td>67.43750</td>\n",
              "    </tr>\n",
              "    <tr>\n",
              "      <th>1999-03-12</th>\n",
              "      <td>67.68750</td>\n",
              "      <td>64.31250</td>\n",
              "      <td>67.0000</td>\n",
              "      <td>66.65625</td>\n",
              "      <td>9332600.0</td>\n",
              "      <td>66.65625</td>\n",
              "    </tr>\n",
              "    <tr>\n",
              "      <th>1999-03-15</th>\n",
              "      <td>69.50000</td>\n",
              "      <td>65.50000</td>\n",
              "      <td>66.5000</td>\n",
              "      <td>69.46875</td>\n",
              "      <td>7020800.0</td>\n",
              "      <td>69.46875</td>\n",
              "    </tr>\n",
              "  </tbody>\n",
              "</table>\n",
              "</div>"
            ],
            "text/plain": [
              "                High       Low     Open     Close      Volume  Adj Close\n",
              "Date                                                                    \n",
              "1999-03-09  66.62500  61.71875  62.5625  64.96875  16292000.0   64.96875\n",
              "1999-03-10  69.46875  67.00000  68.3750  68.56250  14117600.0   68.56250\n",
              "1999-03-11  71.37500  65.50000  69.8750  67.43750  16252200.0   67.43750\n",
              "1999-03-12  67.68750  64.31250  67.0000  66.65625   9332600.0   66.65625\n",
              "1999-03-15  69.50000  65.50000  66.5000  69.46875   7020800.0   69.46875"
            ]
          },
          "metadata": {
            "tags": []
          },
          "execution_count": 3
        }
      ]
    },
    {
      "cell_type": "code",
      "metadata": {
        "id": "6W3dBOoofnR-",
        "outputId": "bdae6936-71fd-4dc0-bf2e-fecae174ef0c",
        "colab": {
          "base_uri": "https://localhost:8080/",
          "height": 320
        }
      },
      "source": [
        "df = data.reset_index()['Close']\n",
        "plt.figure(figsize = (14,5))\n",
        "plt.plot(df)\n",
        "plt.show()"
      ],
      "execution_count": 4,
      "outputs": [
        {
          "output_type": "display_data",
          "data": {
            "image/png": "[encoded data removed]",
            "text/plain": [
              "<Figure size 1008x360 with 1 Axes>"
            ]
          },
          "metadata": {
            "tags": [],
            "needs_background": "light"
          }
        }
      ]
    },
    {
      "cell_type": "code",
      "metadata": {
        "id": "VwE9IBZmfnSH",
        "outputId": "b7baa773-ab7f-42c6-9e56-8b830b783d61",
        "colab": {
          "base_uri": "https://localhost:8080/",
          "height": 297
        }
      },
      "source": [
        "data.describe()"
      ],
      "execution_count": 5,
      "outputs": [
        {
          "output_type": "execute_result",
          "data": {
            "text/html": [
              "<div>\n",
              "<style scoped>\n",
              "    .dataframe tbody tr th:only-of-type {\n",
              "        vertical-align: middle;\n",
              "    }\n",
              "\n",
              "    .dataframe tbody tr th {\n",
              "        vertical-align: top;\n",
              "    }\n",
              "\n",
              "    .dataframe thead th {\n",
              "        text-align: right;\n",
              "    }\n",
              "</style>\n",
              "<table border=\"1\" class=\"dataframe\">\n",
              "  <thead>\n",
              "    <tr style=\"text-align: right;\">\n",
              "      <th></th>\n",
              "      <th>High</th>\n",
              "      <th>Low</th>\n",
              "      <th>Open</th>\n",
              "      <th>Close</th>\n",
              "      <th>Volume</th>\n",
              "      <th>Adj Close</th>\n",
              "    </tr>\n",
              "  </thead>\n",
              "  <tbody>\n",
              "    <tr>\n",
              "      <th>count</th>\n",
              "      <td>5436.000000</td>\n",
              "      <td>5436.000000</td>\n",
              "      <td>5436.000000</td>\n",
              "      <td>5436.000000</td>\n",
              "      <td>5.436000e+03</td>\n",
              "      <td>5436.000000</td>\n",
              "    </tr>\n",
              "    <tr>\n",
              "      <th>mean</th>\n",
              "      <td>433.615860</td>\n",
              "      <td>423.429439</td>\n",
              "      <td>428.751127</td>\n",
              "      <td>428.778826</td>\n",
              "      <td>6.838772e+06</td>\n",
              "      <td>428.778826</td>\n",
              "    </tr>\n",
              "    <tr>\n",
              "      <th>std</th>\n",
              "      <td>662.128409</td>\n",
              "      <td>646.691521</td>\n",
              "      <td>654.836000</td>\n",
              "      <td>654.822808</td>\n",
              "      <td>5.606313e+06</td>\n",
              "      <td>654.822808</td>\n",
              "    </tr>\n",
              "    <tr>\n",
              "      <th>min</th>\n",
              "      <td>6.100000</td>\n",
              "      <td>5.510000</td>\n",
              "      <td>5.910000</td>\n",
              "      <td>5.970000</td>\n",
              "      <td>8.813000e+05</td>\n",
              "      <td>5.970000</td>\n",
              "    </tr>\n",
              "    <tr>\n",
              "      <th>25%</th>\n",
              "      <td>43.172501</td>\n",
              "      <td>41.524999</td>\n",
              "      <td>42.330000</td>\n",
              "      <td>42.401250</td>\n",
              "      <td>3.685975e+06</td>\n",
              "      <td>42.401250</td>\n",
              "    </tr>\n",
              "    <tr>\n",
              "      <th>50%</th>\n",
              "      <td>120.974998</td>\n",
              "      <td>117.340000</td>\n",
              "      <td>119.075001</td>\n",
              "      <td>119.585003</td>\n",
              "      <td>5.533900e+06</td>\n",
              "      <td>119.585003</td>\n",
              "    </tr>\n",
              "    <tr>\n",
              "      <th>75%</th>\n",
              "      <td>431.937508</td>\n",
              "      <td>425.592506</td>\n",
              "      <td>428.000000</td>\n",
              "      <td>427.675003</td>\n",
              "      <td>8.056675e+06</td>\n",
              "      <td>427.675003</td>\n",
              "    </tr>\n",
              "    <tr>\n",
              "      <th>max</th>\n",
              "      <td>3552.250000</td>\n",
              "      <td>3486.689941</td>\n",
              "      <td>3547.000000</td>\n",
              "      <td>3531.449951</td>\n",
              "      <td>1.043292e+08</td>\n",
              "      <td>3531.449951</td>\n",
              "    </tr>\n",
              "  </tbody>\n",
              "</table>\n",
              "</div>"
            ],
            "text/plain": [
              "              High          Low  ...        Volume    Adj Close\n",
              "count  5436.000000  5436.000000  ...  5.436000e+03  5436.000000\n",
              "mean    433.615860   423.429439  ...  6.838772e+06   428.778826\n",
              "std     662.128409   646.691521  ...  5.606313e+06   654.822808\n",
              "min       6.100000     5.510000  ...  8.813000e+05     5.970000\n",
              "25%      43.172501    41.524999  ...  3.685975e+06    42.401250\n",
              "50%     120.974998   117.340000  ...  5.533900e+06   119.585003\n",
              "75%     431.937508   425.592506  ...  8.056675e+06   427.675003\n",
              "max    3552.250000  3486.689941  ...  1.043292e+08  3531.449951\n",
              "\n",
              "[8 rows x 6 columns]"
            ]
          },
          "metadata": {
            "tags": []
          },
          "execution_count": 5
        }
      ]
    },
    {
      "cell_type": "code",
      "metadata": {
        "id": "A7Y1eUTo3Gwg",
        "outputId": "e31dad17-84b1-4647-cf3c-13957d1b637a",
        "colab": {
          "base_uri": "https://localhost:8080/",
          "height": 238
        }
      },
      "source": [
        "data.info()"
      ],
      "execution_count": 6,
      "outputs": [
        {
          "output_type": "stream",
          "text": [
            "<class 'pandas.core.frame.DataFrame'>\n",
            "DatetimeIndex: 5436 entries, 1999-03-09 to 2020-10-12\n",
            "Data columns (total 6 columns):\n",
            " #   Column     Non-Null Count  Dtype  \n",
            "---  ------     --------------  -----  \n",
            " 0   High       5436 non-null   float64\n",
            " 1   Low        5436 non-null   float64\n",
            " 2   Open       5436 non-null   float64\n",
            " 3   Close      5436 non-null   float64\n",
            " 4   Volume     5436 non-null   float64\n",
            " 5   Adj Close  5436 non-null   float64\n",
            "dtypes: float64(6)\n",
            "memory usage: 297.3 KB\n"
          ],
          "name": "stdout"
        }
      ]
    },
    {
      "cell_type": "code",
      "metadata": {
        "id": "pKLaR7Tv1uqj",
        "outputId": "e7eb0f86-4764-4db0-913b-33c9b70db012",
        "colab": {
          "base_uri": "https://localhost:8080/",
          "height": 170
        }
      },
      "source": [
        "df.describe()"
      ],
      "execution_count": 7,
      "outputs": [
        {
          "output_type": "execute_result",
          "data": {
            "text/plain": [
              "count    5436.000000\n",
              "mean      428.778826\n",
              "std       654.822808\n",
              "min         5.970000\n",
              "25%        42.401250\n",
              "50%       119.585003\n",
              "75%       427.675003\n",
              "max      3531.449951\n",
              "Name: Close, dtype: float64"
            ]
          },
          "metadata": {
            "tags": []
          },
          "execution_count": 7
        }
      ]
    },
    {
      "cell_type": "markdown",
      "metadata": {
        "id": "vJWJ_MaF8VO8"
      },
      "source": [
        "#**Creating more features**"
      ]
    },
    {
      "cell_type": "code",
      "metadata": {
        "id": "XnpHdnoz2wVz",
        "outputId": "431b6716-17cb-41c5-a127-13a6d955ba2e",
        "colab": {
          "base_uri": "https://localhost:8080/",
          "height": 204
        }
      },
      "source": [
        "#closing prices to opening prices (changes) net gain in day\n",
        "features = pd.DataFrame(index=df.index).sort_index()\n",
        "features['f01'] = data.reset_index()['Close']/data.reset_index()['Open']-1\n",
        "features.head()"
      ],
      "execution_count": 8,
      "outputs": [
        {
          "output_type": "execute_result",
          "data": {
            "text/html": [
              "<div>\n",
              "<style scoped>\n",
              "    .dataframe tbody tr th:only-of-type {\n",
              "        vertical-align: middle;\n",
              "    }\n",
              "\n",
              "    .dataframe tbody tr th {\n",
              "        vertical-align: top;\n",
              "    }\n",
              "\n",
              "    .dataframe thead th {\n",
              "        text-align: right;\n",
              "    }\n",
              "</style>\n",
              "<table border=\"1\" class=\"dataframe\">\n",
              "  <thead>\n",
              "    <tr style=\"text-align: right;\">\n",
              "      <th></th>\n",
              "      <th>f01</th>\n",
              "    </tr>\n",
              "  </thead>\n",
              "  <tbody>\n",
              "    <tr>\n",
              "      <th>0</th>\n",
              "      <td>0.038462</td>\n",
              "    </tr>\n",
              "    <tr>\n",
              "      <th>1</th>\n",
              "      <td>0.002742</td>\n",
              "    </tr>\n",
              "    <tr>\n",
              "      <th>2</th>\n",
              "      <td>-0.034884</td>\n",
              "    </tr>\n",
              "    <tr>\n",
              "      <th>3</th>\n",
              "      <td>-0.005131</td>\n",
              "    </tr>\n",
              "    <tr>\n",
              "      <th>4</th>\n",
              "      <td>0.044643</td>\n",
              "    </tr>\n",
              "  </tbody>\n",
              "</table>\n",
              "</div>"
            ],
            "text/plain": [
              "        f01\n",
              "0  0.038462\n",
              "1  0.002742\n",
              "2 -0.034884\n",
              "3 -0.005131\n",
              "4  0.044643"
            ]
          },
          "metadata": {
            "tags": []
          },
          "execution_count": 8
        }
      ]
    },
    {
      "cell_type": "code",
      "metadata": {
        "id": "dNfSQ-QM6LS0",
        "outputId": "e0560ff3-d46c-4322-b075-d312fe19b73c",
        "colab": {
          "base_uri": "https://localhost:8080/",
          "height": 204
        }
      },
      "source": [
        "#opening prices compared to previous days closing prices (changes)\n",
        "array = data.reset_index()['Open']/data.reset_index()['Close'].shift(-1)-1\n",
        "features['f02'] = array\n",
        "features.tail()"
      ],
      "execution_count": 9,
      "outputs": [
        {
          "output_type": "execute_result",
          "data": {
            "text/html": [
              "<div>\n",
              "<style scoped>\n",
              "    .dataframe tbody tr th:only-of-type {\n",
              "        vertical-align: middle;\n",
              "    }\n",
              "\n",
              "    .dataframe tbody tr th {\n",
              "        vertical-align: top;\n",
              "    }\n",
              "\n",
              "    .dataframe thead th {\n",
              "        text-align: right;\n",
              "    }\n",
              "</style>\n",
              "<table border=\"1\" class=\"dataframe\">\n",
              "  <thead>\n",
              "    <tr style=\"text-align: right;\">\n",
              "      <th></th>\n",
              "      <th>f01</th>\n",
              "      <th>f02</th>\n",
              "    </tr>\n",
              "  </thead>\n",
              "  <tbody>\n",
              "    <tr>\n",
              "      <th>5431</th>\n",
              "      <td>-0.020550</td>\n",
              "      <td>-0.009604</td>\n",
              "    </tr>\n",
              "    <tr>\n",
              "      <th>5432</th>\n",
              "      <td>0.019359</td>\n",
              "      <td>-0.017411</td>\n",
              "    </tr>\n",
              "    <tr>\n",
              "      <th>5433</th>\n",
              "      <td>-0.010679</td>\n",
              "      <td>-0.018761</td>\n",
              "    </tr>\n",
              "    <tr>\n",
              "      <th>5434</th>\n",
              "      <td>0.023878</td>\n",
              "      <td>-0.071573</td>\n",
              "    </tr>\n",
              "    <tr>\n",
              "      <th>5435</th>\n",
              "      <td>0.032096</td>\n",
              "      <td>NaN</td>\n",
              "    </tr>\n",
              "  </tbody>\n",
              "</table>\n",
              "</div>"
            ],
            "text/plain": [
              "           f01       f02\n",
              "5431 -0.020550 -0.009604\n",
              "5432  0.019359 -0.017411\n",
              "5433 -0.010679 -0.018761\n",
              "5434  0.023878 -0.071573\n",
              "5435  0.032096       NaN"
            ]
          },
          "metadata": {
            "tags": []
          },
          "execution_count": 9
        }
      ]
    },
    {
      "cell_type": "code",
      "metadata": {
        "id": "-yeohvbkA21-",
        "outputId": "79c1c4ec-d4b2-4088-9eaf-f69b929ebfe8",
        "colab": {
          "base_uri": "https://localhost:8080/",
          "height": 204
        }
      },
      "source": [
        "#volume logs\n",
        "array = data.reset_index()['Volume'].apply(np.log)\n",
        "features['f03'] = array\n",
        "features.tail()"
      ],
      "execution_count": 10,
      "outputs": [
        {
          "output_type": "execute_result",
          "data": {
            "text/html": [
              "<div>\n",
              "<style scoped>\n",
              "    .dataframe tbody tr th:only-of-type {\n",
              "        vertical-align: middle;\n",
              "    }\n",
              "\n",
              "    .dataframe tbody tr th {\n",
              "        vertical-align: top;\n",
              "    }\n",
              "\n",
              "    .dataframe thead th {\n",
              "        text-align: right;\n",
              "    }\n",
              "</style>\n",
              "<table border=\"1\" class=\"dataframe\">\n",
              "  <thead>\n",
              "    <tr style=\"text-align: right;\">\n",
              "      <th></th>\n",
              "      <th>f01</th>\n",
              "      <th>f02</th>\n",
              "      <th>f03</th>\n",
              "    </tr>\n",
              "  </thead>\n",
              "  <tbody>\n",
              "    <tr>\n",
              "      <th>5431</th>\n",
              "      <td>-0.020550</td>\n",
              "      <td>-0.009604</td>\n",
              "      <td>15.442179</td>\n",
              "    </tr>\n",
              "    <tr>\n",
              "      <th>5432</th>\n",
              "      <td>0.019359</td>\n",
              "      <td>-0.017411</td>\n",
              "      <td>15.276309</td>\n",
              "    </tr>\n",
              "    <tr>\n",
              "      <th>5433</th>\n",
              "      <td>-0.010679</td>\n",
              "      <td>-0.018761</td>\n",
              "      <td>14.970535</td>\n",
              "    </tr>\n",
              "    <tr>\n",
              "      <th>5434</th>\n",
              "      <td>0.023878</td>\n",
              "      <td>-0.071573</td>\n",
              "      <td>15.403725</td>\n",
              "    </tr>\n",
              "    <tr>\n",
              "      <th>5435</th>\n",
              "      <td>0.032096</td>\n",
              "      <td>NaN</td>\n",
              "      <td>15.274506</td>\n",
              "    </tr>\n",
              "  </tbody>\n",
              "</table>\n",
              "</div>"
            ],
            "text/plain": [
              "           f01       f02        f03\n",
              "5431 -0.020550 -0.009604  15.442179\n",
              "5432  0.019359 -0.017411  15.276309\n",
              "5433 -0.010679 -0.018761  14.970535\n",
              "5434  0.023878 -0.071573  15.403725\n",
              "5435  0.032096       NaN  15.274506"
            ]
          },
          "metadata": {
            "tags": []
          },
          "execution_count": 10
        }
      ]
    },
    {
      "cell_type": "code",
      "metadata": {
        "id": "XKyqJhmXBtRI",
        "outputId": "5ffc2955-1ced-487f-a615-32d6c1d4b162",
        "colab": {
          "base_uri": "https://localhost:8080/",
          "height": 204
        }
      },
      "source": [
        "#volume difference to previous day\n",
        "array = data.reset_index()['Volume'].diff()\n",
        "features['f04'] = array\n",
        "features.head()"
      ],
      "execution_count": 11,
      "outputs": [
        {
          "output_type": "execute_result",
          "data": {
            "text/html": [
              "<div>\n",
              "<style scoped>\n",
              "    .dataframe tbody tr th:only-of-type {\n",
              "        vertical-align: middle;\n",
              "    }\n",
              "\n",
              "    .dataframe tbody tr th {\n",
              "        vertical-align: top;\n",
              "    }\n",
              "\n",
              "    .dataframe thead th {\n",
              "        text-align: right;\n",
              "    }\n",
              "</style>\n",
              "<table border=\"1\" class=\"dataframe\">\n",
              "  <thead>\n",
              "    <tr style=\"text-align: right;\">\n",
              "      <th></th>\n",
              "      <th>f01</th>\n",
              "      <th>f02</th>\n",
              "      <th>f03</th>\n",
              "      <th>f04</th>\n",
              "    </tr>\n",
              "  </thead>\n",
              "  <tbody>\n",
              "    <tr>\n",
              "      <th>0</th>\n",
              "      <td>0.038462</td>\n",
              "      <td>-0.087511</td>\n",
              "      <td>16.606185</td>\n",
              "      <td>NaN</td>\n",
              "    </tr>\n",
              "    <tr>\n",
              "      <th>1</th>\n",
              "      <td>0.002742</td>\n",
              "      <td>0.013902</td>\n",
              "      <td>16.462933</td>\n",
              "      <td>-2174400.0</td>\n",
              "    </tr>\n",
              "    <tr>\n",
              "      <th>2</th>\n",
              "      <td>-0.034884</td>\n",
              "      <td>0.048289</td>\n",
              "      <td>16.603739</td>\n",
              "      <td>2134600.0</td>\n",
              "    </tr>\n",
              "    <tr>\n",
              "      <th>3</th>\n",
              "      <td>-0.005131</td>\n",
              "      <td>-0.035538</td>\n",
              "      <td>16.049024</td>\n",
              "      <td>-6919600.0</td>\n",
              "    </tr>\n",
              "    <tr>\n",
              "      <th>4</th>\n",
              "      <td>0.044643</td>\n",
              "      <td>-0.006072</td>\n",
              "      <td>15.764388</td>\n",
              "      <td>-2311800.0</td>\n",
              "    </tr>\n",
              "  </tbody>\n",
              "</table>\n",
              "</div>"
            ],
            "text/plain": [
              "        f01       f02        f03        f04\n",
              "0  0.038462 -0.087511  16.606185        NaN\n",
              "1  0.002742  0.013902  16.462933 -2174400.0\n",
              "2 -0.034884  0.048289  16.603739  2134600.0\n",
              "3 -0.005131 -0.035538  16.049024 -6919600.0\n",
              "4  0.044643 -0.006072  15.764388 -2311800.0"
            ]
          },
          "metadata": {
            "tags": []
          },
          "execution_count": 11
        }
      ]
    },
    {
      "cell_type": "code",
      "metadata": {
        "id": "TjoQnLdhDb12",
        "outputId": "961615bd-01f6-46f5-9bf9-d81d2a3f09d5",
        "colab": {
          "base_uri": "https://localhost:8080/",
          "height": 204
        }
      },
      "source": [
        "#log of 5 days moving average of volume\n",
        "ma_5 = lambda x : x.rolling(5).mean()\n",
        "array = data.reset_index()['Volume'].rolling(5,min_periods=1).mean().apply(np.log)\n",
        "features['f05'] = array\n",
        "features.head()"
      ],
      "execution_count": 12,
      "outputs": [
        {
          "output_type": "execute_result",
          "data": {
            "text/html": [
              "<div>\n",
              "<style scoped>\n",
              "    .dataframe tbody tr th:only-of-type {\n",
              "        vertical-align: middle;\n",
              "    }\n",
              "\n",
              "    .dataframe tbody tr th {\n",
              "        vertical-align: top;\n",
              "    }\n",
              "\n",
              "    .dataframe thead th {\n",
              "        text-align: right;\n",
              "    }\n",
              "</style>\n",
              "<table border=\"1\" class=\"dataframe\">\n",
              "  <thead>\n",
              "    <tr style=\"text-align: right;\">\n",
              "      <th></th>\n",
              "      <th>f01</th>\n",
              "      <th>f02</th>\n",
              "      <th>f03</th>\n",
              "      <th>f04</th>\n",
              "      <th>f05</th>\n",
              "    </tr>\n",
              "  </thead>\n",
              "  <tbody>\n",
              "    <tr>\n",
              "      <th>0</th>\n",
              "      <td>0.038462</td>\n",
              "      <td>-0.087511</td>\n",
              "      <td>16.606185</td>\n",
              "      <td>NaN</td>\n",
              "      <td>16.606185</td>\n",
              "    </tr>\n",
              "    <tr>\n",
              "      <th>1</th>\n",
              "      <td>0.002742</td>\n",
              "      <td>0.013902</td>\n",
              "      <td>16.462933</td>\n",
              "      <td>-2174400.0</td>\n",
              "      <td>16.537122</td>\n",
              "    </tr>\n",
              "    <tr>\n",
              "      <th>2</th>\n",
              "      <td>-0.034884</td>\n",
              "      <td>0.048289</td>\n",
              "      <td>16.603739</td>\n",
              "      <td>2134600.0</td>\n",
              "      <td>16.559824</td>\n",
              "    </tr>\n",
              "    <tr>\n",
              "      <th>3</th>\n",
              "      <td>-0.005131</td>\n",
              "      <td>-0.035538</td>\n",
              "      <td>16.049024</td>\n",
              "      <td>-6919600.0</td>\n",
              "      <td>16.454468</td>\n",
              "    </tr>\n",
              "    <tr>\n",
              "      <th>4</th>\n",
              "      <td>0.044643</td>\n",
              "      <td>-0.006072</td>\n",
              "      <td>15.764388</td>\n",
              "      <td>-2311800.0</td>\n",
              "      <td>16.349449</td>\n",
              "    </tr>\n",
              "  </tbody>\n",
              "</table>\n",
              "</div>"
            ],
            "text/plain": [
              "        f01       f02        f03        f04        f05\n",
              "0  0.038462 -0.087511  16.606185        NaN  16.606185\n",
              "1  0.002742  0.013902  16.462933 -2174400.0  16.537122\n",
              "2 -0.034884  0.048289  16.603739  2134600.0  16.559824\n",
              "3 -0.005131 -0.035538  16.049024 -6919600.0  16.454468\n",
              "4  0.044643 -0.006072  15.764388 -2311800.0  16.349449"
            ]
          },
          "metadata": {
            "tags": []
          },
          "execution_count": 12
        }
      ]
    },
    {
      "cell_type": "code",
      "metadata": {
        "id": "GvEgTVvBEdBe",
        "outputId": "6baf3695-e0d7-4745-8936-82ce377922e2",
        "colab": {
          "base_uri": "https://localhost:8080/",
          "height": 204
        }
      },
      "source": [
        "#z_score for closing prices\n",
        "array = (df - df.rolling(200,min_periods=1).mean())/df.rolling(200,min_periods=1).std()\n",
        "features['f06'] = array\n",
        "features.tail()"
      ],
      "execution_count": 13,
      "outputs": [
        {
          "output_type": "execute_result",
          "data": {
            "text/html": [
              "<div>\n",
              "<style scoped>\n",
              "    .dataframe tbody tr th:only-of-type {\n",
              "        vertical-align: middle;\n",
              "    }\n",
              "\n",
              "    .dataframe tbody tr th {\n",
              "        vertical-align: top;\n",
              "    }\n",
              "\n",
              "    .dataframe thead th {\n",
              "        text-align: right;\n",
              "    }\n",
              "</style>\n",
              "<table border=\"1\" class=\"dataframe\">\n",
              "  <thead>\n",
              "    <tr style=\"text-align: right;\">\n",
              "      <th></th>\n",
              "      <th>f01</th>\n",
              "      <th>f02</th>\n",
              "      <th>f03</th>\n",
              "      <th>f04</th>\n",
              "      <th>f05</th>\n",
              "      <th>f06</th>\n",
              "    </tr>\n",
              "  </thead>\n",
              "  <tbody>\n",
              "    <tr>\n",
              "      <th>5431</th>\n",
              "      <td>-0.020550</td>\n",
              "      <td>-0.009604</td>\n",
              "      <td>15.442179</td>\n",
              "      <td>1311600.0</td>\n",
              "      <td>15.397807</td>\n",
              "      <td>1.124635</td>\n",
              "    </tr>\n",
              "    <tr>\n",
              "      <th>5432</th>\n",
              "      <td>0.019359</td>\n",
              "      <td>-0.017411</td>\n",
              "      <td>15.276309</td>\n",
              "      <td>-777500.0</td>\n",
              "      <td>15.373933</td>\n",
              "      <td>1.290415</td>\n",
              "    </tr>\n",
              "    <tr>\n",
              "      <th>5433</th>\n",
              "      <td>-0.010679</td>\n",
              "      <td>-0.018761</td>\n",
              "      <td>14.970535</td>\n",
              "      <td>-1135300.0</td>\n",
              "      <td>15.295241</td>\n",
              "      <td>1.268277</td>\n",
              "    </tr>\n",
              "    <tr>\n",
              "      <th>5434</th>\n",
              "      <td>0.023878</td>\n",
              "      <td>-0.071573</td>\n",
              "      <td>15.403725</td>\n",
              "      <td>1720900.0</td>\n",
              "      <td>15.261992</td>\n",
              "      <td>1.432859</td>\n",
              "    </tr>\n",
              "    <tr>\n",
              "      <th>5435</th>\n",
              "      <td>0.032096</td>\n",
              "      <td>NaN</td>\n",
              "      <td>15.274506</td>\n",
              "      <td>-593364.0</td>\n",
              "      <td>15.286469</td>\n",
              "      <td>1.730017</td>\n",
              "    </tr>\n",
              "  </tbody>\n",
              "</table>\n",
              "</div>"
            ],
            "text/plain": [
              "           f01       f02        f03        f04        f05       f06\n",
              "5431 -0.020550 -0.009604  15.442179  1311600.0  15.397807  1.124635\n",
              "5432  0.019359 -0.017411  15.276309  -777500.0  15.373933  1.290415\n",
              "5433 -0.010679 -0.018761  14.970535 -1135300.0  15.295241  1.268277\n",
              "5434  0.023878 -0.071573  15.403725  1720900.0  15.261992  1.432859\n",
              "5435  0.032096       NaN  15.274506  -593364.0  15.286469  1.730017"
            ]
          },
          "metadata": {
            "tags": []
          },
          "execution_count": 13
        }
      ]
    },
    {
      "cell_type": "code",
      "metadata": {
        "id": "Sp_FCvfZIlzd",
        "outputId": "39eb9e07-c9eb-4fe1-814c-a0c4afa40f12",
        "colab": {
          "base_uri": "https://localhost:8080/",
          "height": 204
        }
      },
      "source": [
        "#signing\n",
        "array = features['f01'].apply(np.sign)\n",
        "features['f07'] = array\n",
        "features.tail()"
      ],
      "execution_count": 14,
      "outputs": [
        {
          "output_type": "execute_result",
          "data": {
            "text/html": [
              "<div>\n",
              "<style scoped>\n",
              "    .dataframe tbody tr th:only-of-type {\n",
              "        vertical-align: middle;\n",
              "    }\n",
              "\n",
              "    .dataframe tbody tr th {\n",
              "        vertical-align: top;\n",
              "    }\n",
              "\n",
              "    .dataframe thead th {\n",
              "        text-align: right;\n",
              "    }\n",
              "</style>\n",
              "<table border=\"1\" class=\"dataframe\">\n",
              "  <thead>\n",
              "    <tr style=\"text-align: right;\">\n",
              "      <th></th>\n",
              "      <th>f01</th>\n",
              "      <th>f02</th>\n",
              "      <th>f03</th>\n",
              "      <th>f04</th>\n",
              "      <th>f05</th>\n",
              "      <th>f06</th>\n",
              "      <th>f07</th>\n",
              "    </tr>\n",
              "  </thead>\n",
              "  <tbody>\n",
              "    <tr>\n",
              "      <th>5431</th>\n",
              "      <td>-0.020550</td>\n",
              "      <td>-0.009604</td>\n",
              "      <td>15.442179</td>\n",
              "      <td>1311600.0</td>\n",
              "      <td>15.397807</td>\n",
              "      <td>1.124635</td>\n",
              "      <td>-1.0</td>\n",
              "    </tr>\n",
              "    <tr>\n",
              "      <th>5432</th>\n",
              "      <td>0.019359</td>\n",
              "      <td>-0.017411</td>\n",
              "      <td>15.276309</td>\n",
              "      <td>-777500.0</td>\n",
              "      <td>15.373933</td>\n",
              "      <td>1.290415</td>\n",
              "      <td>1.0</td>\n",
              "    </tr>\n",
              "    <tr>\n",
              "      <th>5433</th>\n",
              "      <td>-0.010679</td>\n",
              "      <td>-0.018761</td>\n",
              "      <td>14.970535</td>\n",
              "      <td>-1135300.0</td>\n",
              "      <td>15.295241</td>\n",
              "      <td>1.268277</td>\n",
              "      <td>-1.0</td>\n",
              "    </tr>\n",
              "    <tr>\n",
              "      <th>5434</th>\n",
              "      <td>0.023878</td>\n",
              "      <td>-0.071573</td>\n",
              "      <td>15.403725</td>\n",
              "      <td>1720900.0</td>\n",
              "      <td>15.261992</td>\n",
              "      <td>1.432859</td>\n",
              "      <td>1.0</td>\n",
              "    </tr>\n",
              "    <tr>\n",
              "      <th>5435</th>\n",
              "      <td>0.032096</td>\n",
              "      <td>NaN</td>\n",
              "      <td>15.274506</td>\n",
              "      <td>-593364.0</td>\n",
              "      <td>15.286469</td>\n",
              "      <td>1.730017</td>\n",
              "      <td>1.0</td>\n",
              "    </tr>\n",
              "  </tbody>\n",
              "</table>\n",
              "</div>"
            ],
            "text/plain": [
              "           f01       f02        f03        f04        f05       f06  f07\n",
              "5431 -0.020550 -0.009604  15.442179  1311600.0  15.397807  1.124635 -1.0\n",
              "5432  0.019359 -0.017411  15.276309  -777500.0  15.373933  1.290415  1.0\n",
              "5433 -0.010679 -0.018761  14.970535 -1135300.0  15.295241  1.268277 -1.0\n",
              "5434  0.023878 -0.071573  15.403725  1720900.0  15.261992  1.432859  1.0\n",
              "5435  0.032096       NaN  15.274506  -593364.0  15.286469  1.730017  1.0"
            ]
          },
          "metadata": {
            "tags": []
          },
          "execution_count": 14
        }
      ]
    },
    {
      "cell_type": "code",
      "metadata": {
        "id": "zF49MXzr1oB7",
        "outputId": "83294a7f-0dd4-41d4-a7d0-3529f2ccc36e",
        "colab": {
          "base_uri": "https://localhost:8080/",
          "height": 204
        }
      },
      "source": [
        "#plus-minus how many days the value has increased or decreased\n",
        "array = features['f07'].rolling(200,min_periods=1).sum()\n",
        "features['f08'] = array\n",
        "features.head()"
      ],
      "execution_count": 15,
      "outputs": [
        {
          "output_type": "execute_result",
          "data": {
            "text/html": [
              "<div>\n",
              "<style scoped>\n",
              "    .dataframe tbody tr th:only-of-type {\n",
              "        vertical-align: middle;\n",
              "    }\n",
              "\n",
              "    .dataframe tbody tr th {\n",
              "        vertical-align: top;\n",
              "    }\n",
              "\n",
              "    .dataframe thead th {\n",
              "        text-align: right;\n",
              "    }\n",
              "</style>\n",
              "<table border=\"1\" class=\"dataframe\">\n",
              "  <thead>\n",
              "    <tr style=\"text-align: right;\">\n",
              "      <th></th>\n",
              "      <th>f01</th>\n",
              "      <th>f02</th>\n",
              "      <th>f03</th>\n",
              "      <th>f04</th>\n",
              "      <th>f05</th>\n",
              "      <th>f06</th>\n",
              "      <th>f07</th>\n",
              "      <th>f08</th>\n",
              "    </tr>\n",
              "  </thead>\n",
              "  <tbody>\n",
              "    <tr>\n",
              "      <th>0</th>\n",
              "      <td>0.038462</td>\n",
              "      <td>-0.087511</td>\n",
              "      <td>16.606185</td>\n",
              "      <td>NaN</td>\n",
              "      <td>16.606185</td>\n",
              "      <td>NaN</td>\n",
              "      <td>1.0</td>\n",
              "      <td>1.0</td>\n",
              "    </tr>\n",
              "    <tr>\n",
              "      <th>1</th>\n",
              "      <td>0.002742</td>\n",
              "      <td>0.013902</td>\n",
              "      <td>16.462933</td>\n",
              "      <td>-2174400.0</td>\n",
              "      <td>16.537122</td>\n",
              "      <td>0.707107</td>\n",
              "      <td>1.0</td>\n",
              "      <td>2.0</td>\n",
              "    </tr>\n",
              "    <tr>\n",
              "      <th>2</th>\n",
              "      <td>-0.034884</td>\n",
              "      <td>0.048289</td>\n",
              "      <td>16.603739</td>\n",
              "      <td>2134600.0</td>\n",
              "      <td>16.559824</td>\n",
              "      <td>0.243662</td>\n",
              "      <td>-1.0</td>\n",
              "      <td>1.0</td>\n",
              "    </tr>\n",
              "    <tr>\n",
              "      <th>3</th>\n",
              "      <td>-0.005131</td>\n",
              "      <td>-0.035538</td>\n",
              "      <td>16.049024</td>\n",
              "      <td>-6919600.0</td>\n",
              "      <td>16.454468</td>\n",
              "      <td>-0.165545</td>\n",
              "      <td>-1.0</td>\n",
              "      <td>0.0</td>\n",
              "    </tr>\n",
              "    <tr>\n",
              "      <th>4</th>\n",
              "      <td>0.044643</td>\n",
              "      <td>-0.006072</td>\n",
              "      <td>15.764388</td>\n",
              "      <td>-2311800.0</td>\n",
              "      <td>16.349449</td>\n",
              "      <td>1.178915</td>\n",
              "      <td>1.0</td>\n",
              "      <td>1.0</td>\n",
              "    </tr>\n",
              "  </tbody>\n",
              "</table>\n",
              "</div>"
            ],
            "text/plain": [
              "        f01       f02        f03        f04        f05       f06  f07  f08\n",
              "0  0.038462 -0.087511  16.606185        NaN  16.606185       NaN  1.0  1.0\n",
              "1  0.002742  0.013902  16.462933 -2174400.0  16.537122  0.707107  1.0  2.0\n",
              "2 -0.034884  0.048289  16.603739  2134600.0  16.559824  0.243662 -1.0  1.0\n",
              "3 -0.005131 -0.035538  16.049024 -6919600.0  16.454468 -0.165545 -1.0  0.0\n",
              "4  0.044643 -0.006072  15.764388 -2311800.0  16.349449  1.178915  1.0  1.0"
            ]
          },
          "metadata": {
            "tags": []
          },
          "execution_count": 15
        }
      ]
    },
    {
      "cell_type": "markdown",
      "metadata": {
        "id": "L7hp1FsW_JEG"
      },
      "source": [
        "#**Creating TA technical indicator features**"
      ]
    },
    {
      "cell_type": "code",
      "metadata": {
        "id": "ouhq3F0Y_Tke",
        "outputId": "795586ab-b9aa-40f8-f805-1330635e092a",
        "colab": {
          "base_uri": "https://localhost:8080/",
          "height": 119
        }
      },
      "source": [
        "pip install --upgrade ta"
      ],
      "execution_count": 16,
      "outputs": [
        {
          "output_type": "stream",
          "text": [
            "Requirement already up-to-date: ta in /usr/local/lib/python3.6/dist-packages (0.5.25)\n",
            "Requirement already satisfied, skipping upgrade: pandas in /usr/local/lib/python3.6/dist-packages (from ta) (1.1.2)\n",
            "Requirement already satisfied, skipping upgrade: numpy in /usr/local/lib/python3.6/dist-packages (from ta) (1.18.5)\n",
            "Requirement already satisfied, skipping upgrade: pytz>=2017.2 in /usr/local/lib/python3.6/dist-packages (from pandas->ta) (2018.9)\n",
            "Requirement already satisfied, skipping upgrade: python-dateutil>=2.7.3 in /usr/local/lib/python3.6/dist-packages (from pandas->ta) (2.8.1)\n",
            "Requirement already satisfied, skipping upgrade: six>=1.5 in /usr/local/lib/python3.6/dist-packages (from python-dateutil>=2.7.3->pandas->ta) (1.15.0)\n"
          ],
          "name": "stdout"
        }
      ]
    },
    {
      "cell_type": "code",
      "metadata": {
        "id": "mHPlFkQ3_v9O"
      },
      "source": [
        "import ta"
      ],
      "execution_count": 17,
      "outputs": []
    },
    {
      "cell_type": "code",
      "metadata": {
        "id": "s-L7odis_7T0",
        "outputId": "f80c44e1-3e02-4c5e-e258-0c2246a35d23",
        "colab": {
          "base_uri": "https://localhost:8080/",
          "height": 34
        }
      },
      "source": [
        "ta_data = data\n",
        "ta_data.shape"
      ],
      "execution_count": 18,
      "outputs": [
        {
          "output_type": "execute_result",
          "data": {
            "text/plain": [
              "(5436, 6)"
            ]
          },
          "metadata": {
            "tags": []
          },
          "execution_count": 18
        }
      ]
    },
    {
      "cell_type": "code",
      "metadata": {
        "id": "yQwnQ12PArTZ"
      },
      "source": [
        "#making sure there are no missing values\n",
        "ta_data = ta.utils.dropna(ta_data)"
      ],
      "execution_count": 19,
      "outputs": []
    },
    {
      "cell_type": "code",
      "metadata": {
        "id": "OQFZSK4BAxaD",
        "outputId": "94ed288b-ffae-45e4-dc26-d769c6d9797e",
        "colab": {
          "base_uri": "https://localhost:8080/",
          "height": 238
        }
      },
      "source": [
        "ta_data.info()"
      ],
      "execution_count": 20,
      "outputs": [
        {
          "output_type": "stream",
          "text": [
            "<class 'pandas.core.frame.DataFrame'>\n",
            "DatetimeIndex: 5436 entries, 1999-03-09 to 2020-10-12\n",
            "Data columns (total 6 columns):\n",
            " #   Column     Non-Null Count  Dtype  \n",
            "---  ------     --------------  -----  \n",
            " 0   High       5436 non-null   float64\n",
            " 1   Low        5436 non-null   float64\n",
            " 2   Open       5436 non-null   float64\n",
            " 3   Close      5436 non-null   float64\n",
            " 4   Volume     5436 non-null   float64\n",
            " 5   Adj Close  5436 non-null   float64\n",
            "dtypes: float64(6)\n",
            "memory usage: 297.3 KB\n"
          ],
          "name": "stdout"
        }
      ]
    },
    {
      "cell_type": "code",
      "metadata": {
        "id": "w381L1U8Ayx_",
        "outputId": "a994b556-2dc5-4bd1-8636-f8190de321f6",
        "colab": {
          "base_uri": "https://localhost:8080/",
          "height": 425
        }
      },
      "source": [
        "ta_data = ta.add_all_ta_features(ta_data,'Open','High','Low','Close','Volume',fillna=True)\n",
        "ta_data.head()"
      ],
      "execution_count": 21,
      "outputs": [
        {
          "output_type": "stream",
          "text": [
            "/usr/local/lib/python3.6/dist-packages/ta/trend.py:608: RuntimeWarning: invalid value encountered in double_scalars\n",
            "  dip[i] = 100 * (self._dip[i]/self._trs[i])\n",
            "/usr/local/lib/python3.6/dist-packages/ta/trend.py:612: RuntimeWarning: invalid value encountered in double_scalars\n",
            "  din[i] = 100 * (self._din[i]/self._trs[i])\n"
          ],
          "name": "stderr"
        },
        {
          "output_type": "execute_result",
          "data": {
            "text/html": [
              "<div>\n",
              "<style scoped>\n",
              "    .dataframe tbody tr th:only-of-type {\n",
              "        vertical-align: middle;\n",
              "    }\n",
              "\n",
              "    .dataframe tbody tr th {\n",
              "        vertical-align: top;\n",
              "    }\n",
              "\n",
              "    .dataframe thead th {\n",
              "        text-align: right;\n",
              "    }\n",
              "</style>\n",
              "<table border=\"1\" class=\"dataframe\">\n",
              "  <thead>\n",
              "    <tr style=\"text-align: right;\">\n",
              "      <th></th>\n",
              "      <th>High</th>\n",
              "      <th>Low</th>\n",
              "      <th>Open</th>\n",
              "      <th>Close</th>\n",
              "      <th>Volume</th>\n",
              "      <th>Adj Close</th>\n",
              "      <th>volume_adi</th>\n",
              "      <th>volume_obv</th>\n",
              "      <th>volume_cmf</th>\n",
              "      <th>volume_fi</th>\n",
              "      <th>momentum_mfi</th>\n",
              "      <th>volume_em</th>\n",
              "      <th>volume_sma_em</th>\n",
              "      <th>volume_vpt</th>\n",
              "      <th>volume_nvi</th>\n",
              "      <th>volume_vwap</th>\n",
              "      <th>volatility_atr</th>\n",
              "      <th>volatility_bbm</th>\n",
              "      <th>volatility_bbh</th>\n",
              "      <th>volatility_bbl</th>\n",
              "      <th>volatility_bbw</th>\n",
              "      <th>volatility_bbp</th>\n",
              "      <th>volatility_bbhi</th>\n",
              "      <th>volatility_bbli</th>\n",
              "      <th>volatility_kcc</th>\n",
              "      <th>volatility_kch</th>\n",
              "      <th>volatility_kcl</th>\n",
              "      <th>volatility_kcw</th>\n",
              "      <th>volatility_kcp</th>\n",
              "      <th>volatility_kchi</th>\n",
              "      <th>volatility_kcli</th>\n",
              "      <th>volatility_dcl</th>\n",
              "      <th>volatility_dch</th>\n",
              "      <th>trend_macd</th>\n",
              "      <th>trend_macd_signal</th>\n",
              "      <th>trend_macd_diff</th>\n",
              "      <th>trend_sma_fast</th>\n",
              "      <th>trend_sma_slow</th>\n",
              "      <th>trend_ema_fast</th>\n",
              "      <th>trend_ema_slow</th>\n",
              "      <th>trend_adx</th>\n",
              "      <th>trend_adx_pos</th>\n",
              "      <th>trend_adx_neg</th>\n",
              "      <th>trend_vortex_ind_pos</th>\n",
              "      <th>trend_vortex_ind_neg</th>\n",
              "      <th>trend_vortex_ind_diff</th>\n",
              "      <th>trend_trix</th>\n",
              "      <th>trend_mass_index</th>\n",
              "      <th>trend_cci</th>\n",
              "      <th>trend_dpo</th>\n",
              "      <th>trend_kst</th>\n",
              "      <th>trend_kst_sig</th>\n",
              "      <th>trend_kst_diff</th>\n",
              "      <th>trend_ichimoku_conv</th>\n",
              "      <th>trend_ichimoku_base</th>\n",
              "      <th>trend_ichimoku_a</th>\n",
              "      <th>trend_ichimoku_b</th>\n",
              "      <th>trend_visual_ichimoku_a</th>\n",
              "      <th>trend_visual_ichimoku_b</th>\n",
              "      <th>trend_aroon_up</th>\n",
              "      <th>trend_aroon_down</th>\n",
              "      <th>trend_aroon_ind</th>\n",
              "      <th>trend_psar_up</th>\n",
              "      <th>trend_psar_down</th>\n",
              "      <th>trend_psar_up_indicator</th>\n",
              "      <th>trend_psar_down_indicator</th>\n",
              "      <th>momentum_rsi</th>\n",
              "      <th>momentum_tsi</th>\n",
              "      <th>momentum_uo</th>\n",
              "      <th>momentum_stoch</th>\n",
              "      <th>momentum_stoch_signal</th>\n",
              "      <th>momentum_wr</th>\n",
              "      <th>momentum_ao</th>\n",
              "      <th>momentum_kama</th>\n",
              "      <th>momentum_roc</th>\n",
              "      <th>others_dr</th>\n",
              "      <th>others_dlr</th>\n",
              "      <th>others_cr</th>\n",
              "    </tr>\n",
              "    <tr>\n",
              "      <th>Date</th>\n",
              "      <th></th>\n",
              "      <th></th>\n",
              "      <th></th>\n",
              "      <th></th>\n",
              "      <th></th>\n",
              "      <th></th>\n",
              "      <th></th>\n",
              "      <th></th>\n",
              "      <th></th>\n",
              "      <th></th>\n",
              "      <th></th>\n",
              "      <th></th>\n",
              "      <th></th>\n",
              "      <th></th>\n",
              "      <th></th>\n",
              "      <th></th>\n",
              "      <th></th>\n",
              "      <th></th>\n",
              "      <th></th>\n",
              "      <th></th>\n",
              "      <th></th>\n",
              "      <th></th>\n",
              "      <th></th>\n",
              "      <th></th>\n",
              "      <th></th>\n",
              "      <th></th>\n",
              "      <th></th>\n",
              "      <th></th>\n",
              "      <th></th>\n",
              "      <th></th>\n",
              "      <th></th>\n",
              "      <th></th>\n",
              "      <th></th>\n",
              "      <th></th>\n",
              "      <th></th>\n",
              "      <th></th>\n",
              "      <th></th>\n",
              "      <th></th>\n",
              "      <th></th>\n",
              "      <th></th>\n",
              "      <th></th>\n",
              "      <th></th>\n",
              "      <th></th>\n",
              "      <th></th>\n",
              "      <th></th>\n",
              "      <th></th>\n",
              "      <th></th>\n",
              "      <th></th>\n",
              "      <th></th>\n",
              "      <th></th>\n",
              "      <th></th>\n",
              "      <th></th>\n",
              "      <th></th>\n",
              "      <th></th>\n",
              "      <th></th>\n",
              "      <th></th>\n",
              "      <th></th>\n",
              "      <th></th>\n",
              "      <th></th>\n",
              "      <th></th>\n",
              "      <th></th>\n",
              "      <th></th>\n",
              "      <th></th>\n",
              "      <th></th>\n",
              "      <th></th>\n",
              "      <th></th>\n",
              "      <th></th>\n",
              "      <th></th>\n",
              "      <th></th>\n",
              "      <th></th>\n",
              "      <th></th>\n",
              "      <th></th>\n",
              "      <th></th>\n",
              "      <th></th>\n",
              "      <th></th>\n",
              "      <th></th>\n",
              "      <th></th>\n",
              "      <th></th>\n",
              "    </tr>\n",
              "  </thead>\n",
              "  <tbody>\n",
              "    <tr>\n",
              "      <th>1999-03-09</th>\n",
              "      <td>66.62500</td>\n",
              "      <td>61.71875</td>\n",
              "      <td>62.5625</td>\n",
              "      <td>64.96875</td>\n",
              "      <td>16292000.0</td>\n",
              "      <td>64.96875</td>\n",
              "      <td>5.292306e+06</td>\n",
              "      <td>16292000.0</td>\n",
              "      <td>0.324841</td>\n",
              "      <td>0.000000e+00</td>\n",
              "      <td>50.000000</td>\n",
              "      <td>0.000000</td>\n",
              "      <td>0.000000</td>\n",
              "      <td>-1.379219e+07</td>\n",
              "      <td>1000.000000</td>\n",
              "      <td>64.437500</td>\n",
              "      <td>0.0</td>\n",
              "      <td>64.968750</td>\n",
              "      <td>64.968750</td>\n",
              "      <td>64.968750</td>\n",
              "      <td>0.000000</td>\n",
              "      <td>0.000000</td>\n",
              "      <td>0.0</td>\n",
              "      <td>0.0</td>\n",
              "      <td>64.437500</td>\n",
              "      <td>69.343750</td>\n",
              "      <td>59.531250</td>\n",
              "      <td>15.227934</td>\n",
              "      <td>0.554140</td>\n",
              "      <td>0.0</td>\n",
              "      <td>0.0</td>\n",
              "      <td>7.551708</td>\n",
              "      <td>0.662420</td>\n",
              "      <td>0.000000</td>\n",
              "      <td>0.000000</td>\n",
              "      <td>0.000000</td>\n",
              "      <td>64.968750</td>\n",
              "      <td>64.968750</td>\n",
              "      <td>64.968750</td>\n",
              "      <td>64.968750</td>\n",
              "      <td>0.0</td>\n",
              "      <td>0.0</td>\n",
              "      <td>0.0</td>\n",
              "      <td>0.000000</td>\n",
              "      <td>0.000000</td>\n",
              "      <td>0.000000</td>\n",
              "      <td>-84.410699</td>\n",
              "      <td>1.000000</td>\n",
              "      <td>0.000000</td>\n",
              "      <td>363.810076</td>\n",
              "      <td>-848.479575</td>\n",
              "      <td>-848.479575</td>\n",
              "      <td>0.000000</td>\n",
              "      <td>64.171875</td>\n",
              "      <td>64.171875</td>\n",
              "      <td>64.171875</td>\n",
              "      <td>64.171875</td>\n",
              "      <td>423.165312</td>\n",
              "      <td>413.19282</td>\n",
              "      <td>4.0</td>\n",
              "      <td>4.0</td>\n",
              "      <td>0.0</td>\n",
              "      <td>-1.0</td>\n",
              "      <td>-1.0000</td>\n",
              "      <td>0.0</td>\n",
              "      <td>0.0</td>\n",
              "      <td>100.000000</td>\n",
              "      <td>0.000000</td>\n",
              "      <td>0.000000</td>\n",
              "      <td>66.242038</td>\n",
              "      <td>66.242038</td>\n",
              "      <td>-33.757962</td>\n",
              "      <td>0.0</td>\n",
              "      <td>64.968750</td>\n",
              "      <td>0.0</td>\n",
              "      <td>-84.847957</td>\n",
              "      <td>0.000000</td>\n",
              "      <td>0.000000</td>\n",
              "    </tr>\n",
              "    <tr>\n",
              "      <th>1999-03-10</th>\n",
              "      <td>69.46875</td>\n",
              "      <td>67.00000</td>\n",
              "      <td>68.3750</td>\n",
              "      <td>68.56250</td>\n",
              "      <td>14117600.0</td>\n",
              "      <td>68.56250</td>\n",
              "      <td>9.045085e+06</td>\n",
              "      <td>30409600.0</td>\n",
              "      <td>0.297442</td>\n",
              "      <td>5.073512e+07</td>\n",
              "      <td>100.000000</td>\n",
              "      <td>71.041090</td>\n",
              "      <td>71.041090</td>\n",
              "      <td>-1.304251e+07</td>\n",
              "      <td>1055.315055</td>\n",
              "      <td>66.250969</td>\n",
              "      <td>0.0</td>\n",
              "      <td>66.765625</td>\n",
              "      <td>70.359375</td>\n",
              "      <td>63.171875</td>\n",
              "      <td>10.765270</td>\n",
              "      <td>0.750000</td>\n",
              "      <td>0.0</td>\n",
              "      <td>0.0</td>\n",
              "      <td>66.390625</td>\n",
              "      <td>70.078125</td>\n",
              "      <td>62.703125</td>\n",
              "      <td>11.108496</td>\n",
              "      <td>0.794492</td>\n",
              "      <td>0.0</td>\n",
              "      <td>0.0</td>\n",
              "      <td>11.607770</td>\n",
              "      <td>0.883065</td>\n",
              "      <td>0.286681</td>\n",
              "      <td>0.057336</td>\n",
              "      <td>0.229345</td>\n",
              "      <td>66.765625</td>\n",
              "      <td>66.765625</td>\n",
              "      <td>65.521635</td>\n",
              "      <td>65.234954</td>\n",
              "      <td>0.0</td>\n",
              "      <td>0.0</td>\n",
              "      <td>0.0</td>\n",
              "      <td>0.020858</td>\n",
              "      <td>0.001009</td>\n",
              "      <td>0.019849</td>\n",
              "      <td>0.010804</td>\n",
              "      <td>1.918898</td>\n",
              "      <td>66.666667</td>\n",
              "      <td>362.013201</td>\n",
              "      <td>-844.288894</td>\n",
              "      <td>-846.384235</td>\n",
              "      <td>2.095340</td>\n",
              "      <td>65.593750</td>\n",
              "      <td>65.593750</td>\n",
              "      <td>65.593750</td>\n",
              "      <td>65.593750</td>\n",
              "      <td>423.165312</td>\n",
              "      <td>413.19282</td>\n",
              "      <td>8.0</td>\n",
              "      <td>4.0</td>\n",
              "      <td>4.0</td>\n",
              "      <td>-1.0</td>\n",
              "      <td>-1.0000</td>\n",
              "      <td>0.0</td>\n",
              "      <td>0.0</td>\n",
              "      <td>100.000000</td>\n",
              "      <td>100.000000</td>\n",
              "      <td>38.205980</td>\n",
              "      <td>88.306452</td>\n",
              "      <td>77.274245</td>\n",
              "      <td>-11.693548</td>\n",
              "      <td>0.0</td>\n",
              "      <td>66.308845</td>\n",
              "      <td>0.0</td>\n",
              "      <td>5.531506</td>\n",
              "      <td>5.383935</td>\n",
              "      <td>5.531506</td>\n",
              "    </tr>\n",
              "    <tr>\n",
              "      <th>1999-03-11</th>\n",
              "      <td>71.37500</td>\n",
              "      <td>65.50000</td>\n",
              "      <td>69.8750</td>\n",
              "      <td>67.43750</td>\n",
              "      <td>16252200.0</td>\n",
              "      <td>67.43750</td>\n",
              "      <td>3.512422e+06</td>\n",
              "      <td>14157400.0</td>\n",
              "      <td>0.075274</td>\n",
              "      <td>4.087529e+07</td>\n",
              "      <td>46.573024</td>\n",
              "      <td>7.342756</td>\n",
              "      <td>39.191923</td>\n",
              "      <td>5.142434e+05</td>\n",
              "      <td>1055.315055</td>\n",
              "      <td>66.896434</td>\n",
              "      <td>0.0</td>\n",
              "      <td>66.989583</td>\n",
              "      <td>69.991464</td>\n",
              "      <td>63.987703</td>\n",
              "      <td>8.962230</td>\n",
              "      <td>0.574606</td>\n",
              "      <td>0.0</td>\n",
              "      <td>0.0</td>\n",
              "      <td>66.961806</td>\n",
              "      <td>71.378472</td>\n",
              "      <td>62.545139</td>\n",
              "      <td>13.191600</td>\n",
              "      <td>0.553852</td>\n",
              "      <td>0.0</td>\n",
              "      <td>0.0</td>\n",
              "      <td>14.414555</td>\n",
              "      <td>0.592233</td>\n",
              "      <td>0.418278</td>\n",
              "      <td>0.129525</td>\n",
              "      <td>0.288753</td>\n",
              "      <td>66.989583</td>\n",
              "      <td>66.989583</td>\n",
              "      <td>65.816383</td>\n",
              "      <td>65.398105</td>\n",
              "      <td>0.0</td>\n",
              "      <td>0.0</td>\n",
              "      <td>0.0</td>\n",
              "      <td>0.032125</td>\n",
              "      <td>0.011509</td>\n",
              "      <td>0.020616</td>\n",
              "      <td>0.024975</td>\n",
              "      <td>2.902402</td>\n",
              "      <td>45.254470</td>\n",
              "      <td>361.789242</td>\n",
              "      <td>-843.766578</td>\n",
              "      <td>-845.511682</td>\n",
              "      <td>1.745105</td>\n",
              "      <td>66.546875</td>\n",
              "      <td>66.546875</td>\n",
              "      <td>66.546875</td>\n",
              "      <td>66.546875</td>\n",
              "      <td>423.165312</td>\n",
              "      <td>413.19282</td>\n",
              "      <td>8.0</td>\n",
              "      <td>4.0</td>\n",
              "      <td>4.0</td>\n",
              "      <td>-1.0</td>\n",
              "      <td>66.6250</td>\n",
              "      <td>0.0</td>\n",
              "      <td>1.0</td>\n",
              "      <td>74.787394</td>\n",
              "      <td>99.306759</td>\n",
              "      <td>36.196319</td>\n",
              "      <td>59.223301</td>\n",
              "      <td>71.257264</td>\n",
              "      <td>-40.776699</td>\n",
              "      <td>0.0</td>\n",
              "      <td>66.747650</td>\n",
              "      <td>0.0</td>\n",
              "      <td>-1.640839</td>\n",
              "      <td>-1.654450</td>\n",
              "      <td>3.799904</td>\n",
              "    </tr>\n",
              "    <tr>\n",
              "      <th>1999-03-12</th>\n",
              "      <td>67.68750</td>\n",
              "      <td>64.31250</td>\n",
              "      <td>67.0000</td>\n",
              "      <td>66.65625</td>\n",
              "      <td>9332600.0</td>\n",
              "      <td>66.65625</td>\n",
              "      <td>7.141766e+06</td>\n",
              "      <td>4824800.0</td>\n",
              "      <td>0.127544</td>\n",
              "      <td>3.399438e+07</td>\n",
              "      <td>35.872215</td>\n",
              "      <td>-88.148667</td>\n",
              "      <td>-3.254940</td>\n",
              "      <td>-3.747887e+05</td>\n",
              "      <td>1043.089441</td>\n",
              "      <td>66.783484</td>\n",
              "      <td>0.0</td>\n",
              "      <td>66.906250</td>\n",
              "      <td>69.521933</td>\n",
              "      <td>64.290567</td>\n",
              "      <td>7.818949</td>\n",
              "      <td>0.452211</td>\n",
              "      <td>0.0</td>\n",
              "      <td>0.0</td>\n",
              "      <td>66.776042</td>\n",
              "      <td>70.932292</td>\n",
              "      <td>62.619792</td>\n",
              "      <td>12.448327</td>\n",
              "      <td>0.485589</td>\n",
              "      <td>0.0</td>\n",
              "      <td>0.0</td>\n",
              "      <td>14.432508</td>\n",
              "      <td>0.511327</td>\n",
              "      <td>0.454292</td>\n",
              "      <td>0.194478</td>\n",
              "      <td>0.259814</td>\n",
              "      <td>66.906250</td>\n",
              "      <td>66.906250</td>\n",
              "      <td>65.945593</td>\n",
              "      <td>65.491301</td>\n",
              "      <td>0.0</td>\n",
              "      <td>0.0</td>\n",
              "      <td>0.0</td>\n",
              "      <td>0.037584</td>\n",
              "      <td>0.029953</td>\n",
              "      <td>0.007632</td>\n",
              "      <td>0.038389</td>\n",
              "      <td>3.843755</td>\n",
              "      <td>-25.659472</td>\n",
              "      <td>361.872576</td>\n",
              "      <td>-843.960928</td>\n",
              "      <td>-845.123994</td>\n",
              "      <td>1.163066</td>\n",
              "      <td>66.546875</td>\n",
              "      <td>66.546875</td>\n",
              "      <td>66.546875</td>\n",
              "      <td>66.546875</td>\n",
              "      <td>423.165312</td>\n",
              "      <td>413.19282</td>\n",
              "      <td>8.0</td>\n",
              "      <td>4.0</td>\n",
              "      <td>4.0</td>\n",
              "      <td>65.5</td>\n",
              "      <td>66.6250</td>\n",
              "      <td>1.0</td>\n",
              "      <td>0.0</td>\n",
              "      <td>62.922913</td>\n",
              "      <td>98.259043</td>\n",
              "      <td>42.211055</td>\n",
              "      <td>51.132686</td>\n",
              "      <td>66.220813</td>\n",
              "      <td>-48.867314</td>\n",
              "      <td>0.0</td>\n",
              "      <td>66.714032</td>\n",
              "      <td>0.0</td>\n",
              "      <td>-1.158480</td>\n",
              "      <td>-1.165243</td>\n",
              "      <td>2.597403</td>\n",
              "    </tr>\n",
              "    <tr>\n",
              "      <th>1999-03-15</th>\n",
              "      <td>69.50000</td>\n",
              "      <td>65.50000</td>\n",
              "      <td>66.5000</td>\n",
              "      <td>69.46875</td>\n",
              "      <td>7020800.0</td>\n",
              "      <td>69.46875</td>\n",
              "      <td>1.405287e+07</td>\n",
              "      <td>11845600.0</td>\n",
              "      <td>0.223008</td>\n",
              "      <td>3.195889e+07</td>\n",
              "      <td>45.557812</td>\n",
              "      <td>85.460346</td>\n",
              "      <td>18.923881</td>\n",
              "      <td>1.881200e+05</td>\n",
              "      <td>1087.101653</td>\n",
              "      <td>66.936430</td>\n",
              "      <td>0.0</td>\n",
              "      <td>67.418750</td>\n",
              "      <td>70.529367</td>\n",
              "      <td>64.308133</td>\n",
              "      <td>9.227750</td>\n",
              "      <td>0.829517</td>\n",
              "      <td>0.0</td>\n",
              "      <td>0.0</td>\n",
              "      <td>67.052083</td>\n",
              "      <td>71.177083</td>\n",
              "      <td>62.927083</td>\n",
              "      <td>12.303868</td>\n",
              "      <td>0.792929</td>\n",
              "      <td>0.0</td>\n",
              "      <td>0.0</td>\n",
              "      <td>14.322796</td>\n",
              "      <td>0.802589</td>\n",
              "      <td>0.701690</td>\n",
              "      <td>0.295921</td>\n",
              "      <td>0.405770</td>\n",
              "      <td>67.418750</td>\n",
              "      <td>67.418750</td>\n",
              "      <td>66.487618</td>\n",
              "      <td>65.785927</td>\n",
              "      <td>0.0</td>\n",
              "      <td>0.0</td>\n",
              "      <td>0.0</td>\n",
              "      <td>0.050674</td>\n",
              "      <td>0.035326</td>\n",
              "      <td>0.015348</td>\n",
              "      <td>0.059086</td>\n",
              "      <td>4.780846</td>\n",
              "      <td>53.373615</td>\n",
              "      <td>361.360076</td>\n",
              "      <td>-842.765673</td>\n",
              "      <td>-844.652330</td>\n",
              "      <td>1.886656</td>\n",
              "      <td>66.546875</td>\n",
              "      <td>66.546875</td>\n",
              "      <td>66.546875</td>\n",
              "      <td>66.546875</td>\n",
              "      <td>423.165312</td>\n",
              "      <td>413.19282</td>\n",
              "      <td>20.0</td>\n",
              "      <td>4.0</td>\n",
              "      <td>16.0</td>\n",
              "      <td>65.5</td>\n",
              "      <td>67.6875</td>\n",
              "      <td>0.0</td>\n",
              "      <td>1.0</td>\n",
              "      <td>77.042704</td>\n",
              "      <td>97.421451</td>\n",
              "      <td>52.275862</td>\n",
              "      <td>80.258900</td>\n",
              "      <td>63.538296</td>\n",
              "      <td>-19.741100</td>\n",
              "      <td>0.0</td>\n",
              "      <td>67.768408</td>\n",
              "      <td>0.0</td>\n",
              "      <td>4.219409</td>\n",
              "      <td>4.132820</td>\n",
              "      <td>6.926407</td>\n",
              "    </tr>\n",
              "  </tbody>\n",
              "</table>\n",
              "</div>"
            ],
            "text/plain": [
              "                High       Low     Open  ...  others_dr  others_dlr  others_cr\n",
              "Date                                     ...                                  \n",
              "1999-03-09  66.62500  61.71875  62.5625  ... -84.847957    0.000000   0.000000\n",
              "1999-03-10  69.46875  67.00000  68.3750  ...   5.531506    5.383935   5.531506\n",
              "1999-03-11  71.37500  65.50000  69.8750  ...  -1.640839   -1.654450   3.799904\n",
              "1999-03-12  67.68750  64.31250  67.0000  ...  -1.158480   -1.165243   2.597403\n",
              "1999-03-15  69.50000  65.50000  66.5000  ...   4.219409    4.132820   6.926407\n",
              "\n",
              "[5 rows x 78 columns]"
            ]
          },
          "metadata": {
            "tags": []
          },
          "execution_count": 21
        }
      ]
    },
    {
      "cell_type": "code",
      "metadata": {
        "id": "E1Jxp7MdBjiS",
        "outputId": "92c94ebe-dfc9-4eba-f7c5-54ea5a726ce5",
        "colab": {
          "base_uri": "https://localhost:8080/",
          "height": 34
        }
      },
      "source": [
        "ta_data.shape"
      ],
      "execution_count": 22,
      "outputs": [
        {
          "output_type": "execute_result",
          "data": {
            "text/plain": [
              "(5436, 78)"
            ]
          },
          "metadata": {
            "tags": []
          },
          "execution_count": 22
        }
      ]
    },
    {
      "cell_type": "code",
      "metadata": {
        "id": "Uylt8KMuZwlT",
        "outputId": "42252d13-3a2c-47c2-cf67-98349c8e4a38",
        "colab": {
          "base_uri": "https://localhost:8080/",
          "height": 224
        }
      },
      "source": [
        "#selecting a few features\n",
        "selected_features = [\n",
        "                     'volume_adi',\n",
        "                     'volume_fi',\n",
        "                     'volatility_bbm',\n",
        "                     'trend_macd',\n",
        "                     'trend_vortex_ind_diff',\n",
        "                     'momentum_rsi',\n",
        "                     'Close',\n",
        "                     'trend_cci',\n",
        "                     'volatility_kcw',\n",
        "                     'trend_dpo'\n",
        "                     ]\n",
        "for i in selected_features:\n",
        "  array = ta_data.reset_index()[i]\n",
        "  features[i] = array\n",
        "features.head()"
      ],
      "execution_count": 23,
      "outputs": [
        {
          "output_type": "execute_result",
          "data": {
            "text/html": [
              "<div>\n",
              "<style scoped>\n",
              "    .dataframe tbody tr th:only-of-type {\n",
              "        vertical-align: middle;\n",
              "    }\n",
              "\n",
              "    .dataframe tbody tr th {\n",
              "        vertical-align: top;\n",
              "    }\n",
              "\n",
              "    .dataframe thead th {\n",
              "        text-align: right;\n",
              "    }\n",
              "</style>\n",
              "<table border=\"1\" class=\"dataframe\">\n",
              "  <thead>\n",
              "    <tr style=\"text-align: right;\">\n",
              "      <th></th>\n",
              "      <th>f01</th>\n",
              "      <th>f02</th>\n",
              "      <th>f03</th>\n",
              "      <th>f04</th>\n",
              "      <th>f05</th>\n",
              "      <th>f06</th>\n",
              "      <th>f07</th>\n",
              "      <th>f08</th>\n",
              "      <th>volume_adi</th>\n",
              "      <th>volume_fi</th>\n",
              "      <th>volatility_bbm</th>\n",
              "      <th>trend_macd</th>\n",
              "      <th>trend_vortex_ind_diff</th>\n",
              "      <th>momentum_rsi</th>\n",
              "      <th>Close</th>\n",
              "      <th>trend_cci</th>\n",
              "      <th>volatility_kcw</th>\n",
              "      <th>trend_dpo</th>\n",
              "    </tr>\n",
              "  </thead>\n",
              "  <tbody>\n",
              "    <tr>\n",
              "      <th>0</th>\n",
              "      <td>0.038462</td>\n",
              "      <td>-0.087511</td>\n",
              "      <td>16.606185</td>\n",
              "      <td>NaN</td>\n",
              "      <td>16.606185</td>\n",
              "      <td>NaN</td>\n",
              "      <td>1.0</td>\n",
              "      <td>1.0</td>\n",
              "      <td>5.292306e+06</td>\n",
              "      <td>0.000000e+00</td>\n",
              "      <td>64.968750</td>\n",
              "      <td>0.000000</td>\n",
              "      <td>0.000000</td>\n",
              "      <td>100.000000</td>\n",
              "      <td>64.96875</td>\n",
              "      <td>0.000000</td>\n",
              "      <td>15.227934</td>\n",
              "      <td>363.810076</td>\n",
              "    </tr>\n",
              "    <tr>\n",
              "      <th>1</th>\n",
              "      <td>0.002742</td>\n",
              "      <td>0.013902</td>\n",
              "      <td>16.462933</td>\n",
              "      <td>-2174400.0</td>\n",
              "      <td>16.537122</td>\n",
              "      <td>0.707107</td>\n",
              "      <td>1.0</td>\n",
              "      <td>2.0</td>\n",
              "      <td>9.045085e+06</td>\n",
              "      <td>5.073512e+07</td>\n",
              "      <td>66.765625</td>\n",
              "      <td>0.286681</td>\n",
              "      <td>0.019849</td>\n",
              "      <td>100.000000</td>\n",
              "      <td>68.56250</td>\n",
              "      <td>66.666667</td>\n",
              "      <td>11.108496</td>\n",
              "      <td>362.013201</td>\n",
              "    </tr>\n",
              "    <tr>\n",
              "      <th>2</th>\n",
              "      <td>-0.034884</td>\n",
              "      <td>0.048289</td>\n",
              "      <td>16.603739</td>\n",
              "      <td>2134600.0</td>\n",
              "      <td>16.559824</td>\n",
              "      <td>0.243662</td>\n",
              "      <td>-1.0</td>\n",
              "      <td>1.0</td>\n",
              "      <td>3.512422e+06</td>\n",
              "      <td>4.087529e+07</td>\n",
              "      <td>66.989583</td>\n",
              "      <td>0.418278</td>\n",
              "      <td>0.020616</td>\n",
              "      <td>74.787394</td>\n",
              "      <td>67.43750</td>\n",
              "      <td>45.254470</td>\n",
              "      <td>13.191600</td>\n",
              "      <td>361.789242</td>\n",
              "    </tr>\n",
              "    <tr>\n",
              "      <th>3</th>\n",
              "      <td>-0.005131</td>\n",
              "      <td>-0.035538</td>\n",
              "      <td>16.049024</td>\n",
              "      <td>-6919600.0</td>\n",
              "      <td>16.454468</td>\n",
              "      <td>-0.165545</td>\n",
              "      <td>-1.0</td>\n",
              "      <td>0.0</td>\n",
              "      <td>7.141766e+06</td>\n",
              "      <td>3.399438e+07</td>\n",
              "      <td>66.906250</td>\n",
              "      <td>0.454292</td>\n",
              "      <td>0.007632</td>\n",
              "      <td>62.922913</td>\n",
              "      <td>66.65625</td>\n",
              "      <td>-25.659472</td>\n",
              "      <td>12.448327</td>\n",
              "      <td>361.872576</td>\n",
              "    </tr>\n",
              "    <tr>\n",
              "      <th>4</th>\n",
              "      <td>0.044643</td>\n",
              "      <td>-0.006072</td>\n",
              "      <td>15.764388</td>\n",
              "      <td>-2311800.0</td>\n",
              "      <td>16.349449</td>\n",
              "      <td>1.178915</td>\n",
              "      <td>1.0</td>\n",
              "      <td>1.0</td>\n",
              "      <td>1.405287e+07</td>\n",
              "      <td>3.195889e+07</td>\n",
              "      <td>67.418750</td>\n",
              "      <td>0.701690</td>\n",
              "      <td>0.015348</td>\n",
              "      <td>77.042704</td>\n",
              "      <td>69.46875</td>\n",
              "      <td>53.373615</td>\n",
              "      <td>12.303868</td>\n",
              "      <td>361.360076</td>\n",
              "    </tr>\n",
              "  </tbody>\n",
              "</table>\n",
              "</div>"
            ],
            "text/plain": [
              "        f01       f02        f03  ...  trend_cci  volatility_kcw   trend_dpo\n",
              "0  0.038462 -0.087511  16.606185  ...   0.000000       15.227934  363.810076\n",
              "1  0.002742  0.013902  16.462933  ...  66.666667       11.108496  362.013201\n",
              "2 -0.034884  0.048289  16.603739  ...  45.254470       13.191600  361.789242\n",
              "3 -0.005131 -0.035538  16.049024  ... -25.659472       12.448327  361.872576\n",
              "4  0.044643 -0.006072  15.764388  ...  53.373615       12.303868  361.360076\n",
              "\n",
              "[5 rows x 18 columns]"
            ]
          },
          "metadata": {
            "tags": []
          },
          "execution_count": 23
        }
      ]
    },
    {
      "cell_type": "markdown",
      "metadata": {
        "id": "oBH1pwOcQ_0a"
      },
      "source": [
        "#**Feature Selection**"
      ]
    },
    {
      "cell_type": "markdown",
      "metadata": {
        "id": "8tyLAA0zSNvh"
      },
      "source": [
        "#normalization\n"
      ]
    },
    {
      "cell_type": "code",
      "metadata": {
        "id": "HN2c7ix2SQVu"
      },
      "source": [
        "from sklearn.preprocessing import StandardScaler,Normalizer"
      ],
      "execution_count": 24,
      "outputs": []
    },
    {
      "cell_type": "code",
      "metadata": {
        "id": "3NlHn6C8QNn0",
        "outputId": "ddf13315-fe8f-4fb7-ff8a-bdabaf9b016c",
        "colab": {
          "base_uri": "https://localhost:8080/",
          "height": 34
        }
      },
      "source": [
        "#normalizing the inputs\n",
        "std_scaler = StandardScaler()\n",
        "features_scaled = std_scaler.fit_transform(features.dropna())\n",
        "features_scaled.shape"
      ],
      "execution_count": 25,
      "outputs": [
        {
          "output_type": "execute_result",
          "data": {
            "text/plain": [
              "(5434, 18)"
            ]
          },
          "metadata": {
            "tags": []
          },
          "execution_count": 25
        }
      ]
    },
    {
      "cell_type": "code",
      "metadata": {
        "id": "zIfqezTBRIJf",
        "outputId": "10cd314b-2826-4282-b929-63b66d4ccb72",
        "colab": {
          "base_uri": "https://localhost:8080/",
          "height": 224
        }
      },
      "source": [
        "df = pd.DataFrame(features_scaled,index=features.dropna().index)\n",
        "df.columns = features.dropna().columns\n",
        "df.head()"
      ],
      "execution_count": 26,
      "outputs": [
        {
          "output_type": "execute_result",
          "data": {
            "text/html": [
              "<div>\n",
              "<style scoped>\n",
              "    .dataframe tbody tr th:only-of-type {\n",
              "        vertical-align: middle;\n",
              "    }\n",
              "\n",
              "    .dataframe tbody tr th {\n",
              "        vertical-align: top;\n",
              "    }\n",
              "\n",
              "    .dataframe thead th {\n",
              "        text-align: right;\n",
              "    }\n",
              "</style>\n",
              "<table border=\"1\" class=\"dataframe\">\n",
              "  <thead>\n",
              "    <tr style=\"text-align: right;\">\n",
              "      <th></th>\n",
              "      <th>f01</th>\n",
              "      <th>f02</th>\n",
              "      <th>f03</th>\n",
              "      <th>f04</th>\n",
              "      <th>f05</th>\n",
              "      <th>f06</th>\n",
              "      <th>f07</th>\n",
              "      <th>f08</th>\n",
              "      <th>volume_adi</th>\n",
              "      <th>volume_fi</th>\n",
              "      <th>volatility_bbm</th>\n",
              "      <th>trend_macd</th>\n",
              "      <th>trend_vortex_ind_diff</th>\n",
              "      <th>momentum_rsi</th>\n",
              "      <th>Close</th>\n",
              "      <th>trend_cci</th>\n",
              "      <th>volatility_kcw</th>\n",
              "      <th>trend_dpo</th>\n",
              "    </tr>\n",
              "  </thead>\n",
              "  <tbody>\n",
              "    <tr>\n",
              "      <th>1</th>\n",
              "      <td>0.067850</td>\n",
              "      <td>0.329203</td>\n",
              "      <td>1.555228</td>\n",
              "      <td>-0.445689</td>\n",
              "      <td>1.773641</td>\n",
              "      <td>0.060342</td>\n",
              "      <td>0.992305</td>\n",
              "      <td>0.00740</td>\n",
              "      <td>-1.321436</td>\n",
              "      <td>1.320861</td>\n",
              "      <td>-0.553740</td>\n",
              "      <td>-0.214005</td>\n",
              "      <td>-0.167716</td>\n",
              "      <td>3.801459</td>\n",
              "      <td>-0.550398</td>\n",
              "      <td>0.414973</td>\n",
              "      <td>0.793893</td>\n",
              "      <td>14.099053</td>\n",
              "    </tr>\n",
              "    <tr>\n",
              "      <th>2</th>\n",
              "      <td>-1.269176</td>\n",
              "      <td>1.129332</td>\n",
              "      <td>1.793124</td>\n",
              "      <td>0.438384</td>\n",
              "      <td>1.816029</td>\n",
              "      <td>-0.283171</td>\n",
              "      <td>-1.012225</td>\n",
              "      <td>-0.05113</td>\n",
              "      <td>-1.329153</td>\n",
              "      <td>1.046986</td>\n",
              "      <td>-0.553391</td>\n",
              "      <td>-0.206392</td>\n",
              "      <td>-0.165323</td>\n",
              "      <td>1.739303</td>\n",
              "      <td>-0.552119</td>\n",
              "      <td>0.223728</td>\n",
              "      <td>1.225833</td>\n",
              "      <td>14.090336</td>\n",
              "    </tr>\n",
              "    <tr>\n",
              "      <th>3</th>\n",
              "      <td>-0.211908</td>\n",
              "      <td>-0.821167</td>\n",
              "      <td>0.855916</td>\n",
              "      <td>-1.419258</td>\n",
              "      <td>1.619316</td>\n",
              "      <td>-0.586483</td>\n",
              "      <td>-1.012225</td>\n",
              "      <td>-0.10966</td>\n",
              "      <td>-1.324091</td>\n",
              "      <td>0.855856</td>\n",
              "      <td>-0.553521</td>\n",
              "      <td>-0.204308</td>\n",
              "      <td>-0.205822</td>\n",
              "      <td>0.768899</td>\n",
              "      <td>-0.553315</td>\n",
              "      <td>-0.409649</td>\n",
              "      <td>1.071712</td>\n",
              "      <td>14.093579</td>\n",
              "    </tr>\n",
              "    <tr>\n",
              "      <th>4</th>\n",
              "      <td>1.556776</td>\n",
              "      <td>-0.135551</td>\n",
              "      <td>0.375014</td>\n",
              "      <td>-0.473880</td>\n",
              "      <td>1.423233</td>\n",
              "      <td>0.410054</td>\n",
              "      <td>0.992305</td>\n",
              "      <td>-0.05113</td>\n",
              "      <td>-1.314450</td>\n",
              "      <td>0.799317</td>\n",
              "      <td>-0.552724</td>\n",
              "      <td>-0.189996</td>\n",
              "      <td>-0.181753</td>\n",
              "      <td>1.923766</td>\n",
              "      <td>-0.549011</td>\n",
              "      <td>0.296245</td>\n",
              "      <td>1.041758</td>\n",
              "      <td>14.073632</td>\n",
              "    </tr>\n",
              "    <tr>\n",
              "      <th>5</th>\n",
              "      <td>-1.355753</td>\n",
              "      <td>1.426699</td>\n",
              "      <td>0.494298</td>\n",
              "      <td>0.105805</td>\n",
              "      <td>1.143850</td>\n",
              "      <td>-0.665497</td>\n",
              "      <td>-1.012225</td>\n",
              "      <td>-0.10966</td>\n",
              "      <td>-1.322031</td>\n",
              "      <td>0.595888</td>\n",
              "      <td>-0.552857</td>\n",
              "      <td>-0.191071</td>\n",
              "      <td>-0.169682</td>\n",
              "      <td>0.209674</td>\n",
              "      <td>-0.552932</td>\n",
              "      <td>0.129251</td>\n",
              "      <td>1.004728</td>\n",
              "      <td>14.076957</td>\n",
              "    </tr>\n",
              "  </tbody>\n",
              "</table>\n",
              "</div>"
            ],
            "text/plain": [
              "        f01       f02       f03  ...  trend_cci  volatility_kcw  trend_dpo\n",
              "1  0.067850  0.329203  1.555228  ...   0.414973        0.793893  14.099053\n",
              "2 -1.269176  1.129332  1.793124  ...   0.223728        1.225833  14.090336\n",
              "3 -0.211908 -0.821167  0.855916  ...  -0.409649        1.071712  14.093579\n",
              "4  1.556776 -0.135551  0.375014  ...   0.296245        1.041758  14.073632\n",
              "5 -1.355753  1.426699  0.494298  ...   0.129251        1.004728  14.076957\n",
              "\n",
              "[5 rows x 18 columns]"
            ]
          },
          "metadata": {
            "tags": []
          },
          "execution_count": 26
        }
      ]
    },
    {
      "cell_type": "code",
      "metadata": {
        "id": "wbz49W09Ryw5",
        "outputId": "f6362818-c522-4a1c-dcc9-643bc08a8013",
        "colab": {
          "base_uri": "https://localhost:8080/",
          "height": 119
        }
      },
      "source": [
        "input_df = df\n",
        "output_df = df['Close'] \n",
        "print(output_df.tail())\n"
      ],
      "execution_count": 27,
      "outputs": [
        {
          "output_type": "stream",
          "text": [
            "5430    4.239628\n",
            "5431    4.087786\n",
            "5432    4.234258\n",
            "5433    4.226394\n",
            "5434    4.373431\n",
            "Name: Close, dtype: float64\n"
          ],
          "name": "stdout"
        }
      ]
    },
    {
      "cell_type": "code",
      "metadata": {
        "id": "5aVCoOa3W0oE",
        "outputId": "4d52a797-2de1-4548-b108-cc92830de460",
        "colab": {
          "base_uri": "https://localhost:8080/",
          "height": 340
        }
      },
      "source": [
        "corr = input_df.corrwith(output_df)\n",
        "corr"
      ],
      "execution_count": 28,
      "outputs": [
        {
          "output_type": "execute_result",
          "data": {
            "text/plain": [
              "f01                     -0.011968\n",
              "f02                     -0.011599\n",
              "f03                     -0.315343\n",
              "f04                      0.000535\n",
              "f05                     -0.364107\n",
              "f06                      0.277143\n",
              "f07                     -0.000002\n",
              "f08                     -0.034640\n",
              "volume_adi               0.672320\n",
              "volume_fi                0.106073\n",
              "volatility_bbm           0.998462\n",
              "trend_macd               0.492926\n",
              "trend_vortex_ind_diff    0.131190\n",
              "momentum_rsi             0.166667\n",
              "Close                    1.000000\n",
              "trend_cci                0.121213\n",
              "volatility_kcw          -0.344815\n",
              "trend_dpo               -0.093091\n",
              "dtype: float64"
            ]
          },
          "metadata": {
            "tags": []
          },
          "execution_count": 28
        }
      ]
    },
    {
      "cell_type": "code",
      "metadata": {
        "id": "suMtod_imd1f",
        "outputId": "87440f97-9c22-4b58-cb1e-13834e5a9507",
        "colab": {
          "base_uri": "https://localhost:8080/",
          "height": 187
        }
      },
      "source": [
        "selected_columns = corr[corr>0.1].index.to_list()\n",
        "corr = input_df[selected_columns].corrwith(output_df)\n",
        "corr"
      ],
      "execution_count": 29,
      "outputs": [
        {
          "output_type": "execute_result",
          "data": {
            "text/plain": [
              "f06                      0.277143\n",
              "volume_adi               0.672320\n",
              "volume_fi                0.106073\n",
              "volatility_bbm           0.998462\n",
              "trend_macd               0.492926\n",
              "trend_vortex_ind_diff    0.131190\n",
              "momentum_rsi             0.166667\n",
              "Close                    1.000000\n",
              "trend_cci                0.121213\n",
              "dtype: float64"
            ]
          },
          "metadata": {
            "tags": []
          },
          "execution_count": 29
        }
      ]
    },
    {
      "cell_type": "code",
      "metadata": {
        "id": "A3LhcvbTgjxl"
      },
      "source": [
        "import seaborn as sns\n",
        "from scipy.cluster import hierarchy\n",
        "from scipy.spatial import distance"
      ],
      "execution_count": 30,
      "outputs": []
    },
    {
      "cell_type": "code",
      "metadata": {
        "id": "CPM9qGMaf7Z2",
        "outputId": "8c67b641-8d68-445c-a3b9-1588b0534b17",
        "colab": {
          "base_uri": "https://localhost:8080/",
          "height": 447
        }
      },
      "source": [
        "corr_matrix = input_df[selected_features].corr()\n",
        "correlations_array = np.asarray(corr_matrix)\n",
        "linkage = hierarchy.linkage(distance.pdist(correlations_array),method='average')\n",
        "g=sns.clustermap(corr_matrix,row_linkage=linkage,col_linkage=linkage,row_cluster=True,col_cluster=True,figsize=(6,6),cmap='Greens')\n",
        "plt.setp(g.ax_heatmap.yaxis.get_majorticklabels(), rotation=0)\n",
        "plt.show()"
      ],
      "execution_count": 31,
      "outputs": [
        {
          "output_type": "display_data",
          "data": {
            "image/png": "[encoded data removed]",
            "text/plain": [
              "<Figure size 432x432 with 4 Axes>"
            ]
          },
          "metadata": {
            "tags": [],
            "needs_background": "light"
          }
        }
      ]
    },
    {
      "cell_type": "code",
      "metadata": {
        "id": "41L9mtH_qIGK",
        "outputId": "045bee2c-a0cd-404b-f64d-bf9ab26e7668",
        "colab": {
          "base_uri": "https://localhost:8080/",
          "height": 204
        }
      },
      "source": [
        "#ignore the close input\n",
        "label_order = corr_matrix.iloc[:,g.dendrogram_row.reordered_ind].columns\n",
        "print(\"Correlation Strength\")\n",
        "print(corr[corr>0.1].sort_values(ascending=False))"
      ],
      "execution_count": 32,
      "outputs": [
        {
          "output_type": "stream",
          "text": [
            "Correlation Strength\n",
            "Close                    1.000000\n",
            "volatility_bbm           0.998462\n",
            "volume_adi               0.672320\n",
            "trend_macd               0.492926\n",
            "f06                      0.277143\n",
            "momentum_rsi             0.166667\n",
            "trend_vortex_ind_diff    0.131190\n",
            "trend_cci                0.121213\n",
            "volume_fi                0.106073\n",
            "dtype: float64\n"
          ],
          "name": "stdout"
        }
      ]
    }
  ]
}