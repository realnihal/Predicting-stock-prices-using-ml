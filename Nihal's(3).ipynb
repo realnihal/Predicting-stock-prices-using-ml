{
  "nbformat": 4,
  "nbformat_minor": 0,
  "metadata": {
    "kernelspec": {
      "display_name": "Python 3",
      "language": "python",
      "name": "python3"
    },
    "language_info": {
      "codemirror_mode": {
        "name": "ipython",
        "version": 3
      },
      "file_extension": ".py",
      "mimetype": "text/x-python",
      "name": "python",
      "nbconvert_exporter": "python",
      "pygments_lexer": "ipython3",
      "version": "3.7.9"
    },
    "colab": {
      "name": "Nihal's(2).ipynb",
      "provenance": [],
      "collapsed_sections": [
        "L7hp1FsW_JEG",
        "oBH1pwOcQ_0a"
      ],
      "include_colab_link": true
    }
  },
  "cells": [
    {
      "cell_type": "markdown",
      "metadata": {
        "id": "view-in-github",
        "colab_type": "text"
      },
      "source": [
        "<a href=\"https://colab.research.google.com/github/realnihal/Predicting-stock-prices-using-ml/blob/main/Nihal's(3).ipynb\" target=\"_parent\"><img src=\"https://colab.research.google.com/assets/colab-badge.svg\" alt=\"Open In Colab\"/></a>"
      ]
    },
    {
      "cell_type": "code",
      "metadata": {
        "id": "33L8XsVafnR0"
      },
      "source": [
        "from datetime import datetime\n",
        "import pandas as pd\n",
        "import numpy as np\n",
        "import pandas_datareader.data as web\n",
        "import matplotlib.pyplot as plt"
      ],
      "execution_count": 37,
      "outputs": []
    },
    {
      "cell_type": "markdown",
      "metadata": {
        "id": "ewmxjdrtiOPH"
      },
      "source": [
        "#**Getting** **basic data**"
      ]
    },
    {
      "cell_type": "code",
      "metadata": {
        "id": "sln8ahPlfnR3"
      },
      "source": [
        "start = datetime(1999, 3, 9)\n",
        "end = datetime.today()\n",
        "yahoo = web.DataReader('AMZN','yahoo',start=start,end=end)\n",
        "yahoo.info\n",
        "data = yahoo"
      ],
      "execution_count": 72,
      "outputs": []
    },
    {
      "cell_type": "code",
      "metadata": {
        "id": "eplIDO1efnR7",
        "outputId": "ffd05278-09f6-4c96-c827-a67ad818ef50",
        "colab": {
          "base_uri": "https://localhost:8080/",
          "height": 225
        }
      },
      "source": [
        "data.to_csv('DATA.csv')\n",
        "data.tail()"
      ],
      "execution_count": 73,
      "outputs": [
        {
          "output_type": "execute_result",
          "data": {
            "text/html": [
              "<div>\n",
              "<style scoped>\n",
              "    .dataframe tbody tr th:only-of-type {\n",
              "        vertical-align: middle;\n",
              "    }\n",
              "\n",
              "    .dataframe tbody tr th {\n",
              "        vertical-align: top;\n",
              "    }\n",
              "\n",
              "    .dataframe thead th {\n",
              "        text-align: right;\n",
              "    }\n",
              "</style>\n",
              "<table border=\"1\" class=\"dataframe\">\n",
              "  <thead>\n",
              "    <tr style=\"text-align: right;\">\n",
              "      <th></th>\n",
              "      <th>High</th>\n",
              "      <th>Low</th>\n",
              "      <th>Open</th>\n",
              "      <th>Close</th>\n",
              "      <th>Volume</th>\n",
              "      <th>Adj Close</th>\n",
              "    </tr>\n",
              "    <tr>\n",
              "      <th>Date</th>\n",
              "      <th></th>\n",
              "      <th></th>\n",
              "      <th></th>\n",
              "      <th></th>\n",
              "      <th></th>\n",
              "      <th></th>\n",
              "    </tr>\n",
              "  </thead>\n",
              "  <tbody>\n",
              "    <tr>\n",
              "      <th>2020-10-27</th>\n",
              "      <td>3291.659912</td>\n",
              "      <td>3211.300049</td>\n",
              "      <td>3224.939941</td>\n",
              "      <td>3286.330078</td>\n",
              "      <td>4291000.0</td>\n",
              "      <td>3286.330078</td>\n",
              "    </tr>\n",
              "    <tr>\n",
              "      <th>2020-10-28</th>\n",
              "      <td>3264.020020</td>\n",
              "      <td>3162.469971</td>\n",
              "      <td>3249.300049</td>\n",
              "      <td>3162.780029</td>\n",
              "      <td>5588300.0</td>\n",
              "      <td>3162.780029</td>\n",
              "    </tr>\n",
              "    <tr>\n",
              "      <th>2020-10-29</th>\n",
              "      <td>3257.250000</td>\n",
              "      <td>3164.000000</td>\n",
              "      <td>3201.270020</td>\n",
              "      <td>3211.010010</td>\n",
              "      <td>6596500.0</td>\n",
              "      <td>3211.010010</td>\n",
              "    </tr>\n",
              "    <tr>\n",
              "      <th>2020-10-30</th>\n",
              "      <td>3167.000000</td>\n",
              "      <td>3019.000000</td>\n",
              "      <td>3157.750000</td>\n",
              "      <td>3036.149902</td>\n",
              "      <td>8386400.0</td>\n",
              "      <td>3036.149902</td>\n",
              "    </tr>\n",
              "    <tr>\n",
              "      <th>2020-11-02</th>\n",
              "      <td>3079.709961</td>\n",
              "      <td>2950.120117</td>\n",
              "      <td>3061.739990</td>\n",
              "      <td>3004.479980</td>\n",
              "      <td>7241400.0</td>\n",
              "      <td>3004.479980</td>\n",
              "    </tr>\n",
              "  </tbody>\n",
              "</table>\n",
              "</div>"
            ],
            "text/plain": [
              "                   High          Low  ...     Volume    Adj Close\n",
              "Date                                  ...                        \n",
              "2020-10-27  3291.659912  3211.300049  ...  4291000.0  3286.330078\n",
              "2020-10-28  3264.020020  3162.469971  ...  5588300.0  3162.780029\n",
              "2020-10-29  3257.250000  3164.000000  ...  6596500.0  3211.010010\n",
              "2020-10-30  3167.000000  3019.000000  ...  8386400.0  3036.149902\n",
              "2020-11-02  3079.709961  2950.120117  ...  7241400.0  3004.479980\n",
              "\n",
              "[5 rows x 6 columns]"
            ]
          },
          "metadata": {
            "tags": []
          },
          "execution_count": 73
        }
      ]
    },
    {
      "cell_type": "code",
      "metadata": {
        "id": "6W3dBOoofnR-",
        "outputId": "4a145285-b0d2-46dd-daa9-77636ffee8c4",
        "colab": {
          "base_uri": "https://localhost:8080/",
          "height": 320
        }
      },
      "source": [
        "df = data.reset_index()['Close']\n",
        "plt.figure(figsize = (14,5))\n",
        "plt.plot(df)\n",
        "plt.show()"
      ],
      "execution_count": 40,
      "outputs": [
        {
          "output_type": "display_data",
          "data": {
            "image/png": "[encoded data removed]",
            "text/plain": [
              "<Figure size 1008x360 with 1 Axes>"
            ]
          },
          "metadata": {
            "tags": [],
            "needs_background": "light"
          }
        }
      ]
    },
    {
      "cell_type": "code",
      "metadata": {
        "id": "VwE9IBZmfnSH",
        "outputId": "ad056267-3efc-4c00-c9cf-b2f9c1429fe3",
        "colab": {
          "base_uri": "https://localhost:8080/",
          "height": 284
        }
      },
      "source": [
        "data.describe()"
      ],
      "execution_count": 41,
      "outputs": [
        {
          "output_type": "execute_result",
          "data": {
            "text/html": [
              "<div>\n",
              "<style scoped>\n",
              "    .dataframe tbody tr th:only-of-type {\n",
              "        vertical-align: middle;\n",
              "    }\n",
              "\n",
              "    .dataframe tbody tr th {\n",
              "        vertical-align: top;\n",
              "    }\n",
              "\n",
              "    .dataframe thead th {\n",
              "        text-align: right;\n",
              "    }\n",
              "</style>\n",
              "<table border=\"1\" class=\"dataframe\">\n",
              "  <thead>\n",
              "    <tr style=\"text-align: right;\">\n",
              "      <th></th>\n",
              "      <th>High</th>\n",
              "      <th>Low</th>\n",
              "      <th>Open</th>\n",
              "      <th>Close</th>\n",
              "      <th>Volume</th>\n",
              "      <th>Adj Close</th>\n",
              "    </tr>\n",
              "  </thead>\n",
              "  <tbody>\n",
              "    <tr>\n",
              "      <th>count</th>\n",
              "      <td>5451.000000</td>\n",
              "      <td>5451.000000</td>\n",
              "      <td>5451.000000</td>\n",
              "      <td>5451.000000</td>\n",
              "      <td>5.451000e+03</td>\n",
              "      <td>5451.000000</td>\n",
              "    </tr>\n",
              "    <tr>\n",
              "      <th>mean</th>\n",
              "      <td>441.470740</td>\n",
              "      <td>431.009636</td>\n",
              "      <td>436.519970</td>\n",
              "      <td>436.460029</td>\n",
              "      <td>6.835996e+06</td>\n",
              "      <td>436.460029</td>\n",
              "    </tr>\n",
              "    <tr>\n",
              "      <th>std</th>\n",
              "      <td>677.941509</td>\n",
              "      <td>661.754819</td>\n",
              "      <td>670.474734</td>\n",
              "      <td>670.097193</td>\n",
              "      <td>5.599317e+06</td>\n",
              "      <td>670.097193</td>\n",
              "    </tr>\n",
              "    <tr>\n",
              "      <th>min</th>\n",
              "      <td>6.100000</td>\n",
              "      <td>5.510000</td>\n",
              "      <td>5.910000</td>\n",
              "      <td>5.970000</td>\n",
              "      <td>8.813000e+05</td>\n",
              "      <td>5.970000</td>\n",
              "    </tr>\n",
              "    <tr>\n",
              "      <th>25%</th>\n",
              "      <td>43.200001</td>\n",
              "      <td>41.617500</td>\n",
              "      <td>42.377501</td>\n",
              "      <td>42.439999</td>\n",
              "      <td>3.688650e+06</td>\n",
              "      <td>42.439999</td>\n",
              "    </tr>\n",
              "    <tr>\n",
              "      <th>50%</th>\n",
              "      <td>122.480003</td>\n",
              "      <td>118.010002</td>\n",
              "      <td>120.309998</td>\n",
              "      <td>120.099998</td>\n",
              "      <td>5.537000e+06</td>\n",
              "      <td>120.099998</td>\n",
              "    </tr>\n",
              "    <tr>\n",
              "      <th>75%</th>\n",
              "      <td>435.385010</td>\n",
              "      <td>428.020004</td>\n",
              "      <td>431.164993</td>\n",
              "      <td>431.004990</td>\n",
              "      <td>8.048450e+06</td>\n",
              "      <td>431.004990</td>\n",
              "    </tr>\n",
              "    <tr>\n",
              "      <th>max</th>\n",
              "      <td>3552.250000</td>\n",
              "      <td>3486.689941</td>\n",
              "      <td>3547.000000</td>\n",
              "      <td>3531.449951</td>\n",
              "      <td>1.043292e+08</td>\n",
              "      <td>3531.449951</td>\n",
              "    </tr>\n",
              "  </tbody>\n",
              "</table>\n",
              "</div>"
            ],
            "text/plain": [
              "              High          Low  ...        Volume    Adj Close\n",
              "count  5451.000000  5451.000000  ...  5.451000e+03  5451.000000\n",
              "mean    441.470740   431.009636  ...  6.835996e+06   436.460029\n",
              "std     677.941509   661.754819  ...  5.599317e+06   670.097193\n",
              "min       6.100000     5.510000  ...  8.813000e+05     5.970000\n",
              "25%      43.200001    41.617500  ...  3.688650e+06    42.439999\n",
              "50%     122.480003   118.010002  ...  5.537000e+06   120.099998\n",
              "75%     435.385010   428.020004  ...  8.048450e+06   431.004990\n",
              "max    3552.250000  3486.689941  ...  1.043292e+08  3531.449951\n",
              "\n",
              "[8 rows x 6 columns]"
            ]
          },
          "metadata": {
            "tags": []
          },
          "execution_count": 41
        }
      ]
    },
    {
      "cell_type": "code",
      "metadata": {
        "id": "A7Y1eUTo3Gwg",
        "outputId": "86f721e0-9e76-4915-cfc6-cbe30c2d47b5",
        "colab": {
          "base_uri": "https://localhost:8080/"
        }
      },
      "source": [
        "data.info()"
      ],
      "execution_count": 42,
      "outputs": [
        {
          "output_type": "stream",
          "text": [
            "<class 'pandas.core.frame.DataFrame'>\n",
            "DatetimeIndex: 5451 entries, 1999-03-09 to 2020-11-02\n",
            "Data columns (total 6 columns):\n",
            " #   Column     Non-Null Count  Dtype  \n",
            "---  ------     --------------  -----  \n",
            " 0   High       5451 non-null   float64\n",
            " 1   Low        5451 non-null   float64\n",
            " 2   Open       5451 non-null   float64\n",
            " 3   Close      5451 non-null   float64\n",
            " 4   Volume     5451 non-null   float64\n",
            " 5   Adj Close  5451 non-null   float64\n",
            "dtypes: float64(6)\n",
            "memory usage: 298.1 KB\n"
          ],
          "name": "stdout"
        }
      ]
    },
    {
      "cell_type": "code",
      "metadata": {
        "id": "pKLaR7Tv1uqj",
        "outputId": "0e0ca103-24d5-4c27-c92b-a095721172dc",
        "colab": {
          "base_uri": "https://localhost:8080/"
        }
      },
      "source": [
        "df.describe()"
      ],
      "execution_count": 43,
      "outputs": [
        {
          "output_type": "execute_result",
          "data": {
            "text/plain": [
              "count    5451.000000\n",
              "mean      436.460029\n",
              "std       670.097193\n",
              "min         5.970000\n",
              "25%        42.439999\n",
              "50%       120.099998\n",
              "75%       431.004990\n",
              "max      3531.449951\n",
              "Name: Close, dtype: float64"
            ]
          },
          "metadata": {
            "tags": []
          },
          "execution_count": 43
        }
      ]
    },
    {
      "cell_type": "markdown",
      "metadata": {
        "id": "vJWJ_MaF8VO8"
      },
      "source": [
        "#**Creating more features**"
      ]
    },
    {
      "cell_type": "code",
      "metadata": {
        "id": "XnpHdnoz2wVz",
        "outputId": "61b37699-0a29-4a34-8140-940b52df7c54",
        "colab": {
          "base_uri": "https://localhost:8080/",
          "height": 195
        }
      },
      "source": [
        "#closing prices to opening prices (changes) net gain in day\n",
        "features = pd.DataFrame(index=df.index).sort_index()\n",
        "features['f01'] = data.reset_index()['Close']/data.reset_index()['Open']-1\n",
        "features.head()"
      ],
      "execution_count": 44,
      "outputs": [
        {
          "output_type": "execute_result",
          "data": {
            "text/html": [
              "<div>\n",
              "<style scoped>\n",
              "    .dataframe tbody tr th:only-of-type {\n",
              "        vertical-align: middle;\n",
              "    }\n",
              "\n",
              "    .dataframe tbody tr th {\n",
              "        vertical-align: top;\n",
              "    }\n",
              "\n",
              "    .dataframe thead th {\n",
              "        text-align: right;\n",
              "    }\n",
              "</style>\n",
              "<table border=\"1\" class=\"dataframe\">\n",
              "  <thead>\n",
              "    <tr style=\"text-align: right;\">\n",
              "      <th></th>\n",
              "      <th>f01</th>\n",
              "    </tr>\n",
              "  </thead>\n",
              "  <tbody>\n",
              "    <tr>\n",
              "      <th>0</th>\n",
              "      <td>0.038462</td>\n",
              "    </tr>\n",
              "    <tr>\n",
              "      <th>1</th>\n",
              "      <td>0.002742</td>\n",
              "    </tr>\n",
              "    <tr>\n",
              "      <th>2</th>\n",
              "      <td>-0.034884</td>\n",
              "    </tr>\n",
              "    <tr>\n",
              "      <th>3</th>\n",
              "      <td>-0.005131</td>\n",
              "    </tr>\n",
              "    <tr>\n",
              "      <th>4</th>\n",
              "      <td>0.044643</td>\n",
              "    </tr>\n",
              "  </tbody>\n",
              "</table>\n",
              "</div>"
            ],
            "text/plain": [
              "        f01\n",
              "0  0.038462\n",
              "1  0.002742\n",
              "2 -0.034884\n",
              "3 -0.005131\n",
              "4  0.044643"
            ]
          },
          "metadata": {
            "tags": []
          },
          "execution_count": 44
        }
      ]
    },
    {
      "cell_type": "code",
      "metadata": {
        "id": "dNfSQ-QM6LS0",
        "outputId": "6eea038a-ff49-438a-fb79-2df6d3f934dd",
        "colab": {
          "base_uri": "https://localhost:8080/",
          "height": 195
        }
      },
      "source": [
        "#opening prices compared to previous days closing prices (changes)\n",
        "array = data.reset_index()['Open']/data.reset_index()['Close'].shift(-1)-1\n",
        "features['f02'] = array\n",
        "features.tail()"
      ],
      "execution_count": 45,
      "outputs": [
        {
          "output_type": "execute_result",
          "data": {
            "text/html": [
              "<div>\n",
              "<style scoped>\n",
              "    .dataframe tbody tr th:only-of-type {\n",
              "        vertical-align: middle;\n",
              "    }\n",
              "\n",
              "    .dataframe tbody tr th {\n",
              "        vertical-align: top;\n",
              "    }\n",
              "\n",
              "    .dataframe thead th {\n",
              "        text-align: right;\n",
              "    }\n",
              "</style>\n",
              "<table border=\"1\" class=\"dataframe\">\n",
              "  <thead>\n",
              "    <tr style=\"text-align: right;\">\n",
              "      <th></th>\n",
              "      <th>f01</th>\n",
              "      <th>f02</th>\n",
              "    </tr>\n",
              "  </thead>\n",
              "  <tbody>\n",
              "    <tr>\n",
              "      <th>5446</th>\n",
              "      <td>0.019036</td>\n",
              "      <td>0.019654</td>\n",
              "    </tr>\n",
              "    <tr>\n",
              "      <th>5447</th>\n",
              "      <td>-0.026627</td>\n",
              "      <td>0.011925</td>\n",
              "    </tr>\n",
              "    <tr>\n",
              "      <th>5448</th>\n",
              "      <td>0.003043</td>\n",
              "      <td>0.054385</td>\n",
              "    </tr>\n",
              "    <tr>\n",
              "      <th>5449</th>\n",
              "      <td>-0.038508</td>\n",
              "      <td>0.051014</td>\n",
              "    </tr>\n",
              "    <tr>\n",
              "      <th>5450</th>\n",
              "      <td>-0.018702</td>\n",
              "      <td>NaN</td>\n",
              "    </tr>\n",
              "  </tbody>\n",
              "</table>\n",
              "</div>"
            ],
            "text/plain": [
              "           f01       f02\n",
              "5446  0.019036  0.019654\n",
              "5447 -0.026627  0.011925\n",
              "5448  0.003043  0.054385\n",
              "5449 -0.038508  0.051014\n",
              "5450 -0.018702       NaN"
            ]
          },
          "metadata": {
            "tags": []
          },
          "execution_count": 45
        }
      ]
    },
    {
      "cell_type": "code",
      "metadata": {
        "id": "-yeohvbkA21-",
        "outputId": "dc8bd80c-95f7-4015-866d-492c50a524cc",
        "colab": {
          "base_uri": "https://localhost:8080/",
          "height": 195
        }
      },
      "source": [
        "#volume logs\n",
        "array = data.reset_index()['Volume'].apply(np.log)\n",
        "features['f03'] = array\n",
        "features.tail()"
      ],
      "execution_count": 46,
      "outputs": [
        {
          "output_type": "execute_result",
          "data": {
            "text/html": [
              "<div>\n",
              "<style scoped>\n",
              "    .dataframe tbody tr th:only-of-type {\n",
              "        vertical-align: middle;\n",
              "    }\n",
              "\n",
              "    .dataframe tbody tr th {\n",
              "        vertical-align: top;\n",
              "    }\n",
              "\n",
              "    .dataframe thead th {\n",
              "        text-align: right;\n",
              "    }\n",
              "</style>\n",
              "<table border=\"1\" class=\"dataframe\">\n",
              "  <thead>\n",
              "    <tr style=\"text-align: right;\">\n",
              "      <th></th>\n",
              "      <th>f01</th>\n",
              "      <th>f02</th>\n",
              "      <th>f03</th>\n",
              "    </tr>\n",
              "  </thead>\n",
              "  <tbody>\n",
              "    <tr>\n",
              "      <th>5446</th>\n",
              "      <td>0.019036</td>\n",
              "      <td>0.019654</td>\n",
              "      <td>15.272030</td>\n",
              "    </tr>\n",
              "    <tr>\n",
              "      <th>5447</th>\n",
              "      <td>-0.026627</td>\n",
              "      <td>0.011925</td>\n",
              "      <td>15.536186</td>\n",
              "    </tr>\n",
              "    <tr>\n",
              "      <th>5448</th>\n",
              "      <td>0.003043</td>\n",
              "      <td>0.054385</td>\n",
              "      <td>15.702050</td>\n",
              "    </tr>\n",
              "    <tr>\n",
              "      <th>5449</th>\n",
              "      <td>-0.038508</td>\n",
              "      <td>0.051014</td>\n",
              "      <td>15.942122</td>\n",
              "    </tr>\n",
              "    <tr>\n",
              "      <th>5450</th>\n",
              "      <td>-0.018702</td>\n",
              "      <td>NaN</td>\n",
              "      <td>15.795325</td>\n",
              "    </tr>\n",
              "  </tbody>\n",
              "</table>\n",
              "</div>"
            ],
            "text/plain": [
              "           f01       f02        f03\n",
              "5446  0.019036  0.019654  15.272030\n",
              "5447 -0.026627  0.011925  15.536186\n",
              "5448  0.003043  0.054385  15.702050\n",
              "5449 -0.038508  0.051014  15.942122\n",
              "5450 -0.018702       NaN  15.795325"
            ]
          },
          "metadata": {
            "tags": []
          },
          "execution_count": 46
        }
      ]
    },
    {
      "cell_type": "code",
      "metadata": {
        "id": "XKyqJhmXBtRI",
        "outputId": "d85846ee-001b-4207-820c-d0822623e4d4",
        "colab": {
          "base_uri": "https://localhost:8080/",
          "height": 195
        }
      },
      "source": [
        "#volume difference to previous day\n",
        "array = data.reset_index()['Volume'].diff()\n",
        "features['f04'] = array\n",
        "features.head()"
      ],
      "execution_count": 47,
      "outputs": [
        {
          "output_type": "execute_result",
          "data": {
            "text/html": [
              "<div>\n",
              "<style scoped>\n",
              "    .dataframe tbody tr th:only-of-type {\n",
              "        vertical-align: middle;\n",
              "    }\n",
              "\n",
              "    .dataframe tbody tr th {\n",
              "        vertical-align: top;\n",
              "    }\n",
              "\n",
              "    .dataframe thead th {\n",
              "        text-align: right;\n",
              "    }\n",
              "</style>\n",
              "<table border=\"1\" class=\"dataframe\">\n",
              "  <thead>\n",
              "    <tr style=\"text-align: right;\">\n",
              "      <th></th>\n",
              "      <th>f01</th>\n",
              "      <th>f02</th>\n",
              "      <th>f03</th>\n",
              "      <th>f04</th>\n",
              "    </tr>\n",
              "  </thead>\n",
              "  <tbody>\n",
              "    <tr>\n",
              "      <th>0</th>\n",
              "      <td>0.038462</td>\n",
              "      <td>-0.087511</td>\n",
              "      <td>16.606185</td>\n",
              "      <td>NaN</td>\n",
              "    </tr>\n",
              "    <tr>\n",
              "      <th>1</th>\n",
              "      <td>0.002742</td>\n",
              "      <td>0.013902</td>\n",
              "      <td>16.462933</td>\n",
              "      <td>-2174400.0</td>\n",
              "    </tr>\n",
              "    <tr>\n",
              "      <th>2</th>\n",
              "      <td>-0.034884</td>\n",
              "      <td>0.048289</td>\n",
              "      <td>16.603739</td>\n",
              "      <td>2134600.0</td>\n",
              "    </tr>\n",
              "    <tr>\n",
              "      <th>3</th>\n",
              "      <td>-0.005131</td>\n",
              "      <td>-0.035538</td>\n",
              "      <td>16.049024</td>\n",
              "      <td>-6919600.0</td>\n",
              "    </tr>\n",
              "    <tr>\n",
              "      <th>4</th>\n",
              "      <td>0.044643</td>\n",
              "      <td>-0.006072</td>\n",
              "      <td>15.764388</td>\n",
              "      <td>-2311800.0</td>\n",
              "    </tr>\n",
              "  </tbody>\n",
              "</table>\n",
              "</div>"
            ],
            "text/plain": [
              "        f01       f02        f03        f04\n",
              "0  0.038462 -0.087511  16.606185        NaN\n",
              "1  0.002742  0.013902  16.462933 -2174400.0\n",
              "2 -0.034884  0.048289  16.603739  2134600.0\n",
              "3 -0.005131 -0.035538  16.049024 -6919600.0\n",
              "4  0.044643 -0.006072  15.764388 -2311800.0"
            ]
          },
          "metadata": {
            "tags": []
          },
          "execution_count": 47
        }
      ]
    },
    {
      "cell_type": "code",
      "metadata": {
        "id": "TjoQnLdhDb12",
        "outputId": "0c7b56aa-3c75-4f2e-d5e0-34f83190b61e",
        "colab": {
          "base_uri": "https://localhost:8080/",
          "height": 195
        }
      },
      "source": [
        "#log of 5 days moving average of volume\n",
        "ma_5 = lambda x : x.rolling(5).mean()\n",
        "array = data.reset_index()['Volume'].rolling(5,min_periods=1).mean().apply(np.log)\n",
        "features['f05'] = array\n",
        "features.head()"
      ],
      "execution_count": 48,
      "outputs": [
        {
          "output_type": "execute_result",
          "data": {
            "text/html": [
              "<div>\n",
              "<style scoped>\n",
              "    .dataframe tbody tr th:only-of-type {\n",
              "        vertical-align: middle;\n",
              "    }\n",
              "\n",
              "    .dataframe tbody tr th {\n",
              "        vertical-align: top;\n",
              "    }\n",
              "\n",
              "    .dataframe thead th {\n",
              "        text-align: right;\n",
              "    }\n",
              "</style>\n",
              "<table border=\"1\" class=\"dataframe\">\n",
              "  <thead>\n",
              "    <tr style=\"text-align: right;\">\n",
              "      <th></th>\n",
              "      <th>f01</th>\n",
              "      <th>f02</th>\n",
              "      <th>f03</th>\n",
              "      <th>f04</th>\n",
              "      <th>f05</th>\n",
              "    </tr>\n",
              "  </thead>\n",
              "  <tbody>\n",
              "    <tr>\n",
              "      <th>0</th>\n",
              "      <td>0.038462</td>\n",
              "      <td>-0.087511</td>\n",
              "      <td>16.606185</td>\n",
              "      <td>NaN</td>\n",
              "      <td>16.606185</td>\n",
              "    </tr>\n",
              "    <tr>\n",
              "      <th>1</th>\n",
              "      <td>0.002742</td>\n",
              "      <td>0.013902</td>\n",
              "      <td>16.462933</td>\n",
              "      <td>-2174400.0</td>\n",
              "      <td>16.537122</td>\n",
              "    </tr>\n",
              "    <tr>\n",
              "      <th>2</th>\n",
              "      <td>-0.034884</td>\n",
              "      <td>0.048289</td>\n",
              "      <td>16.603739</td>\n",
              "      <td>2134600.0</td>\n",
              "      <td>16.559824</td>\n",
              "    </tr>\n",
              "    <tr>\n",
              "      <th>3</th>\n",
              "      <td>-0.005131</td>\n",
              "      <td>-0.035538</td>\n",
              "      <td>16.049024</td>\n",
              "      <td>-6919600.0</td>\n",
              "      <td>16.454468</td>\n",
              "    </tr>\n",
              "    <tr>\n",
              "      <th>4</th>\n",
              "      <td>0.044643</td>\n",
              "      <td>-0.006072</td>\n",
              "      <td>15.764388</td>\n",
              "      <td>-2311800.0</td>\n",
              "      <td>16.349449</td>\n",
              "    </tr>\n",
              "  </tbody>\n",
              "</table>\n",
              "</div>"
            ],
            "text/plain": [
              "        f01       f02        f03        f04        f05\n",
              "0  0.038462 -0.087511  16.606185        NaN  16.606185\n",
              "1  0.002742  0.013902  16.462933 -2174400.0  16.537122\n",
              "2 -0.034884  0.048289  16.603739  2134600.0  16.559824\n",
              "3 -0.005131 -0.035538  16.049024 -6919600.0  16.454468\n",
              "4  0.044643 -0.006072  15.764388 -2311800.0  16.349449"
            ]
          },
          "metadata": {
            "tags": []
          },
          "execution_count": 48
        }
      ]
    },
    {
      "cell_type": "code",
      "metadata": {
        "id": "GvEgTVvBEdBe",
        "outputId": "7e13fc8b-2a6a-4082-e3bd-66282954bb8b",
        "colab": {
          "base_uri": "https://localhost:8080/",
          "height": 195
        }
      },
      "source": [
        "#z_score for closing prices\n",
        "array = (df - df.rolling(200,min_periods=1).mean())/df.rolling(200,min_periods=1).std()\n",
        "features['f06'] = array\n",
        "features.tail()"
      ],
      "execution_count": 49,
      "outputs": [
        {
          "output_type": "execute_result",
          "data": {
            "text/html": [
              "<div>\n",
              "<style scoped>\n",
              "    .dataframe tbody tr th:only-of-type {\n",
              "        vertical-align: middle;\n",
              "    }\n",
              "\n",
              "    .dataframe tbody tr th {\n",
              "        vertical-align: top;\n",
              "    }\n",
              "\n",
              "    .dataframe thead th {\n",
              "        text-align: right;\n",
              "    }\n",
              "</style>\n",
              "<table border=\"1\" class=\"dataframe\">\n",
              "  <thead>\n",
              "    <tr style=\"text-align: right;\">\n",
              "      <th></th>\n",
              "      <th>f01</th>\n",
              "      <th>f02</th>\n",
              "      <th>f03</th>\n",
              "      <th>f04</th>\n",
              "      <th>f05</th>\n",
              "      <th>f06</th>\n",
              "    </tr>\n",
              "  </thead>\n",
              "  <tbody>\n",
              "    <tr>\n",
              "      <th>5446</th>\n",
              "      <td>0.019036</td>\n",
              "      <td>0.019654</td>\n",
              "      <td>15.272030</td>\n",
              "      <td>-1610200.0</td>\n",
              "      <td>15.317969</td>\n",
              "      <td>1.267486</td>\n",
              "    </tr>\n",
              "    <tr>\n",
              "      <th>5447</th>\n",
              "      <td>-0.026627</td>\n",
              "      <td>0.011925</td>\n",
              "      <td>15.536186</td>\n",
              "      <td>1297300.0</td>\n",
              "      <td>15.361335</td>\n",
              "      <td>1.028543</td>\n",
              "    </tr>\n",
              "    <tr>\n",
              "      <th>5448</th>\n",
              "      <td>0.003043</td>\n",
              "      <td>0.054385</td>\n",
              "      <td>15.702050</td>\n",
              "      <td>1008200.0</td>\n",
              "      <td>15.458140</td>\n",
              "      <td>1.107563</td>\n",
              "    </tr>\n",
              "    <tr>\n",
              "      <th>5449</th>\n",
              "      <td>-0.038508</td>\n",
              "      <td>0.051014</td>\n",
              "      <td>15.942122</td>\n",
              "      <td>1789900.0</td>\n",
              "      <td>15.632398</td>\n",
              "      <td>0.773956</td>\n",
              "    </tr>\n",
              "    <tr>\n",
              "      <th>5450</th>\n",
              "      <td>-0.018702</td>\n",
              "      <td>NaN</td>\n",
              "      <td>15.795325</td>\n",
              "      <td>-1145000.0</td>\n",
              "      <td>15.675041</td>\n",
              "      <td>0.706880</td>\n",
              "    </tr>\n",
              "  </tbody>\n",
              "</table>\n",
              "</div>"
            ],
            "text/plain": [
              "           f01       f02        f03        f04        f05       f06\n",
              "5446  0.019036  0.019654  15.272030 -1610200.0  15.317969  1.267486\n",
              "5447 -0.026627  0.011925  15.536186  1297300.0  15.361335  1.028543\n",
              "5448  0.003043  0.054385  15.702050  1008200.0  15.458140  1.107563\n",
              "5449 -0.038508  0.051014  15.942122  1789900.0  15.632398  0.773956\n",
              "5450 -0.018702       NaN  15.795325 -1145000.0  15.675041  0.706880"
            ]
          },
          "metadata": {
            "tags": []
          },
          "execution_count": 49
        }
      ]
    },
    {
      "cell_type": "code",
      "metadata": {
        "id": "Sp_FCvfZIlzd",
        "outputId": "68a00ee1-ef3b-4a69-f79c-1dea1e1bb9dc",
        "colab": {
          "base_uri": "https://localhost:8080/",
          "height": 195
        }
      },
      "source": [
        "#signing\n",
        "array = features['f01'].apply(np.sign)\n",
        "features['f07'] = array\n",
        "features.tail()"
      ],
      "execution_count": 50,
      "outputs": [
        {
          "output_type": "execute_result",
          "data": {
            "text/html": [
              "<div>\n",
              "<style scoped>\n",
              "    .dataframe tbody tr th:only-of-type {\n",
              "        vertical-align: middle;\n",
              "    }\n",
              "\n",
              "    .dataframe tbody tr th {\n",
              "        vertical-align: top;\n",
              "    }\n",
              "\n",
              "    .dataframe thead th {\n",
              "        text-align: right;\n",
              "    }\n",
              "</style>\n",
              "<table border=\"1\" class=\"dataframe\">\n",
              "  <thead>\n",
              "    <tr style=\"text-align: right;\">\n",
              "      <th></th>\n",
              "      <th>f01</th>\n",
              "      <th>f02</th>\n",
              "      <th>f03</th>\n",
              "      <th>f04</th>\n",
              "      <th>f05</th>\n",
              "      <th>f06</th>\n",
              "      <th>f07</th>\n",
              "    </tr>\n",
              "  </thead>\n",
              "  <tbody>\n",
              "    <tr>\n",
              "      <th>5446</th>\n",
              "      <td>0.019036</td>\n",
              "      <td>0.019654</td>\n",
              "      <td>15.272030</td>\n",
              "      <td>-1610200.0</td>\n",
              "      <td>15.317969</td>\n",
              "      <td>1.267486</td>\n",
              "      <td>1.0</td>\n",
              "    </tr>\n",
              "    <tr>\n",
              "      <th>5447</th>\n",
              "      <td>-0.026627</td>\n",
              "      <td>0.011925</td>\n",
              "      <td>15.536186</td>\n",
              "      <td>1297300.0</td>\n",
              "      <td>15.361335</td>\n",
              "      <td>1.028543</td>\n",
              "      <td>-1.0</td>\n",
              "    </tr>\n",
              "    <tr>\n",
              "      <th>5448</th>\n",
              "      <td>0.003043</td>\n",
              "      <td>0.054385</td>\n",
              "      <td>15.702050</td>\n",
              "      <td>1008200.0</td>\n",
              "      <td>15.458140</td>\n",
              "      <td>1.107563</td>\n",
              "      <td>1.0</td>\n",
              "    </tr>\n",
              "    <tr>\n",
              "      <th>5449</th>\n",
              "      <td>-0.038508</td>\n",
              "      <td>0.051014</td>\n",
              "      <td>15.942122</td>\n",
              "      <td>1789900.0</td>\n",
              "      <td>15.632398</td>\n",
              "      <td>0.773956</td>\n",
              "      <td>-1.0</td>\n",
              "    </tr>\n",
              "    <tr>\n",
              "      <th>5450</th>\n",
              "      <td>-0.018702</td>\n",
              "      <td>NaN</td>\n",
              "      <td>15.795325</td>\n",
              "      <td>-1145000.0</td>\n",
              "      <td>15.675041</td>\n",
              "      <td>0.706880</td>\n",
              "      <td>-1.0</td>\n",
              "    </tr>\n",
              "  </tbody>\n",
              "</table>\n",
              "</div>"
            ],
            "text/plain": [
              "           f01       f02        f03        f04        f05       f06  f07\n",
              "5446  0.019036  0.019654  15.272030 -1610200.0  15.317969  1.267486  1.0\n",
              "5447 -0.026627  0.011925  15.536186  1297300.0  15.361335  1.028543 -1.0\n",
              "5448  0.003043  0.054385  15.702050  1008200.0  15.458140  1.107563  1.0\n",
              "5449 -0.038508  0.051014  15.942122  1789900.0  15.632398  0.773956 -1.0\n",
              "5450 -0.018702       NaN  15.795325 -1145000.0  15.675041  0.706880 -1.0"
            ]
          },
          "metadata": {
            "tags": []
          },
          "execution_count": 50
        }
      ]
    },
    {
      "cell_type": "code",
      "metadata": {
        "id": "zF49MXzr1oB7",
        "outputId": "fbc8e2bb-522a-4c03-dc8d-37a7d65f2949",
        "colab": {
          "base_uri": "https://localhost:8080/",
          "height": 195
        }
      },
      "source": [
        "#plus-minus how many days the value has increased or decreased\n",
        "array = features['f07'].rolling(200,min_periods=1).sum()\n",
        "features['f08'] = array\n",
        "features.head()"
      ],
      "execution_count": 51,
      "outputs": [
        {
          "output_type": "execute_result",
          "data": {
            "text/html": [
              "<div>\n",
              "<style scoped>\n",
              "    .dataframe tbody tr th:only-of-type {\n",
              "        vertical-align: middle;\n",
              "    }\n",
              "\n",
              "    .dataframe tbody tr th {\n",
              "        vertical-align: top;\n",
              "    }\n",
              "\n",
              "    .dataframe thead th {\n",
              "        text-align: right;\n",
              "    }\n",
              "</style>\n",
              "<table border=\"1\" class=\"dataframe\">\n",
              "  <thead>\n",
              "    <tr style=\"text-align: right;\">\n",
              "      <th></th>\n",
              "      <th>f01</th>\n",
              "      <th>f02</th>\n",
              "      <th>f03</th>\n",
              "      <th>f04</th>\n",
              "      <th>f05</th>\n",
              "      <th>f06</th>\n",
              "      <th>f07</th>\n",
              "      <th>f08</th>\n",
              "    </tr>\n",
              "  </thead>\n",
              "  <tbody>\n",
              "    <tr>\n",
              "      <th>0</th>\n",
              "      <td>0.038462</td>\n",
              "      <td>-0.087511</td>\n",
              "      <td>16.606185</td>\n",
              "      <td>NaN</td>\n",
              "      <td>16.606185</td>\n",
              "      <td>NaN</td>\n",
              "      <td>1.0</td>\n",
              "      <td>1.0</td>\n",
              "    </tr>\n",
              "    <tr>\n",
              "      <th>1</th>\n",
              "      <td>0.002742</td>\n",
              "      <td>0.013902</td>\n",
              "      <td>16.462933</td>\n",
              "      <td>-2174400.0</td>\n",
              "      <td>16.537122</td>\n",
              "      <td>0.707107</td>\n",
              "      <td>1.0</td>\n",
              "      <td>2.0</td>\n",
              "    </tr>\n",
              "    <tr>\n",
              "      <th>2</th>\n",
              "      <td>-0.034884</td>\n",
              "      <td>0.048289</td>\n",
              "      <td>16.603739</td>\n",
              "      <td>2134600.0</td>\n",
              "      <td>16.559824</td>\n",
              "      <td>0.243662</td>\n",
              "      <td>-1.0</td>\n",
              "      <td>1.0</td>\n",
              "    </tr>\n",
              "    <tr>\n",
              "      <th>3</th>\n",
              "      <td>-0.005131</td>\n",
              "      <td>-0.035538</td>\n",
              "      <td>16.049024</td>\n",
              "      <td>-6919600.0</td>\n",
              "      <td>16.454468</td>\n",
              "      <td>-0.165545</td>\n",
              "      <td>-1.0</td>\n",
              "      <td>0.0</td>\n",
              "    </tr>\n",
              "    <tr>\n",
              "      <th>4</th>\n",
              "      <td>0.044643</td>\n",
              "      <td>-0.006072</td>\n",
              "      <td>15.764388</td>\n",
              "      <td>-2311800.0</td>\n",
              "      <td>16.349449</td>\n",
              "      <td>1.178915</td>\n",
              "      <td>1.0</td>\n",
              "      <td>1.0</td>\n",
              "    </tr>\n",
              "  </tbody>\n",
              "</table>\n",
              "</div>"
            ],
            "text/plain": [
              "        f01       f02        f03        f04        f05       f06  f07  f08\n",
              "0  0.038462 -0.087511  16.606185        NaN  16.606185       NaN  1.0  1.0\n",
              "1  0.002742  0.013902  16.462933 -2174400.0  16.537122  0.707107  1.0  2.0\n",
              "2 -0.034884  0.048289  16.603739  2134600.0  16.559824  0.243662 -1.0  1.0\n",
              "3 -0.005131 -0.035538  16.049024 -6919600.0  16.454468 -0.165545 -1.0  0.0\n",
              "4  0.044643 -0.006072  15.764388 -2311800.0  16.349449  1.178915  1.0  1.0"
            ]
          },
          "metadata": {
            "tags": []
          },
          "execution_count": 51
        }
      ]
    },
    {
      "cell_type": "markdown",
      "metadata": {
        "id": "L7hp1FsW_JEG"
      },
      "source": [
        "#**Creating TA technical indicator features**"
      ]
    },
    {
      "cell_type": "code",
      "metadata": {
        "id": "ouhq3F0Y_Tke",
        "outputId": "e8434825-f585-45e1-8d9a-7033f35d567e",
        "colab": {
          "base_uri": "https://localhost:8080/"
        }
      },
      "source": [
        "pip install --upgrade ta"
      ],
      "execution_count": 52,
      "outputs": [
        {
          "output_type": "stream",
          "text": [
            "Requirement already up-to-date: ta in /usr/local/lib/python3.6/dist-packages (0.5.25)\n",
            "Requirement already satisfied, skipping upgrade: pandas in /usr/local/lib/python3.6/dist-packages (from ta) (1.1.3)\n",
            "Requirement already satisfied, skipping upgrade: numpy in /usr/local/lib/python3.6/dist-packages (from ta) (1.18.5)\n",
            "Requirement already satisfied, skipping upgrade: python-dateutil>=2.7.3 in /usr/local/lib/python3.6/dist-packages (from pandas->ta) (2.8.1)\n",
            "Requirement already satisfied, skipping upgrade: pytz>=2017.2 in /usr/local/lib/python3.6/dist-packages (from pandas->ta) (2018.9)\n",
            "Requirement already satisfied, skipping upgrade: six>=1.5 in /usr/local/lib/python3.6/dist-packages (from python-dateutil>=2.7.3->pandas->ta) (1.15.0)\n"
          ],
          "name": "stdout"
        }
      ]
    },
    {
      "cell_type": "code",
      "metadata": {
        "id": "mHPlFkQ3_v9O"
      },
      "source": [
        "import ta"
      ],
      "execution_count": 53,
      "outputs": []
    },
    {
      "cell_type": "code",
      "metadata": {
        "id": "s-L7odis_7T0",
        "outputId": "73d2e277-049f-499c-ec1f-fca244d7cb54",
        "colab": {
          "base_uri": "https://localhost:8080/"
        }
      },
      "source": [
        "ta_data = data\n",
        "ta_data.shape"
      ],
      "execution_count": 54,
      "outputs": [
        {
          "output_type": "execute_result",
          "data": {
            "text/plain": [
              "(5451, 6)"
            ]
          },
          "metadata": {
            "tags": []
          },
          "execution_count": 54
        }
      ]
    },
    {
      "cell_type": "code",
      "metadata": {
        "id": "yQwnQ12PArTZ"
      },
      "source": [
        "#making sure there are no missing values\n",
        "ta_data = ta.utils.dropna(ta_data)"
      ],
      "execution_count": 55,
      "outputs": []
    },
    {
      "cell_type": "code",
      "metadata": {
        "id": "OQFZSK4BAxaD",
        "outputId": "ad0c8275-7118-4f18-997c-79c17dbd1642",
        "colab": {
          "base_uri": "https://localhost:8080/"
        }
      },
      "source": [
        "ta_data.info()"
      ],
      "execution_count": 56,
      "outputs": [
        {
          "output_type": "stream",
          "text": [
            "<class 'pandas.core.frame.DataFrame'>\n",
            "DatetimeIndex: 5451 entries, 1999-03-09 to 2020-11-02\n",
            "Data columns (total 6 columns):\n",
            " #   Column     Non-Null Count  Dtype  \n",
            "---  ------     --------------  -----  \n",
            " 0   High       5451 non-null   float64\n",
            " 1   Low        5451 non-null   float64\n",
            " 2   Open       5451 non-null   float64\n",
            " 3   Close      5451 non-null   float64\n",
            " 4   Volume     5451 non-null   float64\n",
            " 5   Adj Close  5451 non-null   float64\n",
            "dtypes: float64(6)\n",
            "memory usage: 298.1 KB\n"
          ],
          "name": "stdout"
        }
      ]
    },
    {
      "cell_type": "code",
      "metadata": {
        "id": "w381L1U8Ayx_",
        "outputId": "6ed8c263-d55a-470e-bf58-e9b5084723b8",
        "colab": {
          "base_uri": "https://localhost:8080/",
          "height": 0
        }
      },
      "source": [
        "ta_data = ta.add_all_ta_features(ta_data,'Open','High','Low','Close','Volume',fillna=True)\n",
        "ta_data.head()"
      ],
      "execution_count": 57,
      "outputs": [
        {
          "output_type": "stream",
          "text": [
            "/usr/local/lib/python3.6/dist-packages/ta/trend.py:608: RuntimeWarning: invalid value encountered in double_scalars\n",
            "  dip[i] = 100 * (self._dip[i]/self._trs[i])\n",
            "/usr/local/lib/python3.6/dist-packages/ta/trend.py:612: RuntimeWarning: invalid value encountered in double_scalars\n",
            "  din[i] = 100 * (self._din[i]/self._trs[i])\n"
          ],
          "name": "stderr"
        },
        {
          "output_type": "execute_result",
          "data": {
            "text/html": [
              "<div>\n",
              "<style scoped>\n",
              "    .dataframe tbody tr th:only-of-type {\n",
              "        vertical-align: middle;\n",
              "    }\n",
              "\n",
              "    .dataframe tbody tr th {\n",
              "        vertical-align: top;\n",
              "    }\n",
              "\n",
              "    .dataframe thead th {\n",
              "        text-align: right;\n",
              "    }\n",
              "</style>\n",
              "<table border=\"1\" class=\"dataframe\">\n",
              "  <thead>\n",
              "    <tr style=\"text-align: right;\">\n",
              "      <th></th>\n",
              "      <th>High</th>\n",
              "      <th>Low</th>\n",
              "      <th>Open</th>\n",
              "      <th>Close</th>\n",
              "      <th>Volume</th>\n",
              "      <th>Adj Close</th>\n",
              "      <th>volume_adi</th>\n",
              "      <th>volume_obv</th>\n",
              "      <th>volume_cmf</th>\n",
              "      <th>volume_fi</th>\n",
              "      <th>momentum_mfi</th>\n",
              "      <th>volume_em</th>\n",
              "      <th>volume_sma_em</th>\n",
              "      <th>volume_vpt</th>\n",
              "      <th>volume_nvi</th>\n",
              "      <th>volume_vwap</th>\n",
              "      <th>volatility_atr</th>\n",
              "      <th>volatility_bbm</th>\n",
              "      <th>volatility_bbh</th>\n",
              "      <th>volatility_bbl</th>\n",
              "      <th>volatility_bbw</th>\n",
              "      <th>volatility_bbp</th>\n",
              "      <th>volatility_bbhi</th>\n",
              "      <th>volatility_bbli</th>\n",
              "      <th>volatility_kcc</th>\n",
              "      <th>volatility_kch</th>\n",
              "      <th>volatility_kcl</th>\n",
              "      <th>volatility_kcw</th>\n",
              "      <th>volatility_kcp</th>\n",
              "      <th>volatility_kchi</th>\n",
              "      <th>volatility_kcli</th>\n",
              "      <th>volatility_dcl</th>\n",
              "      <th>volatility_dch</th>\n",
              "      <th>trend_macd</th>\n",
              "      <th>trend_macd_signal</th>\n",
              "      <th>trend_macd_diff</th>\n",
              "      <th>trend_sma_fast</th>\n",
              "      <th>trend_sma_slow</th>\n",
              "      <th>trend_ema_fast</th>\n",
              "      <th>trend_ema_slow</th>\n",
              "      <th>trend_adx</th>\n",
              "      <th>trend_adx_pos</th>\n",
              "      <th>trend_adx_neg</th>\n",
              "      <th>trend_vortex_ind_pos</th>\n",
              "      <th>trend_vortex_ind_neg</th>\n",
              "      <th>trend_vortex_ind_diff</th>\n",
              "      <th>trend_trix</th>\n",
              "      <th>trend_mass_index</th>\n",
              "      <th>trend_cci</th>\n",
              "      <th>trend_dpo</th>\n",
              "      <th>trend_kst</th>\n",
              "      <th>trend_kst_sig</th>\n",
              "      <th>trend_kst_diff</th>\n",
              "      <th>trend_ichimoku_conv</th>\n",
              "      <th>trend_ichimoku_base</th>\n",
              "      <th>trend_ichimoku_a</th>\n",
              "      <th>trend_ichimoku_b</th>\n",
              "      <th>trend_visual_ichimoku_a</th>\n",
              "      <th>trend_visual_ichimoku_b</th>\n",
              "      <th>trend_aroon_up</th>\n",
              "      <th>trend_aroon_down</th>\n",
              "      <th>trend_aroon_ind</th>\n",
              "      <th>trend_psar_up</th>\n",
              "      <th>trend_psar_down</th>\n",
              "      <th>trend_psar_up_indicator</th>\n",
              "      <th>trend_psar_down_indicator</th>\n",
              "      <th>momentum_rsi</th>\n",
              "      <th>momentum_tsi</th>\n",
              "      <th>momentum_uo</th>\n",
              "      <th>momentum_stoch</th>\n",
              "      <th>momentum_stoch_signal</th>\n",
              "      <th>momentum_wr</th>\n",
              "      <th>momentum_ao</th>\n",
              "      <th>momentum_kama</th>\n",
              "      <th>momentum_roc</th>\n",
              "      <th>others_dr</th>\n",
              "      <th>others_dlr</th>\n",
              "      <th>others_cr</th>\n",
              "    </tr>\n",
              "    <tr>\n",
              "      <th>Date</th>\n",
              "      <th></th>\n",
              "      <th></th>\n",
              "      <th></th>\n",
              "      <th></th>\n",
              "      <th></th>\n",
              "      <th></th>\n",
              "      <th></th>\n",
              "      <th></th>\n",
              "      <th></th>\n",
              "      <th></th>\n",
              "      <th></th>\n",
              "      <th></th>\n",
              "      <th></th>\n",
              "      <th></th>\n",
              "      <th></th>\n",
              "      <th></th>\n",
              "      <th></th>\n",
              "      <th></th>\n",
              "      <th></th>\n",
              "      <th></th>\n",
              "      <th></th>\n",
              "      <th></th>\n",
              "      <th></th>\n",
              "      <th></th>\n",
              "      <th></th>\n",
              "      <th></th>\n",
              "      <th></th>\n",
              "      <th></th>\n",
              "      <th></th>\n",
              "      <th></th>\n",
              "      <th></th>\n",
              "      <th></th>\n",
              "      <th></th>\n",
              "      <th></th>\n",
              "      <th></th>\n",
              "      <th></th>\n",
              "      <th></th>\n",
              "      <th></th>\n",
              "      <th></th>\n",
              "      <th></th>\n",
              "      <th></th>\n",
              "      <th></th>\n",
              "      <th></th>\n",
              "      <th></th>\n",
              "      <th></th>\n",
              "      <th></th>\n",
              "      <th></th>\n",
              "      <th></th>\n",
              "      <th></th>\n",
              "      <th></th>\n",
              "      <th></th>\n",
              "      <th></th>\n",
              "      <th></th>\n",
              "      <th></th>\n",
              "      <th></th>\n",
              "      <th></th>\n",
              "      <th></th>\n",
              "      <th></th>\n",
              "      <th></th>\n",
              "      <th></th>\n",
              "      <th></th>\n",
              "      <th></th>\n",
              "      <th></th>\n",
              "      <th></th>\n",
              "      <th></th>\n",
              "      <th></th>\n",
              "      <th></th>\n",
              "      <th></th>\n",
              "      <th></th>\n",
              "      <th></th>\n",
              "      <th></th>\n",
              "      <th></th>\n",
              "      <th></th>\n",
              "      <th></th>\n",
              "      <th></th>\n",
              "      <th></th>\n",
              "      <th></th>\n",
              "      <th></th>\n",
              "    </tr>\n",
              "  </thead>\n",
              "  <tbody>\n",
              "    <tr>\n",
              "      <th>1999-03-09</th>\n",
              "      <td>66.62500</td>\n",
              "      <td>61.71875</td>\n",
              "      <td>62.5625</td>\n",
              "      <td>64.96875</td>\n",
              "      <td>16292000.0</td>\n",
              "      <td>64.96875</td>\n",
              "      <td>5.292306e+06</td>\n",
              "      <td>16292000.0</td>\n",
              "      <td>0.324841</td>\n",
              "      <td>0.000000e+00</td>\n",
              "      <td>50.000000</td>\n",
              "      <td>0.000000</td>\n",
              "      <td>0.000000</td>\n",
              "      <td>-1.383587e+07</td>\n",
              "      <td>1000.000000</td>\n",
              "      <td>64.437500</td>\n",
              "      <td>0.0</td>\n",
              "      <td>64.968750</td>\n",
              "      <td>64.968750</td>\n",
              "      <td>64.968750</td>\n",
              "      <td>0.000000</td>\n",
              "      <td>0.000000</td>\n",
              "      <td>0.0</td>\n",
              "      <td>0.0</td>\n",
              "      <td>64.437500</td>\n",
              "      <td>69.343750</td>\n",
              "      <td>59.531250</td>\n",
              "      <td>15.227934</td>\n",
              "      <td>0.554140</td>\n",
              "      <td>0.0</td>\n",
              "      <td>0.0</td>\n",
              "      <td>7.551708</td>\n",
              "      <td>0.662420</td>\n",
              "      <td>0.000000</td>\n",
              "      <td>0.000000</td>\n",
              "      <td>0.000000</td>\n",
              "      <td>64.968750</td>\n",
              "      <td>64.968750</td>\n",
              "      <td>64.968750</td>\n",
              "      <td>64.968750</td>\n",
              "      <td>0.0</td>\n",
              "      <td>0.0</td>\n",
              "      <td>0.0</td>\n",
              "      <td>0.000000</td>\n",
              "      <td>0.000000</td>\n",
              "      <td>0.000000</td>\n",
              "      <td>-84.691083</td>\n",
              "      <td>1.000000</td>\n",
              "      <td>0.000000</td>\n",
              "      <td>371.491279</td>\n",
              "      <td>-851.146163</td>\n",
              "      <td>-851.146163</td>\n",
              "      <td>0.000000</td>\n",
              "      <td>64.171875</td>\n",
              "      <td>64.171875</td>\n",
              "      <td>64.171875</td>\n",
              "      <td>64.171875</td>\n",
              "      <td>430.908175</td>\n",
              "      <td>420.893514</td>\n",
              "      <td>4.0</td>\n",
              "      <td>4.0</td>\n",
              "      <td>0.0</td>\n",
              "      <td>-1.0</td>\n",
              "      <td>-1.0000</td>\n",
              "      <td>0.0</td>\n",
              "      <td>0.0</td>\n",
              "      <td>100.000000</td>\n",
              "      <td>0.000000</td>\n",
              "      <td>0.000000</td>\n",
              "      <td>66.242038</td>\n",
              "      <td>66.242038</td>\n",
              "      <td>-33.757962</td>\n",
              "      <td>0.0</td>\n",
              "      <td>64.968750</td>\n",
              "      <td>0.0</td>\n",
              "      <td>-85.114616</td>\n",
              "      <td>0.000000</td>\n",
              "      <td>0.000000</td>\n",
              "    </tr>\n",
              "    <tr>\n",
              "      <th>1999-03-10</th>\n",
              "      <td>69.46875</td>\n",
              "      <td>67.00000</td>\n",
              "      <td>68.3750</td>\n",
              "      <td>68.56250</td>\n",
              "      <td>14117600.0</td>\n",
              "      <td>68.56250</td>\n",
              "      <td>9.045085e+06</td>\n",
              "      <td>30409600.0</td>\n",
              "      <td>0.297442</td>\n",
              "      <td>5.073512e+07</td>\n",
              "      <td>100.000000</td>\n",
              "      <td>71.041090</td>\n",
              "      <td>71.041090</td>\n",
              "      <td>-1.308596e+07</td>\n",
              "      <td>1055.315055</td>\n",
              "      <td>66.250969</td>\n",
              "      <td>0.0</td>\n",
              "      <td>66.765625</td>\n",
              "      <td>70.359375</td>\n",
              "      <td>63.171875</td>\n",
              "      <td>10.765270</td>\n",
              "      <td>0.750000</td>\n",
              "      <td>0.0</td>\n",
              "      <td>0.0</td>\n",
              "      <td>66.390625</td>\n",
              "      <td>70.078125</td>\n",
              "      <td>62.703125</td>\n",
              "      <td>11.108496</td>\n",
              "      <td>0.794492</td>\n",
              "      <td>0.0</td>\n",
              "      <td>0.0</td>\n",
              "      <td>11.607770</td>\n",
              "      <td>0.883065</td>\n",
              "      <td>0.286681</td>\n",
              "      <td>0.057336</td>\n",
              "      <td>0.229345</td>\n",
              "      <td>66.765625</td>\n",
              "      <td>66.765625</td>\n",
              "      <td>65.521635</td>\n",
              "      <td>65.234954</td>\n",
              "      <td>0.0</td>\n",
              "      <td>0.0</td>\n",
              "      <td>0.0</td>\n",
              "      <td>0.020436</td>\n",
              "      <td>0.000989</td>\n",
              "      <td>0.019447</td>\n",
              "      <td>0.010804</td>\n",
              "      <td>1.918898</td>\n",
              "      <td>66.666667</td>\n",
              "      <td>369.694404</td>\n",
              "      <td>-847.029234</td>\n",
              "      <td>-849.087698</td>\n",
              "      <td>2.058465</td>\n",
              "      <td>65.593750</td>\n",
              "      <td>65.593750</td>\n",
              "      <td>65.593750</td>\n",
              "      <td>65.593750</td>\n",
              "      <td>430.908175</td>\n",
              "      <td>420.893514</td>\n",
              "      <td>8.0</td>\n",
              "      <td>4.0</td>\n",
              "      <td>4.0</td>\n",
              "      <td>-1.0</td>\n",
              "      <td>-1.0000</td>\n",
              "      <td>0.0</td>\n",
              "      <td>0.0</td>\n",
              "      <td>100.000000</td>\n",
              "      <td>100.000000</td>\n",
              "      <td>38.205980</td>\n",
              "      <td>88.306452</td>\n",
              "      <td>77.274245</td>\n",
              "      <td>-11.693548</td>\n",
              "      <td>0.0</td>\n",
              "      <td>66.740358</td>\n",
              "      <td>0.0</td>\n",
              "      <td>5.531506</td>\n",
              "      <td>5.383935</td>\n",
              "      <td>5.531506</td>\n",
              "    </tr>\n",
              "    <tr>\n",
              "      <th>1999-03-11</th>\n",
              "      <td>71.37500</td>\n",
              "      <td>65.50000</td>\n",
              "      <td>69.8750</td>\n",
              "      <td>67.43750</td>\n",
              "      <td>16252200.0</td>\n",
              "      <td>67.43750</td>\n",
              "      <td>3.512422e+06</td>\n",
              "      <td>14157400.0</td>\n",
              "      <td>0.075274</td>\n",
              "      <td>4.087529e+07</td>\n",
              "      <td>46.573024</td>\n",
              "      <td>7.342756</td>\n",
              "      <td>39.191923</td>\n",
              "      <td>5.142434e+05</td>\n",
              "      <td>1055.315055</td>\n",
              "      <td>66.896434</td>\n",
              "      <td>0.0</td>\n",
              "      <td>66.989583</td>\n",
              "      <td>69.991464</td>\n",
              "      <td>63.987703</td>\n",
              "      <td>8.962230</td>\n",
              "      <td>0.574606</td>\n",
              "      <td>0.0</td>\n",
              "      <td>0.0</td>\n",
              "      <td>66.961806</td>\n",
              "      <td>71.378472</td>\n",
              "      <td>62.545139</td>\n",
              "      <td>13.191600</td>\n",
              "      <td>0.553852</td>\n",
              "      <td>0.0</td>\n",
              "      <td>0.0</td>\n",
              "      <td>14.414555</td>\n",
              "      <td>0.592233</td>\n",
              "      <td>0.418278</td>\n",
              "      <td>0.129525</td>\n",
              "      <td>0.288753</td>\n",
              "      <td>66.989583</td>\n",
              "      <td>66.989583</td>\n",
              "      <td>65.816383</td>\n",
              "      <td>65.398105</td>\n",
              "      <td>0.0</td>\n",
              "      <td>0.0</td>\n",
              "      <td>0.0</td>\n",
              "      <td>0.031484</td>\n",
              "      <td>0.011279</td>\n",
              "      <td>0.020205</td>\n",
              "      <td>0.024975</td>\n",
              "      <td>2.902402</td>\n",
              "      <td>45.254470</td>\n",
              "      <td>369.470445</td>\n",
              "      <td>-846.516109</td>\n",
              "      <td>-848.230502</td>\n",
              "      <td>1.714393</td>\n",
              "      <td>66.546875</td>\n",
              "      <td>66.546875</td>\n",
              "      <td>66.546875</td>\n",
              "      <td>66.546875</td>\n",
              "      <td>430.908175</td>\n",
              "      <td>420.893514</td>\n",
              "      <td>8.0</td>\n",
              "      <td>4.0</td>\n",
              "      <td>4.0</td>\n",
              "      <td>-1.0</td>\n",
              "      <td>66.6250</td>\n",
              "      <td>0.0</td>\n",
              "      <td>1.0</td>\n",
              "      <td>74.787394</td>\n",
              "      <td>99.306759</td>\n",
              "      <td>36.196319</td>\n",
              "      <td>59.223301</td>\n",
              "      <td>71.257264</td>\n",
              "      <td>-40.776699</td>\n",
              "      <td>0.0</td>\n",
              "      <td>67.082307</td>\n",
              "      <td>0.0</td>\n",
              "      <td>-1.640839</td>\n",
              "      <td>-1.654450</td>\n",
              "      <td>3.799904</td>\n",
              "    </tr>\n",
              "    <tr>\n",
              "      <th>1999-03-12</th>\n",
              "      <td>67.68750</td>\n",
              "      <td>64.31250</td>\n",
              "      <td>67.0000</td>\n",
              "      <td>66.65625</td>\n",
              "      <td>9332600.0</td>\n",
              "      <td>66.65625</td>\n",
              "      <td>7.141766e+06</td>\n",
              "      <td>4824800.0</td>\n",
              "      <td>0.127544</td>\n",
              "      <td>3.399438e+07</td>\n",
              "      <td>35.872215</td>\n",
              "      <td>-88.148667</td>\n",
              "      <td>-3.254940</td>\n",
              "      <td>-3.747887e+05</td>\n",
              "      <td>1043.089441</td>\n",
              "      <td>66.783484</td>\n",
              "      <td>0.0</td>\n",
              "      <td>66.906250</td>\n",
              "      <td>69.521933</td>\n",
              "      <td>64.290567</td>\n",
              "      <td>7.818949</td>\n",
              "      <td>0.452211</td>\n",
              "      <td>0.0</td>\n",
              "      <td>0.0</td>\n",
              "      <td>66.776042</td>\n",
              "      <td>70.932292</td>\n",
              "      <td>62.619792</td>\n",
              "      <td>12.448327</td>\n",
              "      <td>0.485589</td>\n",
              "      <td>0.0</td>\n",
              "      <td>0.0</td>\n",
              "      <td>14.432508</td>\n",
              "      <td>0.511327</td>\n",
              "      <td>0.454292</td>\n",
              "      <td>0.194478</td>\n",
              "      <td>0.259814</td>\n",
              "      <td>66.906250</td>\n",
              "      <td>66.906250</td>\n",
              "      <td>65.945593</td>\n",
              "      <td>65.491301</td>\n",
              "      <td>0.0</td>\n",
              "      <td>0.0</td>\n",
              "      <td>0.0</td>\n",
              "      <td>0.036841</td>\n",
              "      <td>0.029360</td>\n",
              "      <td>0.007481</td>\n",
              "      <td>0.038389</td>\n",
              "      <td>3.843755</td>\n",
              "      <td>-25.659472</td>\n",
              "      <td>369.553779</td>\n",
              "      <td>-846.707039</td>\n",
              "      <td>-847.849636</td>\n",
              "      <td>1.142597</td>\n",
              "      <td>66.546875</td>\n",
              "      <td>66.546875</td>\n",
              "      <td>66.546875</td>\n",
              "      <td>66.546875</td>\n",
              "      <td>430.908175</td>\n",
              "      <td>420.893514</td>\n",
              "      <td>8.0</td>\n",
              "      <td>4.0</td>\n",
              "      <td>4.0</td>\n",
              "      <td>65.5</td>\n",
              "      <td>66.6250</td>\n",
              "      <td>1.0</td>\n",
              "      <td>0.0</td>\n",
              "      <td>62.922913</td>\n",
              "      <td>98.259043</td>\n",
              "      <td>42.211055</td>\n",
              "      <td>51.132686</td>\n",
              "      <td>66.220813</td>\n",
              "      <td>-48.867314</td>\n",
              "      <td>0.0</td>\n",
              "      <td>66.869900</td>\n",
              "      <td>0.0</td>\n",
              "      <td>-1.158480</td>\n",
              "      <td>-1.165243</td>\n",
              "      <td>2.597403</td>\n",
              "    </tr>\n",
              "    <tr>\n",
              "      <th>1999-03-15</th>\n",
              "      <td>69.50000</td>\n",
              "      <td>65.50000</td>\n",
              "      <td>66.5000</td>\n",
              "      <td>69.46875</td>\n",
              "      <td>7020800.0</td>\n",
              "      <td>69.46875</td>\n",
              "      <td>1.405287e+07</td>\n",
              "      <td>11845600.0</td>\n",
              "      <td>0.223008</td>\n",
              "      <td>3.195889e+07</td>\n",
              "      <td>45.557812</td>\n",
              "      <td>85.460346</td>\n",
              "      <td>18.923881</td>\n",
              "      <td>1.881200e+05</td>\n",
              "      <td>1087.101653</td>\n",
              "      <td>66.936430</td>\n",
              "      <td>0.0</td>\n",
              "      <td>67.418750</td>\n",
              "      <td>70.529367</td>\n",
              "      <td>64.308133</td>\n",
              "      <td>9.227750</td>\n",
              "      <td>0.829517</td>\n",
              "      <td>0.0</td>\n",
              "      <td>0.0</td>\n",
              "      <td>67.052083</td>\n",
              "      <td>71.177083</td>\n",
              "      <td>62.927083</td>\n",
              "      <td>12.303868</td>\n",
              "      <td>0.792929</td>\n",
              "      <td>0.0</td>\n",
              "      <td>0.0</td>\n",
              "      <td>14.322796</td>\n",
              "      <td>0.802589</td>\n",
              "      <td>0.701690</td>\n",
              "      <td>0.295921</td>\n",
              "      <td>0.405770</td>\n",
              "      <td>67.418750</td>\n",
              "      <td>67.418750</td>\n",
              "      <td>66.487618</td>\n",
              "      <td>65.785927</td>\n",
              "      <td>0.0</td>\n",
              "      <td>0.0</td>\n",
              "      <td>0.0</td>\n",
              "      <td>0.049683</td>\n",
              "      <td>0.034635</td>\n",
              "      <td>0.015048</td>\n",
              "      <td>0.059086</td>\n",
              "      <td>4.780846</td>\n",
              "      <td>53.373615</td>\n",
              "      <td>369.041279</td>\n",
              "      <td>-845.532820</td>\n",
              "      <td>-847.386273</td>\n",
              "      <td>1.853453</td>\n",
              "      <td>66.546875</td>\n",
              "      <td>66.546875</td>\n",
              "      <td>66.546875</td>\n",
              "      <td>66.546875</td>\n",
              "      <td>430.908175</td>\n",
              "      <td>420.893514</td>\n",
              "      <td>20.0</td>\n",
              "      <td>4.0</td>\n",
              "      <td>16.0</td>\n",
              "      <td>65.5</td>\n",
              "      <td>67.6875</td>\n",
              "      <td>0.0</td>\n",
              "      <td>1.0</td>\n",
              "      <td>77.042704</td>\n",
              "      <td>97.421451</td>\n",
              "      <td>52.275862</td>\n",
              "      <td>80.258900</td>\n",
              "      <td>63.538296</td>\n",
              "      <td>-19.741100</td>\n",
              "      <td>0.0</td>\n",
              "      <td>68.163156</td>\n",
              "      <td>0.0</td>\n",
              "      <td>4.219409</td>\n",
              "      <td>4.132820</td>\n",
              "      <td>6.926407</td>\n",
              "    </tr>\n",
              "  </tbody>\n",
              "</table>\n",
              "</div>"
            ],
            "text/plain": [
              "                High       Low     Open  ...  others_dr  others_dlr  others_cr\n",
              "Date                                     ...                                  \n",
              "1999-03-09  66.62500  61.71875  62.5625  ... -85.114616    0.000000   0.000000\n",
              "1999-03-10  69.46875  67.00000  68.3750  ...   5.531506    5.383935   5.531506\n",
              "1999-03-11  71.37500  65.50000  69.8750  ...  -1.640839   -1.654450   3.799904\n",
              "1999-03-12  67.68750  64.31250  67.0000  ...  -1.158480   -1.165243   2.597403\n",
              "1999-03-15  69.50000  65.50000  66.5000  ...   4.219409    4.132820   6.926407\n",
              "\n",
              "[5 rows x 78 columns]"
            ]
          },
          "metadata": {
            "tags": []
          },
          "execution_count": 57
        }
      ]
    },
    {
      "cell_type": "code",
      "metadata": {
        "id": "E1Jxp7MdBjiS",
        "outputId": "4b867813-d6fa-423e-c937-4487ec7e0700",
        "colab": {
          "base_uri": "https://localhost:8080/"
        }
      },
      "source": [
        "ta_data.shape"
      ],
      "execution_count": 58,
      "outputs": [
        {
          "output_type": "execute_result",
          "data": {
            "text/plain": [
              "(5451, 78)"
            ]
          },
          "metadata": {
            "tags": []
          },
          "execution_count": 58
        }
      ]
    },
    {
      "cell_type": "code",
      "metadata": {
        "id": "Uylt8KMuZwlT",
        "outputId": "70da4d12-96aa-4326-da33-4984d97d93de",
        "colab": {
          "base_uri": "https://localhost:8080/",
          "height": 0
        }
      },
      "source": [
        "#selecting a few features\n",
        "selected_features = [\n",
        "                     'volume_adi',\n",
        "                     'volume_fi',\n",
        "                     'volatility_bbm',\n",
        "                     'trend_macd',\n",
        "                     'trend_vortex_ind_diff',\n",
        "                     'momentum_rsi',\n",
        "                     'Close',\n",
        "                     'trend_cci',\n",
        "                     'volatility_kcw',\n",
        "                     'trend_dpo'\n",
        "                     ]\n",
        "for i in selected_features:\n",
        "  array = ta_data.reset_index()[i]\n",
        "  features[i] = array\n",
        "features.head()"
      ],
      "execution_count": 59,
      "outputs": [
        {
          "output_type": "execute_result",
          "data": {
            "text/html": [
              "<div>\n",
              "<style scoped>\n",
              "    .dataframe tbody tr th:only-of-type {\n",
              "        vertical-align: middle;\n",
              "    }\n",
              "\n",
              "    .dataframe tbody tr th {\n",
              "        vertical-align: top;\n",
              "    }\n",
              "\n",
              "    .dataframe thead th {\n",
              "        text-align: right;\n",
              "    }\n",
              "</style>\n",
              "<table border=\"1\" class=\"dataframe\">\n",
              "  <thead>\n",
              "    <tr style=\"text-align: right;\">\n",
              "      <th></th>\n",
              "      <th>f01</th>\n",
              "      <th>f02</th>\n",
              "      <th>f03</th>\n",
              "      <th>f04</th>\n",
              "      <th>f05</th>\n",
              "      <th>f06</th>\n",
              "      <th>f07</th>\n",
              "      <th>f08</th>\n",
              "      <th>volume_adi</th>\n",
              "      <th>volume_fi</th>\n",
              "      <th>volatility_bbm</th>\n",
              "      <th>trend_macd</th>\n",
              "      <th>trend_vortex_ind_diff</th>\n",
              "      <th>momentum_rsi</th>\n",
              "      <th>Close</th>\n",
              "      <th>trend_cci</th>\n",
              "      <th>volatility_kcw</th>\n",
              "      <th>trend_dpo</th>\n",
              "    </tr>\n",
              "  </thead>\n",
              "  <tbody>\n",
              "    <tr>\n",
              "      <th>0</th>\n",
              "      <td>0.038462</td>\n",
              "      <td>-0.087511</td>\n",
              "      <td>16.606185</td>\n",
              "      <td>NaN</td>\n",
              "      <td>16.606185</td>\n",
              "      <td>NaN</td>\n",
              "      <td>1.0</td>\n",
              "      <td>1.0</td>\n",
              "      <td>5.292306e+06</td>\n",
              "      <td>0.000000e+00</td>\n",
              "      <td>64.968750</td>\n",
              "      <td>0.000000</td>\n",
              "      <td>0.000000</td>\n",
              "      <td>100.000000</td>\n",
              "      <td>64.96875</td>\n",
              "      <td>0.000000</td>\n",
              "      <td>15.227934</td>\n",
              "      <td>371.491279</td>\n",
              "    </tr>\n",
              "    <tr>\n",
              "      <th>1</th>\n",
              "      <td>0.002742</td>\n",
              "      <td>0.013902</td>\n",
              "      <td>16.462933</td>\n",
              "      <td>-2174400.0</td>\n",
              "      <td>16.537122</td>\n",
              "      <td>0.707107</td>\n",
              "      <td>1.0</td>\n",
              "      <td>2.0</td>\n",
              "      <td>9.045085e+06</td>\n",
              "      <td>5.073512e+07</td>\n",
              "      <td>66.765625</td>\n",
              "      <td>0.286681</td>\n",
              "      <td>0.019447</td>\n",
              "      <td>100.000000</td>\n",
              "      <td>68.56250</td>\n",
              "      <td>66.666667</td>\n",
              "      <td>11.108496</td>\n",
              "      <td>369.694404</td>\n",
              "    </tr>\n",
              "    <tr>\n",
              "      <th>2</th>\n",
              "      <td>-0.034884</td>\n",
              "      <td>0.048289</td>\n",
              "      <td>16.603739</td>\n",
              "      <td>2134600.0</td>\n",
              "      <td>16.559824</td>\n",
              "      <td>0.243662</td>\n",
              "      <td>-1.0</td>\n",
              "      <td>1.0</td>\n",
              "      <td>3.512422e+06</td>\n",
              "      <td>4.087529e+07</td>\n",
              "      <td>66.989583</td>\n",
              "      <td>0.418278</td>\n",
              "      <td>0.020205</td>\n",
              "      <td>74.787394</td>\n",
              "      <td>67.43750</td>\n",
              "      <td>45.254470</td>\n",
              "      <td>13.191600</td>\n",
              "      <td>369.470445</td>\n",
              "    </tr>\n",
              "    <tr>\n",
              "      <th>3</th>\n",
              "      <td>-0.005131</td>\n",
              "      <td>-0.035538</td>\n",
              "      <td>16.049024</td>\n",
              "      <td>-6919600.0</td>\n",
              "      <td>16.454468</td>\n",
              "      <td>-0.165545</td>\n",
              "      <td>-1.0</td>\n",
              "      <td>0.0</td>\n",
              "      <td>7.141766e+06</td>\n",
              "      <td>3.399438e+07</td>\n",
              "      <td>66.906250</td>\n",
              "      <td>0.454292</td>\n",
              "      <td>0.007481</td>\n",
              "      <td>62.922913</td>\n",
              "      <td>66.65625</td>\n",
              "      <td>-25.659472</td>\n",
              "      <td>12.448327</td>\n",
              "      <td>369.553779</td>\n",
              "    </tr>\n",
              "    <tr>\n",
              "      <th>4</th>\n",
              "      <td>0.044643</td>\n",
              "      <td>-0.006072</td>\n",
              "      <td>15.764388</td>\n",
              "      <td>-2311800.0</td>\n",
              "      <td>16.349449</td>\n",
              "      <td>1.178915</td>\n",
              "      <td>1.0</td>\n",
              "      <td>1.0</td>\n",
              "      <td>1.405287e+07</td>\n",
              "      <td>3.195889e+07</td>\n",
              "      <td>67.418750</td>\n",
              "      <td>0.701690</td>\n",
              "      <td>0.015048</td>\n",
              "      <td>77.042704</td>\n",
              "      <td>69.46875</td>\n",
              "      <td>53.373615</td>\n",
              "      <td>12.303868</td>\n",
              "      <td>369.041279</td>\n",
              "    </tr>\n",
              "  </tbody>\n",
              "</table>\n",
              "</div>"
            ],
            "text/plain": [
              "        f01       f02        f03  ...  trend_cci  volatility_kcw   trend_dpo\n",
              "0  0.038462 -0.087511  16.606185  ...   0.000000       15.227934  371.491279\n",
              "1  0.002742  0.013902  16.462933  ...  66.666667       11.108496  369.694404\n",
              "2 -0.034884  0.048289  16.603739  ...  45.254470       13.191600  369.470445\n",
              "3 -0.005131 -0.035538  16.049024  ... -25.659472       12.448327  369.553779\n",
              "4  0.044643 -0.006072  15.764388  ...  53.373615       12.303868  369.041279\n",
              "\n",
              "[5 rows x 18 columns]"
            ]
          },
          "metadata": {
            "tags": []
          },
          "execution_count": 59
        }
      ]
    },
    {
      "cell_type": "markdown",
      "metadata": {
        "id": "oBH1pwOcQ_0a"
      },
      "source": [
        "#**Feature Selection**"
      ]
    },
    {
      "cell_type": "markdown",
      "metadata": {
        "id": "8tyLAA0zSNvh"
      },
      "source": [
        "#normalization\n"
      ]
    },
    {
      "cell_type": "code",
      "metadata": {
        "id": "HN2c7ix2SQVu"
      },
      "source": [
        "from sklearn.preprocessing import StandardScaler,Normalizer"
      ],
      "execution_count": 60,
      "outputs": []
    },
    {
      "cell_type": "code",
      "metadata": {
        "id": "3NlHn6C8QNn0",
        "outputId": "8203b88e-d8d5-41ad-c843-141c4c63e07c",
        "colab": {
          "base_uri": "https://localhost:8080/"
        }
      },
      "source": [
        "#normalizing the inputs\n",
        "std_scaler = StandardScaler()\n",
        "features_scaled = std_scaler.fit_transform(features.dropna())\n",
        "features_scaled.shape"
      ],
      "execution_count": 61,
      "outputs": [
        {
          "output_type": "execute_result",
          "data": {
            "text/plain": [
              "(5449, 18)"
            ]
          },
          "metadata": {
            "tags": []
          },
          "execution_count": 61
        }
      ]
    },
    {
      "cell_type": "code",
      "metadata": {
        "id": "zIfqezTBRIJf",
        "outputId": "b3bbd006-00fb-41d7-befc-12caca6a8c7f",
        "colab": {
          "base_uri": "https://localhost:8080/",
          "height": 215
        }
      },
      "source": [
        "df = pd.DataFrame(features_scaled,index=features.dropna().index)\n",
        "df.columns = features.dropna().columns\n",
        "df.head()"
      ],
      "execution_count": 62,
      "outputs": [
        {
          "output_type": "execute_result",
          "data": {
            "text/html": [
              "<div>\n",
              "<style scoped>\n",
              "    .dataframe tbody tr th:only-of-type {\n",
              "        vertical-align: middle;\n",
              "    }\n",
              "\n",
              "    .dataframe tbody tr th {\n",
              "        vertical-align: top;\n",
              "    }\n",
              "\n",
              "    .dataframe thead th {\n",
              "        text-align: right;\n",
              "    }\n",
              "</style>\n",
              "<table border=\"1\" class=\"dataframe\">\n",
              "  <thead>\n",
              "    <tr style=\"text-align: right;\">\n",
              "      <th></th>\n",
              "      <th>f01</th>\n",
              "      <th>f02</th>\n",
              "      <th>f03</th>\n",
              "      <th>f04</th>\n",
              "      <th>f05</th>\n",
              "      <th>f06</th>\n",
              "      <th>f07</th>\n",
              "      <th>f08</th>\n",
              "      <th>volume_adi</th>\n",
              "      <th>volume_fi</th>\n",
              "      <th>volatility_bbm</th>\n",
              "      <th>trend_macd</th>\n",
              "      <th>trend_vortex_ind_diff</th>\n",
              "      <th>momentum_rsi</th>\n",
              "      <th>Close</th>\n",
              "      <th>trend_cci</th>\n",
              "      <th>volatility_kcw</th>\n",
              "      <th>trend_dpo</th>\n",
              "    </tr>\n",
              "  </thead>\n",
              "  <tbody>\n",
              "    <tr>\n",
              "      <th>1</th>\n",
              "      <td>0.068598</td>\n",
              "      <td>0.328393</td>\n",
              "      <td>1.557143</td>\n",
              "      <td>-0.446370</td>\n",
              "      <td>1.776451</td>\n",
              "      <td>0.059130</td>\n",
              "      <td>0.992873</td>\n",
              "      <td>0.006873</td>\n",
              "      <td>-1.323627</td>\n",
              "      <td>1.304182</td>\n",
              "      <td>-0.552371</td>\n",
              "      <td>-0.216857</td>\n",
              "      <td>-0.169125</td>\n",
              "      <td>3.805619</td>\n",
              "      <td>-0.549125</td>\n",
              "      <td>0.414785</td>\n",
              "      <td>0.795541</td>\n",
              "      <td>14.040357</td>\n",
              "    </tr>\n",
              "    <tr>\n",
              "      <th>2</th>\n",
              "      <td>-1.269346</td>\n",
              "      <td>1.129127</td>\n",
              "      <td>1.795312</td>\n",
              "      <td>0.438790</td>\n",
              "      <td>1.818892</td>\n",
              "      <td>-0.284740</td>\n",
              "      <td>-1.011634</td>\n",
              "      <td>-0.051733</td>\n",
              "      <td>-1.331335</td>\n",
              "      <td>1.033589</td>\n",
              "      <td>-0.552031</td>\n",
              "      <td>-0.209260</td>\n",
              "      <td>-0.166759</td>\n",
              "      <td>1.741418</td>\n",
              "      <td>-0.550806</td>\n",
              "      <td>0.223504</td>\n",
              "      <td>1.228033</td>\n",
              "      <td>14.031855</td>\n",
              "    </tr>\n",
              "    <tr>\n",
              "      <th>3</th>\n",
              "      <td>-0.211353</td>\n",
              "      <td>-0.822848</td>\n",
              "      <td>0.857027</td>\n",
              "      <td>-1.421134</td>\n",
              "      <td>1.621932</td>\n",
              "      <td>-0.588367</td>\n",
              "      <td>-1.011634</td>\n",
              "      <td>-0.110338</td>\n",
              "      <td>-1.326279</td>\n",
              "      <td>0.844750</td>\n",
              "      <td>-0.552158</td>\n",
              "      <td>-0.207181</td>\n",
              "      <td>-0.206471</td>\n",
              "      <td>0.770052</td>\n",
              "      <td>-0.551974</td>\n",
              "      <td>-0.409987</td>\n",
              "      <td>1.073716</td>\n",
              "      <td>14.035018</td>\n",
              "    </tr>\n",
              "    <tr>\n",
              "      <th>4</th>\n",
              "      <td>1.558545</td>\n",
              "      <td>-0.136713</td>\n",
              "      <td>0.375571</td>\n",
              "      <td>-0.474594</td>\n",
              "      <td>1.425601</td>\n",
              "      <td>0.409206</td>\n",
              "      <td>0.992873</td>\n",
              "      <td>-0.051733</td>\n",
              "      <td>-1.316649</td>\n",
              "      <td>0.788889</td>\n",
              "      <td>-0.551380</td>\n",
              "      <td>-0.192900</td>\n",
              "      <td>-0.182853</td>\n",
              "      <td>1.926064</td>\n",
              "      <td>-0.547771</td>\n",
              "      <td>0.296035</td>\n",
              "      <td>1.043723</td>\n",
              "      <td>14.015562</td>\n",
              "    </tr>\n",
              "    <tr>\n",
              "      <th>5</th>\n",
              "      <td>-1.355983</td>\n",
              "      <td>1.426719</td>\n",
              "      <td>0.494993</td>\n",
              "      <td>0.105802</td>\n",
              "      <td>1.145867</td>\n",
              "      <td>-0.667464</td>\n",
              "      <td>-1.011634</td>\n",
              "      <td>-0.110338</td>\n",
              "      <td>-1.324221</td>\n",
              "      <td>0.587898</td>\n",
              "      <td>-0.551509</td>\n",
              "      <td>-0.193973</td>\n",
              "      <td>-0.171000</td>\n",
              "      <td>0.210272</td>\n",
              "      <td>-0.551600</td>\n",
              "      <td>0.129010</td>\n",
              "      <td>1.006646</td>\n",
              "      <td>14.018805</td>\n",
              "    </tr>\n",
              "  </tbody>\n",
              "</table>\n",
              "</div>"
            ],
            "text/plain": [
              "        f01       f02       f03  ...  trend_cci  volatility_kcw  trend_dpo\n",
              "1  0.068598  0.328393  1.557143  ...   0.414785        0.795541  14.040357\n",
              "2 -1.269346  1.129127  1.795312  ...   0.223504        1.228033  14.031855\n",
              "3 -0.211353 -0.822848  0.857027  ...  -0.409987        1.073716  14.035018\n",
              "4  1.558545 -0.136713  0.375571  ...   0.296035        1.043723  14.015562\n",
              "5 -1.355983  1.426719  0.494993  ...   0.129010        1.006646  14.018805\n",
              "\n",
              "[5 rows x 18 columns]"
            ]
          },
          "metadata": {
            "tags": []
          },
          "execution_count": 62
        }
      ]
    },
    {
      "cell_type": "code",
      "metadata": {
        "id": "wbz49W09Ryw5",
        "outputId": "041644b3-926f-4292-d924-6114157882aa",
        "colab": {
          "base_uri": "https://localhost:8080/"
        }
      },
      "source": [
        "input_df = df\n",
        "output_df = df['Close'] \n",
        "print(output_df.tail())\n"
      ],
      "execution_count": 63,
      "outputs": [
        {
          "output_type": "stream",
          "text": [
            "5445    4.140517\n",
            "5446    4.258995\n",
            "5447    4.074382\n",
            "5448    4.146449\n",
            "5449    3.885166\n",
            "Name: Close, dtype: float64\n"
          ],
          "name": "stdout"
        }
      ]
    },
    {
      "cell_type": "code",
      "metadata": {
        "id": "5aVCoOa3W0oE",
        "outputId": "4be2976e-3f16-4f49-ef2a-2fc48e89be0d",
        "colab": {
          "base_uri": "https://localhost:8080/"
        }
      },
      "source": [
        "corr = input_df.corrwith(output_df)\n",
        "corr"
      ],
      "execution_count": 64,
      "outputs": [
        {
          "output_type": "execute_result",
          "data": {
            "text/plain": [
              "f01                     -0.014465\n",
              "f02                     -0.006899\n",
              "f03                     -0.307980\n",
              "f04                      0.001058\n",
              "f05                     -0.357494\n",
              "f06                      0.275631\n",
              "f07                     -0.002334\n",
              "f08                     -0.031491\n",
              "volume_adi               0.669806\n",
              "volume_fi                0.106866\n",
              "volatility_bbm           0.998479\n",
              "trend_macd               0.493306\n",
              "trend_vortex_ind_diff    0.128390\n",
              "momentum_rsi             0.161057\n",
              "Close                    1.000000\n",
              "trend_cci                0.119577\n",
              "volatility_kcw          -0.338955\n",
              "trend_dpo               -0.077812\n",
              "dtype: float64"
            ]
          },
          "metadata": {
            "tags": []
          },
          "execution_count": 64
        }
      ]
    },
    {
      "cell_type": "code",
      "metadata": {
        "id": "suMtod_imd1f",
        "outputId": "03d61a66-f530-4890-b055-8b2313a3fe7b",
        "colab": {
          "base_uri": "https://localhost:8080/"
        }
      },
      "source": [
        "selected_columns = corr[corr>0.1].index.to_list()\n",
        "corr = input_df[selected_columns].corrwith(output_df)\n",
        "corr"
      ],
      "execution_count": 65,
      "outputs": [
        {
          "output_type": "execute_result",
          "data": {
            "text/plain": [
              "f06                      0.275631\n",
              "volume_adi               0.669806\n",
              "volume_fi                0.106866\n",
              "volatility_bbm           0.998479\n",
              "trend_macd               0.493306\n",
              "trend_vortex_ind_diff    0.128390\n",
              "momentum_rsi             0.161057\n",
              "Close                    1.000000\n",
              "trend_cci                0.119577\n",
              "dtype: float64"
            ]
          },
          "metadata": {
            "tags": []
          },
          "execution_count": 65
        }
      ]
    },
    {
      "cell_type": "code",
      "metadata": {
        "id": "A3LhcvbTgjxl"
      },
      "source": [
        "import seaborn as sns\n",
        "from scipy.cluster import hierarchy\n",
        "from scipy.spatial import distance"
      ],
      "execution_count": 66,
      "outputs": []
    },
    {
      "cell_type": "code",
      "metadata": {
        "id": "CPM9qGMaf7Z2",
        "outputId": "2f43222e-894b-4d5b-ce4b-3344804a24c9",
        "colab": {
          "base_uri": "https://localhost:8080/",
          "height": 447
        }
      },
      "source": [
        "corr_matrix = input_df[selected_features].corr()\n",
        "correlations_array = np.asarray(corr_matrix)\n",
        "linkage = hierarchy.linkage(distance.pdist(correlations_array),method='average')\n",
        "g=sns.clustermap(corr_matrix,row_linkage=linkage,col_linkage=linkage,row_cluster=True,col_cluster=True,figsize=(6,6),cmap='Greens')\n",
        "plt.setp(g.ax_heatmap.yaxis.get_majorticklabels(), rotation=0)\n",
        "plt.show()"
      ],
      "execution_count": 67,
      "outputs": [
        {
          "output_type": "display_data",
          "data": {
            "image/png": "[encoded data removed]",
            "text/plain": [
              "<Figure size 432x432 with 4 Axes>"
            ]
          },
          "metadata": {
            "tags": [],
            "needs_background": "light"
          }
        }
      ]
    },
    {
      "cell_type": "code",
      "metadata": {
        "id": "41L9mtH_qIGK",
        "outputId": "b96e81b8-5e9e-4517-c365-095b134729ff",
        "colab": {
          "base_uri": "https://localhost:8080/"
        }
      },
      "source": [
        "#ignore the close input\n",
        "label_order = corr_matrix.iloc[:,g.dendrogram_row.reordered_ind].columns\n",
        "print(\"Correlation Strength\")\n",
        "print(corr[corr>0.1].sort_values(ascending=False))"
      ],
      "execution_count": 68,
      "outputs": [
        {
          "output_type": "stream",
          "text": [
            "Correlation Strength\n",
            "Close                    1.000000\n",
            "volatility_bbm           0.998479\n",
            "volume_adi               0.669806\n",
            "trend_macd               0.493306\n",
            "f06                      0.275631\n",
            "momentum_rsi             0.161057\n",
            "trend_vortex_ind_diff    0.128390\n",
            "trend_cci                0.119577\n",
            "volume_fi                0.106866\n",
            "dtype: float64\n"
          ],
          "name": "stdout"
        }
      ]
    },
    {
      "cell_type": "code",
      "metadata": {
        "id": "yQYi-uMqsKks",
        "outputId": "2bd73892-c505-4e0e-ccab-7796936bc8af",
        "colab": {
          "base_uri": "https://localhost:8080/",
          "height": 215
        }
      },
      "source": [
        "input_df.head()"
      ],
      "execution_count": 69,
      "outputs": [
        {
          "output_type": "execute_result",
          "data": {
            "text/html": [
              "<div>\n",
              "<style scoped>\n",
              "    .dataframe tbody tr th:only-of-type {\n",
              "        vertical-align: middle;\n",
              "    }\n",
              "\n",
              "    .dataframe tbody tr th {\n",
              "        vertical-align: top;\n",
              "    }\n",
              "\n",
              "    .dataframe thead th {\n",
              "        text-align: right;\n",
              "    }\n",
              "</style>\n",
              "<table border=\"1\" class=\"dataframe\">\n",
              "  <thead>\n",
              "    <tr style=\"text-align: right;\">\n",
              "      <th></th>\n",
              "      <th>f01</th>\n",
              "      <th>f02</th>\n",
              "      <th>f03</th>\n",
              "      <th>f04</th>\n",
              "      <th>f05</th>\n",
              "      <th>f06</th>\n",
              "      <th>f07</th>\n",
              "      <th>f08</th>\n",
              "      <th>volume_adi</th>\n",
              "      <th>volume_fi</th>\n",
              "      <th>volatility_bbm</th>\n",
              "      <th>trend_macd</th>\n",
              "      <th>trend_vortex_ind_diff</th>\n",
              "      <th>momentum_rsi</th>\n",
              "      <th>Close</th>\n",
              "      <th>trend_cci</th>\n",
              "      <th>volatility_kcw</th>\n",
              "      <th>trend_dpo</th>\n",
              "    </tr>\n",
              "  </thead>\n",
              "  <tbody>\n",
              "    <tr>\n",
              "      <th>1</th>\n",
              "      <td>0.068598</td>\n",
              "      <td>0.328393</td>\n",
              "      <td>1.557143</td>\n",
              "      <td>-0.446370</td>\n",
              "      <td>1.776451</td>\n",
              "      <td>0.059130</td>\n",
              "      <td>0.992873</td>\n",
              "      <td>0.006873</td>\n",
              "      <td>-1.323627</td>\n",
              "      <td>1.304182</td>\n",
              "      <td>-0.552371</td>\n",
              "      <td>-0.216857</td>\n",
              "      <td>-0.169125</td>\n",
              "      <td>3.805619</td>\n",
              "      <td>-0.549125</td>\n",
              "      <td>0.414785</td>\n",
              "      <td>0.795541</td>\n",
              "      <td>14.040357</td>\n",
              "    </tr>\n",
              "    <tr>\n",
              "      <th>2</th>\n",
              "      <td>-1.269346</td>\n",
              "      <td>1.129127</td>\n",
              "      <td>1.795312</td>\n",
              "      <td>0.438790</td>\n",
              "      <td>1.818892</td>\n",
              "      <td>-0.284740</td>\n",
              "      <td>-1.011634</td>\n",
              "      <td>-0.051733</td>\n",
              "      <td>-1.331335</td>\n",
              "      <td>1.033589</td>\n",
              "      <td>-0.552031</td>\n",
              "      <td>-0.209260</td>\n",
              "      <td>-0.166759</td>\n",
              "      <td>1.741418</td>\n",
              "      <td>-0.550806</td>\n",
              "      <td>0.223504</td>\n",
              "      <td>1.228033</td>\n",
              "      <td>14.031855</td>\n",
              "    </tr>\n",
              "    <tr>\n",
              "      <th>3</th>\n",
              "      <td>-0.211353</td>\n",
              "      <td>-0.822848</td>\n",
              "      <td>0.857027</td>\n",
              "      <td>-1.421134</td>\n",
              "      <td>1.621932</td>\n",
              "      <td>-0.588367</td>\n",
              "      <td>-1.011634</td>\n",
              "      <td>-0.110338</td>\n",
              "      <td>-1.326279</td>\n",
              "      <td>0.844750</td>\n",
              "      <td>-0.552158</td>\n",
              "      <td>-0.207181</td>\n",
              "      <td>-0.206471</td>\n",
              "      <td>0.770052</td>\n",
              "      <td>-0.551974</td>\n",
              "      <td>-0.409987</td>\n",
              "      <td>1.073716</td>\n",
              "      <td>14.035018</td>\n",
              "    </tr>\n",
              "    <tr>\n",
              "      <th>4</th>\n",
              "      <td>1.558545</td>\n",
              "      <td>-0.136713</td>\n",
              "      <td>0.375571</td>\n",
              "      <td>-0.474594</td>\n",
              "      <td>1.425601</td>\n",
              "      <td>0.409206</td>\n",
              "      <td>0.992873</td>\n",
              "      <td>-0.051733</td>\n",
              "      <td>-1.316649</td>\n",
              "      <td>0.788889</td>\n",
              "      <td>-0.551380</td>\n",
              "      <td>-0.192900</td>\n",
              "      <td>-0.182853</td>\n",
              "      <td>1.926064</td>\n",
              "      <td>-0.547771</td>\n",
              "      <td>0.296035</td>\n",
              "      <td>1.043723</td>\n",
              "      <td>14.015562</td>\n",
              "    </tr>\n",
              "    <tr>\n",
              "      <th>5</th>\n",
              "      <td>-1.355983</td>\n",
              "      <td>1.426719</td>\n",
              "      <td>0.494993</td>\n",
              "      <td>0.105802</td>\n",
              "      <td>1.145867</td>\n",
              "      <td>-0.667464</td>\n",
              "      <td>-1.011634</td>\n",
              "      <td>-0.110338</td>\n",
              "      <td>-1.324221</td>\n",
              "      <td>0.587898</td>\n",
              "      <td>-0.551509</td>\n",
              "      <td>-0.193973</td>\n",
              "      <td>-0.171000</td>\n",
              "      <td>0.210272</td>\n",
              "      <td>-0.551600</td>\n",
              "      <td>0.129010</td>\n",
              "      <td>1.006646</td>\n",
              "      <td>14.018805</td>\n",
              "    </tr>\n",
              "  </tbody>\n",
              "</table>\n",
              "</div>"
            ],
            "text/plain": [
              "        f01       f02       f03  ...  trend_cci  volatility_kcw  trend_dpo\n",
              "1  0.068598  0.328393  1.557143  ...   0.414785        0.795541  14.040357\n",
              "2 -1.269346  1.129127  1.795312  ...   0.223504        1.228033  14.031855\n",
              "3 -0.211353 -0.822848  0.857027  ...  -0.409987        1.073716  14.035018\n",
              "4  1.558545 -0.136713  0.375571  ...   0.296035        1.043723  14.015562\n",
              "5 -1.355983  1.426719  0.494993  ...   0.129010        1.006646  14.018805\n",
              "\n",
              "[5 rows x 18 columns]"
            ]
          },
          "metadata": {
            "tags": []
          },
          "execution_count": 69
        }
      ]
    },
    {
      "cell_type": "markdown",
      "metadata": {
        "id": "8BO9Z0gp-iVG"
      },
      "source": [
        "# **Backtesting and prediction loop**"
      ]
    },
    {
      "cell_type": "code",
      "metadata": {
        "id": "ZF5XcFHiDeg7"
      },
      "source": [
        "series = input_df\n",
        "output = output_df\n",
        "X = series.values\n",
        "n_train = 504\n",
        "n_records = len(X)\n",
        "acc_results = output[504:len(X)]\n",
        "def model_train(model):\n",
        "  prediction = np.empty(shape=(0,0))\n",
        "  for i in range(n_train, n_records):\n",
        "    train_x,test_x=X[(i-n_train)+0:i],X[i:i+1]\n",
        "    train_y,test_y=output[(i-n_train)+0:i],output[i:i+1]\n",
        "    model.fit(train_x,train_y)\n",
        "    pred_value = model.predict(test_x)\n",
        "    prediction = np.append(prediction,pred_value)\n",
        "  return prediction"
      ],
      "execution_count": 124,
      "outputs": []
    },
    {
      "cell_type": "markdown",
      "metadata": {
        "id": "LxG82U2Z_NLp"
      },
      "source": [
        "###**defining models**"
      ]
    },
    {
      "cell_type": "code",
      "metadata": {
        "id": "wzkRADuQ_PGU",
        "outputId": "12bf49d5-ec23-493d-a46a-e23ec24b77ca",
        "colab": {
          "base_uri": "https://localhost:8080/"
        }
      },
      "source": [
        "from sklearn.tree import DecisionTreeRegressor\n",
        "regression_tree_model = DecisionTreeRegressor(criterion='friedman_mse',\n",
        "                                              max_depth=10,\n",
        "                                              min_samples_leaf=50)\n",
        "regression_tree_model.fit(train_x,train_y)\n",
        "pred_value = regression_tree_model.predict(test_x)\n",
        "value = pred_value-test_y\n",
        "pred_value"
      ],
      "execution_count": 123,
      "outputs": [
        {
          "output_type": "execute_result",
          "data": {
            "text/plain": [
              "array([3.48586609])"
            ]
          },
          "metadata": {
            "tags": []
          },
          "execution_count": 123
        }
      ]
    },
    {
      "cell_type": "code",
      "metadata": {
        "id": "JJDFNyIuH_dv",
        "outputId": "1301f8aa-1055-4b24-b2f9-5675e9a82209",
        "colab": {
          "base_uri": "https://localhost:8080/"
        }
      },
      "source": [
        "predictions = model_train(regression_tree_model)\n",
        "predictions"
      ],
      "execution_count": 122,
      "outputs": [
        {
          "output_type": "execute_result",
          "data": {
            "text/plain": [
              "array([-0.62298818, -0.62311903, -0.62323706, ...,  4.18038867,\n",
              "        4.17867888,  3.48586609])"
            ]
          },
          "metadata": {
            "tags": []
          },
          "execution_count": 122
        }
      ]
    },
    {
      "cell_type": "code",
      "metadata": {
        "id": "ktV6dDTHJkgy",
        "outputId": "eb766dd8-011c-4e5b-fa49-078d35452f93",
        "colab": {
          "base_uri": "https://localhost:8080/"
        }
      },
      "source": [
        "from sklearn.metrics import mean_squared_error\n",
        "tree_mse = mean_squared_error(acc_results,predictions)\n",
        "tree_rmse = np.sqrt(tree_mse)\n",
        "tree_rmse"
      ],
      "execution_count": 130,
      "outputs": [
        {
          "output_type": "execute_result",
          "data": {
            "text/plain": [
              "0.10817829495685913"
            ]
          },
          "metadata": {
            "tags": []
          },
          "execution_count": 130
        }
      ]
    },
    {
      "cell_type": "code",
      "metadata": {
        "id": "S2dltWGBQyCP"
      },
      "source": [
        ""
      ],
      "execution_count": null,
      "outputs": []
    }
  ]
}