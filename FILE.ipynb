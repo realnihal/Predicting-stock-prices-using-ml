{
  "nbformat": 4,
  "nbformat_minor": 0,
  "metadata": {
    "kernelspec": {
      "display_name": "Python 3",
      "language": "python",
      "name": "python3"
    },
    "language_info": {
      "codemirror_mode": {
        "name": "ipython",
        "version": 3
      },
      "file_extension": ".py",
      "mimetype": "text/x-python",
      "name": "python",
      "nbconvert_exporter": "python",
      "pygments_lexer": "ipython3",
      "version": "3.7.9"
    },
    "colab": {
      "name": "FILE.ipynb",
      "provenance": [],
      "include_colab_link": true
    },
    "accelerator": "GPU"
  },
  "cells": [
    {
      "cell_type": "markdown",
      "metadata": {
        "id": "view-in-github",
        "colab_type": "text"
      },
      "source": [
        "<a href=\"https://colab.research.google.com/github/realnihal/Predicting-stock-prices-using-ml/blob/main/FILE.ipynb\" target=\"_parent\"><img src=\"https://colab.research.google.com/assets/colab-badge.svg\" alt=\"Open In Colab\"/></a>"
      ]
    },
    {
      "cell_type": "code",
      "metadata": {
        "id": "33L8XsVafnR0"
      },
      "source": [
        "from datetime import datetime\n",
        "import pandas as pd\n",
        "import pandas_datareader.data as web\n",
        "import matplotlib.pyplot as plt"
      ],
      "execution_count": 1,
      "outputs": []
    },
    {
      "cell_type": "markdown",
      "metadata": {
        "id": "ewmxjdrtiOPH"
      },
      "source": [
        "#**Getting** **basic** data"
      ]
    },
    {
      "cell_type": "code",
      "metadata": {
        "id": "sln8ahPlfnR3"
      },
      "source": [
        "start = datetime(1999, 3, 9)\n",
        "end = datetime.today()\n",
        "yahoo = web.DataReader('AMZN','yahoo',start=start,end=end)\n",
        "yahoo.info\n",
        "data = yahoo"
      ],
      "execution_count": 2,
      "outputs": []
    },
    {
      "cell_type": "code",
      "metadata": {
        "id": "eplIDO1efnR7",
        "outputId": "fcd18d80-be0e-4cb8-ff47-4be428c491b2",
        "colab": {
          "base_uri": "https://localhost:8080/",
          "height": 235
        }
      },
      "source": [
        "data.to_csv('DATA.csv')\n",
        "data.head()"
      ],
      "execution_count": 3,
      "outputs": [
        {
          "output_type": "execute_result",
          "data": {
            "text/html": [
              "<div>\n",
              "<style scoped>\n",
              "    .dataframe tbody tr th:only-of-type {\n",
              "        vertical-align: middle;\n",
              "    }\n",
              "\n",
              "    .dataframe tbody tr th {\n",
              "        vertical-align: top;\n",
              "    }\n",
              "\n",
              "    .dataframe thead th {\n",
              "        text-align: right;\n",
              "    }\n",
              "</style>\n",
              "<table border=\"1\" class=\"dataframe\">\n",
              "  <thead>\n",
              "    <tr style=\"text-align: right;\">\n",
              "      <th></th>\n",
              "      <th>High</th>\n",
              "      <th>Low</th>\n",
              "      <th>Open</th>\n",
              "      <th>Close</th>\n",
              "      <th>Volume</th>\n",
              "      <th>Adj Close</th>\n",
              "    </tr>\n",
              "    <tr>\n",
              "      <th>Date</th>\n",
              "      <th></th>\n",
              "      <th></th>\n",
              "      <th></th>\n",
              "      <th></th>\n",
              "      <th></th>\n",
              "      <th></th>\n",
              "    </tr>\n",
              "  </thead>\n",
              "  <tbody>\n",
              "    <tr>\n",
              "      <th>1999-03-09</th>\n",
              "      <td>66.62500</td>\n",
              "      <td>61.71875</td>\n",
              "      <td>62.5625</td>\n",
              "      <td>64.96875</td>\n",
              "      <td>16292000.0</td>\n",
              "      <td>64.96875</td>\n",
              "    </tr>\n",
              "    <tr>\n",
              "      <th>1999-03-10</th>\n",
              "      <td>69.46875</td>\n",
              "      <td>67.00000</td>\n",
              "      <td>68.3750</td>\n",
              "      <td>68.56250</td>\n",
              "      <td>14117600.0</td>\n",
              "      <td>68.56250</td>\n",
              "    </tr>\n",
              "    <tr>\n",
              "      <th>1999-03-11</th>\n",
              "      <td>71.37500</td>\n",
              "      <td>65.50000</td>\n",
              "      <td>69.8750</td>\n",
              "      <td>67.43750</td>\n",
              "      <td>16252200.0</td>\n",
              "      <td>67.43750</td>\n",
              "    </tr>\n",
              "    <tr>\n",
              "      <th>1999-03-12</th>\n",
              "      <td>67.68750</td>\n",
              "      <td>64.31250</td>\n",
              "      <td>67.0000</td>\n",
              "      <td>66.65625</td>\n",
              "      <td>9332600.0</td>\n",
              "      <td>66.65625</td>\n",
              "    </tr>\n",
              "    <tr>\n",
              "      <th>1999-03-15</th>\n",
              "      <td>69.50000</td>\n",
              "      <td>65.50000</td>\n",
              "      <td>66.5000</td>\n",
              "      <td>69.46875</td>\n",
              "      <td>7020800.0</td>\n",
              "      <td>69.46875</td>\n",
              "    </tr>\n",
              "  </tbody>\n",
              "</table>\n",
              "</div>"
            ],
            "text/plain": [
              "                High       Low     Open     Close      Volume  Adj Close\n",
              "Date                                                                    \n",
              "1999-03-09  66.62500  61.71875  62.5625  64.96875  16292000.0   64.96875\n",
              "1999-03-10  69.46875  67.00000  68.3750  68.56250  14117600.0   68.56250\n",
              "1999-03-11  71.37500  65.50000  69.8750  67.43750  16252200.0   67.43750\n",
              "1999-03-12  67.68750  64.31250  67.0000  66.65625   9332600.0   66.65625\n",
              "1999-03-15  69.50000  65.50000  66.5000  69.46875   7020800.0   69.46875"
            ]
          },
          "metadata": {
            "tags": []
          },
          "execution_count": 3
        }
      ]
    },
    {
      "cell_type": "code",
      "metadata": {
        "id": "6W3dBOoofnR-",
        "outputId": "bc670810-3f62-4f14-a08d-fe36c76a69e9",
        "colab": {
          "base_uri": "https://localhost:8080/",
          "height": 320
        }
      },
      "source": [
        "df = data.reset_index()['Close']\n",
        "plt.figure(figsize = (14,5))\n",
        "plt.plot(df)\n",
        "plt.show()"
      ],
      "execution_count": 4,
      "outputs": [
        {
          "output_type": "display_data",
          "data": {
            "image/png": "[encoded data removed]",
            "text/plain": [
              "<Figure size 1008x360 with 1 Axes>"
            ]
          },
          "metadata": {
            "tags": [],
            "needs_background": "light"
          }
        }
      ]
    },
    {
      "cell_type": "markdown",
      "metadata": {
        "id": "pbSaP-K_ia7f"
      },
      "source": [
        "#**Getting more fundamental data**"
      ]
    },
    {
      "cell_type": "code",
      "metadata": {
        "id": "VwE9IBZmfnSH"
      },
      "source": [
        ""
      ],
      "execution_count": 4,
      "outputs": []
    },
    {
      "cell_type": "code",
      "metadata": {
        "id": "YHDycxt5fnSK"
      },
      "source": [
        ""
      ],
      "execution_count": 4,
      "outputs": []
    }
  ]
}